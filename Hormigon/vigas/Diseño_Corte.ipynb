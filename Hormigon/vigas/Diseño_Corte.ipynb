{
 "cells": [
  {
   "cell_type": "markdown",
   "metadata": {},
   "source": [
    "# Diseño a cortante en vigas"
   ]
  },
  {
   "cell_type": "code",
   "execution_count": 81,
   "metadata": {},
   "outputs": [],
   "source": [
    "import numpy as np\n",
    "import Varillas as Var\n",
    "\n",
    "# 1. Calcule el esfuerzo cortante factorizado, Vu, a partir de las fuerzas aplicadas que actúan sobre el elemento estructural. \n",
    "#    El valor crítico del esfuerzo cortante de cálculo se encuentra en una sección situada a una distancia d de la cara del apoyo.\n",
    "\n",
    "Vu = 39.833 #Tonf\n",
    "\n",
    "# 2. Revisión de limites de sección."
   ]
  },
  {
   "cell_type": "markdown",
   "metadata": {},
   "source": [
    "Para el $A_{v,min}$, Verificar si se cumple:\n",
    "\n",
    "\\begin{align*}\n",
    "Vu > 0,27 \\phi \\lambda \\sqrt{f'_{c}} \\ b_{w} \\ d\n",
    "\\end{align*}"
   ]
  },
  {
   "cell_type": "code",
   "execution_count": 82,
   "metadata": {},
   "outputs": [
    {
     "name": "stdout",
     "output_type": "stream",
     "text": [
      "Vu es menor (0.27*... = 7.721071155465414 < 39.833), por tanto, utilizar tabla 9.6.3.4\n"
     ]
    }
   ],
   "source": [
    "phi = 0.9\n",
    "lmbd = 1  #Para hormigón de densidad mayor a 2160 kgf/m3 (Ver ACI 19.2.4.1).\n",
    "fc = 240 #kgf/cm2\n",
    "rec = 4 #cm\n",
    "destribo = 1.2 #cm\n",
    "dvar = 2.4 #cm\n",
    "h = 65 #cm\n",
    "bw = 35 #cm\n",
    "d = h - rec - destribo - (0.5*dvar) #cm\n",
    "\n",
    "if (Vu*1000) > (0.27*phi*lmbd*np.sqrt(fc)*bw*d):\n",
    "    print(f'Vu es menor (0.27*... = {0.27*phi*lmbd*np.sqrt(fc)*bw*d*0.001} < {Vu}), por tanto, utilizar tabla 9.6.3.4')\n",
    "else:\n",
    "    print(f'Vu es mayor, (0.27*... = {0.27*phi*lmbd*np.sqrt(fc)*bw*d*0.001} > {Vu}),  por tanto, utilizar tabla 9.6.3.1')"
   ]
  },
  {
   "cell_type": "markdown",
   "metadata": {},
   "source": [
    "Si en caso, no cumple, utilizar la tabla 9.6.3.1 de la ACI.\n",
    "\n",
    "<img src='./Images/Cortante1.PNG'>\n",
    "\n",
    "Si en caso, cumple, utilizar la tabla 9.6.3.4 de la ACI.\n",
    "\n",
    "<img src='./Images/Cortante2.PNG'>"
   ]
  },
  {
   "cell_type": "markdown",
   "metadata": {},
   "source": [
    "#### Equivalencias\n",
    "\n",
    "<img src='./Images/Cortante3.PNG'>"
   ]
  },
  {
   "cell_type": "code",
   "execution_count": 83,
   "metadata": {},
   "outputs": [
    {
     "name": "stdout",
     "output_type": "stream",
     "text": [
      "Avmin = 0.2916666666666667 cm2\n"
     ]
    }
   ],
   "source": [
    "# Calculo del Avmin\n",
    "\n",
    "s = 10 #cm\n",
    "fyt = 4200 #kgf/cm2, Límite elástico MAXIMO permisible especificado de la armadura transversal\n",
    "Avmin = max(((0.2*np.sqrt(fc)*bw*s/fyt),(3.5*(bw*s)/fyt)))\n",
    "print(f'Avmin = {Avmin} cm2')"
   ]
  },
  {
   "cell_type": "markdown",
   "metadata": {},
   "source": [
    "## Calculo de acero requerido\n",
    "\n",
    "Utilizamos la ACI 22.5.5.1\n",
    "\n",
    "<img src='./Images/Cortante4.PNG'>\n",
    "\n",
    "#### Equivalencias\n",
    "\n",
    "<img src='./Images/Cortante5.PNG'>"
   ]
  },
  {
   "cell_type": "code",
   "execution_count": 84,
   "metadata": {},
   "outputs": [
    {
     "name": "stdout",
     "output_type": "stream",
     "text": [
      "Se necesita acero transversal para cubrir a demanda a corte (φVc = 15.156176712580251 tonf, Vu = 39.833 tonf), Vs = 27.418692541577496 Tonf.\n"
     ]
    }
   ],
   "source": [
    "Nu = 0 #Tonf (Positivo a compresion y negativo a tensión)\n",
    "Ag = h*bw #cm2\n",
    "pw = 0.013\n",
    "\n",
    "#Asumimos que As >= Asmin, entonces\n",
    "phiVc = ((0.53*lmbd*np.sqrt(fc)) + (Nu/(6*Ag)))*bw*d*phi/1000 #Tonf\n",
    "if phiVc > Vu:\n",
    "    print(f'No se necesita refuerzo a corte, el hormigón resiste la demanda a corte (\\u03C6Vc = {phiVc} tonf, Vu = {Vu} tonf). Colocar Avmin aún así.')\n",
    "elif phiVc > Vu and Vu > (0.27*phi*lmbd*np.sqrt(fc)*bw*d):\n",
    "    print('Es necesario únicamente el Avmin para resistir la demanda a corte. (\\u03C6Vc = {phiVc} tonf, Vu = {Vu} tonf)')\n",
    "elif Vu > phiVc:\n",
    "    Vs = (Vu - phiVc)/phi\n",
    "    print(f'Se necesita acero transversal para cubrir a demanda a corte (\\u03C6Vc = {phiVc} tonf, Vu = {Vu} tonf), Vs = {Vs} Tonf.')"
   ]
  },
  {
   "cell_type": "markdown",
   "metadata": {},
   "source": [
    "Selección de sección:\n",
    "Para evitar un fallo por cizallamiento-compresión, en el que el hormigón puede aplastarse debido a las elevadas tensiones de cizallamiento y compresión en la región crítica en la parte superior de una fisura diagonal, el Código ACI, Sección 22.5.1.2, exige que Vs no supere (8√f ′c )b𝑤d. Si Vs supera este valor, la sección debe aumentarse. Basándose en esta limitación,\n",
    "\n",
    "<img src='./Images/cortante7.PNG'>\n",
    "\n",
    "Equivalencia\n",
    "\n",
    "<img src='./Images/cortante6.PNG'>"
   ]
  },
  {
   "cell_type": "code",
   "execution_count": 85,
   "metadata": {},
   "outputs": [
    {
     "name": "stdout",
     "output_type": "stream",
     "text": [
      "La sección cumple con el parámetro, Vs < 2.2*np.sqrt(fc)*bw*d, (27.418692541577496 < 69.90270181902844), no cambiar la sección\n"
     ]
    }
   ],
   "source": [
    "# Verificar si la variable ha sido definida\n",
    "if 'Vs' in locals() or 'Vs' in globals():\n",
    "    if Vs*1000 > 2.2*np.sqrt(fc)*bw*d:\n",
    "        print(f'Es necesario aumentar la sección para evitar fallo por cizallamiento-compresión. Vs > 2.2*np.sqrt(fc)*bw*d, ({Vs} > {2.2*np.sqrt(fc)*bw*d})')\n",
    "    else:\n",
    "        print(f'La sección cumple con el parámetro, Vs < 2.2*np.sqrt(fc)*bw*d, ({Vs} < {2.2*np.sqrt(fc)*bw*d*0.001}), no cambiar la sección')\n",
    "else:\n",
    "    pass\n"
   ]
  },
  {
   "cell_type": "markdown",
   "metadata": {},
   "source": [
    "### Espaciamientos\n",
    "\n",
    "Utilizar parámetros de la ACI 9.7.6.2.2\n",
    "\n",
    "<img src='./Images/Cortante8.PNG'>\n",
    "\n",
    "Equivalencias\n",
    "\n",
    "<img src='./Images/cortante9.PNG'>"
   ]
  },
  {
   "cell_type": "code",
   "execution_count": 86,
   "metadata": {},
   "outputs": [
    {
     "name": "stdout",
     "output_type": "stream",
     "text": [
      "El espaciamiento maximo longitudinal es: 29.299999999999997 cm\n",
      "El espaciamiento maximo en ancho es: 58.599999999999994 cm\n"
     ]
    }
   ],
   "source": [
    "if Vs*1000 <= (1.1*np.sqrt(fc)*bw*d):\n",
    "    smax_l = min((d/2), 60)\n",
    "    smax_w = min((d), 60)\n",
    "    print(f'El espaciamiento maximo longitudinal es: {smax_l} cm')\n",
    "    print(f'El espaciamiento maximo en ancho es: {smax_w} cm')\n",
    "else:\n",
    "    smax_l = min((d/4), 30)\n",
    "    smax_w = min((d/2), 30)\n",
    "    print(f'El espaciamiento maximo longitudinal es: {smax_l} cm')\n",
    "    print(f'El espaciamiento maximo en ancho es: {smax_w} cm')"
   ]
  },
  {
   "cell_type": "code",
   "execution_count": 87,
   "metadata": {},
   "outputs": [
    {
     "name": "stdout",
     "output_type": "stream",
     "text": [
      "Espaciamiento real s = 20.30404343915754 cm\n",
      "Espaciamiento maximo smax = 29.299999999999997 cm\n",
      "Espaciamiento s = 20.30404343915754 cm\n",
      "ACI no especifica un espaciamiento mínimo. Considerar como espaciamiento mínimo 7.5cm\n"
     ]
    }
   ],
   "source": [
    "Av = 2*(np.pi*(destribo**2)*0.25) #cm2 (Tomar en cuenta cuántos estribos por sección)\n",
    "s = Av*fyt*d/(Vs*1000)\n",
    "if s < smax_l:\n",
    "    print(f'Espaciamiento real s = {Av*fyt*d/(Vs*1000)} cm')\n",
    "    print(f'Espaciamiento maximo smax = {smax_l} cm')\n",
    "    print(f'Espaciamiento s = {s} cm')\n",
    "else:\n",
    "    s = smax_l\n",
    "    print(f'Espaciamiento real s = {Av*fyt*d/(Vs*1000)} cm')\n",
    "    print(f'Espaciamiento maximo smax = {smax_l} cm')\n",
    "    print(f'Espaciamiento s = {s} cm')\n",
    "\n",
    "print(f'ACI no especifica un espaciamiento mínimo. Considerar como espaciamiento mínimo 7.5cm')"
   ]
  }
 ],
 "metadata": {
  "kernelspec": {
   "display_name": "Python 3",
   "language": "python",
   "name": "python3"
  },
  "language_info": {
   "codemirror_mode": {
    "name": "ipython",
    "version": 3
   },
   "file_extension": ".py",
   "mimetype": "text/x-python",
   "name": "python",
   "nbconvert_exporter": "python",
   "pygments_lexer": "ipython3",
   "version": "3.12.0"
  }
 },
 "nbformat": 4,
 "nbformat_minor": 2
}
