{
 "cells": [
  {
   "cell_type": "markdown",
   "metadata": {},
   "source": [
    "## Diseño de Viga Simplemente Armada"
   ]
  },
  {
   "cell_type": "markdown",
   "metadata": {},
   "source": [
    "<img src='./Images/vigas1.png'>"
   ]
  },
  {
   "cell_type": "code",
   "execution_count": 1,
   "metadata": {},
   "outputs": [
    {
     "name": "stdout",
     "output_type": "stream",
     "text": [
      "El bmin es: 0.12 m\n",
      "El bmax es: 1.35 m\n"
     ]
    }
   ],
   "source": [
    "import numpy as np\n",
    "import sympy as sp\n",
    "\n",
    "#Para condiciones no sísmicas\n",
    "\n",
    "fy = 4200 #kgf/cm2\n",
    "\n",
    "#En condiciones Sísmicas (SDC D (Ecuador))\n",
    "\n",
    "# bmin debe ser el menor entre 0.3h & 10inch o 25.4cm\n",
    "# bmax debe ser el menor entre 3c2 y c2 + 1.5c1 \n",
    "# Ver las consideraciones de la ACI 18.6.2\n",
    "\n",
    "h1 = 0.4 #Seleccionar una altura h de viga arbitraria\n",
    "c1 = 0.5 #Lado paralelo a la viga en cuestión\n",
    "c2 = 0.6 #Lado perpendicular a la viga en cuestión\n",
    "\n",
    "bmin = min((0.3*h1), 25.4)\n",
    "bmax = min((3*c2), (c2 + (1.5*c1)))\n",
    "print(f'El bmin es: {bmin} m')\n",
    "print(f'El bmax es: {bmax} m')"
   ]
  },
  {
   "cell_type": "code",
   "execution_count": 2,
   "metadata": {},
   "outputs": [
    {
     "name": "stdout",
     "output_type": "stream",
     "text": [
      "El bmin es: 0.12 m\n",
      "El bmax es: 0.375 m\n"
     ]
    }
   ],
   "source": [
    "# Para el caso descrito en la figura\n",
    "\n",
    "bmin = min((0.3*h1), 25.4)\n",
    "bmax = min(c2, (0.75*c1))\n",
    "print(f'El bmin es: {bmin} m')\n",
    "print(f'El bmax es: {bmax} m')"
   ]
  },
  {
   "cell_type": "markdown",
   "metadata": {},
   "source": [
    "<img src='./Images/vigas2.png'>"
   ]
  },
  {
   "cell_type": "markdown",
   "metadata": {},
   "source": [
    "Design of Beams When Section Dimensions Are Not Known\n",
    "\n",
    "The second general type of section design problem involves finding b, d, and As . Three decisions\n",
    "not encountered in Example 5-4 must be made here, that is, a preliminary estimate\n",
    "of the self weight of the beam, selection of a target steel percentage, and final selection of\n",
    "the section dimensions b and h (and d ).\n",
    "Although no dependable rule exists for guessing the weight of beams prior to selection\n",
    "of the dimensions, the weight of a rectangular beam will be roughly 10 to 15 percent\n",
    "of the unfactored loads it must carry. Alternatively, one can estimate h as being between\n",
    "1/18 and 1/12 of the span, as discussed previously. Past practice at this stage was to estimate\n",
    "b as approximately 0.5h. However, to save form-work costs, it is becoming more\n",
    "common to select the beam width equal to the column width if that dimension is known at\n",
    "this stage of the design. Even if the column width has not yet been determined, it is probably\n",
    "better to assume\n",
    "a wider beam width—say b at approximately 0.8 h—when estimating\n",
    "the weight of the beam. The dead load estimated at this stage will be corrected when the\n",
    "section dimensions are finally chosen, if necessary. (McGregor & White, p. 196)"
   ]
  },
  {
   "cell_type": "code",
   "execution_count": 3,
   "metadata": {},
   "outputs": [
    {
     "name": "stdout",
     "output_type": "stream",
     "text": [
      "pmin = 0.0033333333333333335\n",
      "pbal = 0.021249999999999998\n",
      "pmax = 0.013379629629629632\n",
      "pt = 0.012041666666666666\n"
     ]
    }
   ],
   "source": [
    "phi = 0.9\n",
    "fy = 4200 #kg/cm2\n",
    "fc = 210 #kg/cm2\n",
    "Es = 2000000 #kg/cm2\n",
    "\n",
    "if fc <= 280:\n",
    "    B1 = 0.85\n",
    "elif fc > 280 and fc <= 560:\n",
    "    B1 = 0.85 - (0.05*((fc-280)/70))\n",
    "elif fc > 560:\n",
    "    B1 = 0.65\n",
    "\n",
    "eu = 0.003\n",
    "ey = fy/Es\n",
    "ety = 0.006 #ACI (For Tension controled members)\n",
    "\n",
    "#cuantías\n",
    "pmin = max((0.8*np.sqrt(fc)/fy), (14/fy))\n",
    "pbal = 0.85*B1*(fc/fy)*(eu/(eu + ey)) \n",
    "pt = ((eu+ey)/(eu+ety)) * pbal\n",
    "pmax = ((eu+ey)/(0.006+ey)) * pbal\n",
    "\n",
    "print(f'pmin = {pmin}')\n",
    "print(f'pbal = {pbal}')\n",
    "print(f'pmax = {pmax}')\n",
    "print(f'pt = {pt}')"
   ]
  },
  {
   "cell_type": "markdown",
   "metadata": {},
   "source": [
    "<img src='./Images/vigas3.PNG'>"
   ]
  },
  {
   "cell_type": "markdown",
   "metadata": {},
   "source": [
    "### Diseño de viga simplemente armada"
   ]
  },
  {
   "cell_type": "code",
   "execution_count": 4,
   "metadata": {},
   "outputs": [
    {
     "name": "stdout",
     "output_type": "stream",
     "text": [
      "La Altura mínima h de la viga es: 0.34108571428571427 m.\n",
      "\n",
      "φMn: 40.0 Tonf*m\n",
      "Mu: 40 Tonf*m\n",
      "\n",
      "La altura h es: 0.65 m\n",
      "El ancho b es: 0.35000000000000003 m\n",
      "\n",
      "Wu: 1.3665504810729237 Tonf\n"
     ]
    },
    {
     "data": {
      "text/plain": [
       "'\"Se debe hacer unas combinaciones que consideren las cargas sísmicas de acuerdo a la NEC\"\\nVerificar también cuál es el ancho mínimo considerado de acuerdo a la NEC'"
      ]
     },
     "execution_count": 4,
     "metadata": {},
     "output_type": "execute_result"
    }
   ],
   "source": [
    "#1: Simply Supported\n",
    "#2: One end Continuous\n",
    "#3: Both ends Continuous\n",
    "#4: Cantilever\n",
    "\n",
    "TipoViga = 3\n",
    "l = 7.1628 #m (Longitud de vano)\n",
    "f1 = 0.4+(fy/7000)\n",
    "\n",
    "#Altura mínima (Para concreto de eso normal)\n",
    "if TipoViga == 1:\n",
    "    h = (l/16)*f1\n",
    "elif TipoViga == 2:\n",
    "    h = (l/18.5)*f1\n",
    "elif TipoViga == 3:\n",
    "    h = (l/21)*f1\n",
    "elif TipoViga == 4:\n",
    "    h = (l/8)*f1\n",
    "\n",
    "print(f'La Altura mínima h de la viga es: {h} m.')\n",
    "\n",
    "Mu = 40 #En Tonf*m\n",
    "destribo = 0.01 #m\n",
    "rec = 0.04 #m\n",
    "R = pt*fy*(1 - (0.588*(pt*fy/fc)))*10 #*10 para pasar de kg/cm2 a Tonf/m2\n",
    "varillas_asum = 0.016 #m Asumimos una varillas de 16cm de diametro.\n",
    "d = h - rec - destribo - (varillas_asum / 2)\n",
    "#b = 0.75*h\n",
    "#d = h - rec - destribo - (varillas_asum/2)\n",
    "#Mn = R*b*(d**2)\n",
    "\n",
    "while True:\n",
    "    d = h - rec - destribo - (varillas_asum / 2)\n",
    "    b = Mu/((d**2)*R*phi)\n",
    "    phiMn = phi * R * b * (d ** 2)\n",
    "    \n",
    "    if phiMn >= Mu and h > (b*2): #Verificar cuál es la relación que establece la NEC\n",
    "        break  # Rompe el bucle cuando se cumplan las condiciones\n",
    "    \n",
    "    h += 0.01\n",
    "\n",
    "\n",
    "print(f'\\n\\u03C6Mn: {phiMn} Tonf*m')\n",
    "print(f'Mu: {Mu} Tonf*m')\n",
    "\n",
    "\n",
    "print(f'\\nLa altura h es: {((round(h,2)+0.05)//0.05)*0.05} m')\n",
    "print(f'El ancho b es: {((round(b,2)+0.05)//0.05)*0.05} m')\n",
    "\n",
    "#Peso de la viga\n",
    "gh = 2.4 #Tonf/m3 (Densidad del Hormigón)\n",
    "Wpviga = (h*b)*gh #Tonf/m\n",
    "Wd = 0.4 #Tonf/m\n",
    "Wl = 0.2 #Tonf/m\n",
    "Wu = (1.2*(Wd + Wpviga)) + (1.6*Wl)\n",
    "print(f'\\nWu: {Wu} Tonf')\n",
    "'''\"Se debe hacer unas combinaciones que consideren las cargas sísmicas de acuerdo a la NEC\"\n",
    "Verificar también cuál es el ancho mínimo considerado de acuerdo a la NEC'''"
   ]
  },
  {
   "cell_type": "markdown",
   "metadata": {},
   "source": [
    "Verificación del bw según resistencia gravitacional requerida\n",
    "\n",
    "\\begin{align*}\n",
    "&Mn = Rbd^{2} \\\\\n",
    "&R = \\rho \\cdot f_{y}(1 - 0.59\\frac{\\rho \\cdot f_{y}}{f'_{c}})\n",
    "\\end{align*}"
   ]
  },
  {
   "cell_type": "code",
   "execution_count": 5,
   "metadata": {},
   "outputs": [
    {
     "name": "stdout",
     "output_type": "stream",
     "text": [
      "As inicial: 0.0021512867285180836 m2\n",
      "As minimo: 0.000595464813167401 m2, cumple\n",
      "Se puede diseñar como simplemente armada, simplemente aumentar la cuantía de acero seleccionada a pmax\n",
      "φMn > Mu, 43.6297697138729 > 40 Tonf*m\n"
     ]
    }
   ],
   "source": [
    "#Determinación del acero As\n",
    "p = ((0.85*fc)/fy)*(1-np.sqrt(1-((2*R)/(0.85*fc*10))))\n",
    "As_init = p*b*d #MODIFICABLE np.average((p,pmax))\n",
    "As_min = pmin*b*d\n",
    "print(f'As inicial: {As_init} m2')\n",
    "\n",
    "if As_init >= As_min:\n",
    "    print(f'As minimo: {As_min} m2, cumple')\n",
    "else:\n",
    "    print(f'As minimo: {As_min} m2, no cumple, aumentar el As')\n",
    "\n",
    "Rmax = pmax*fy*(1 - (0.588*(pmax*fy/fc)))*10 #*10 para pasar de kg/cm2 a Tonf/m2\n",
    "phiMnmax = phi * Rmax * b * (d ** 2)\n",
    "if phiMnmax < Mu:\n",
    "    print('Diseñar como doblemente armada')\n",
    "    print(f'\\u03C6Mn < Mu, {phiMnmax} < {Mu} Tonf*m')\n",
    "else:\n",
    "    print('Se puede diseñar como simplemente armada, simplemente aumentar la cuantía de acero seleccionada a pmax')\n",
    "    print(f'\\u03C6Mn > Mu, {phiMnmax} > {Mu} Tonf*m')\n"
   ]
  },
  {
   "cell_type": "code",
   "execution_count": 6,
   "metadata": {},
   "outputs": [
    {
     "name": "stdout",
     "output_type": "stream",
     "text": [
      "\n",
      "Se asumió correctamente que la sección está controlada a tensión (φ = 0.9)\n",
      "\n",
      "Por ultimo\n",
      "φMn = 40.0 Tonf*m\n",
      "La viga no resiste, Mu = 40 Tonf*m\n"
     ]
    }
   ],
   "source": [
    "\n",
    "a = ((As_init*10000)*fy)/(0.85*fc*(b*100))   #cm\n",
    "c = (a)/B1    #cm\n",
    "es = (((d*100)-c)/c)*eu\n",
    "\n",
    "if es >= 0.004:\n",
    "    if es > (ey+0.003):\n",
    "        print(f'\\nSe asumió correctamente que la sección está controlada a tensión (\\u03C6 = 0.9)')\n",
    "        print('\\nPor ultimo')\n",
    "        phiMn = phi*As_init*(fy*10)*(d-((a/100)/2))\n",
    "        \n",
    "        if phiMn > Mu:\n",
    "            print(f'\\u03C6Mn = {phiMn} Tonf*m')\n",
    "            print(f'La viga resiste, Mu = {Mu} Tonf*m')\n",
    "            print(f'\\nAs = {As_init*10000} cm2')\n",
    "        else:\n",
    "            print(f'\\u03C6Mn = {phiMn} Tonf*m')\n",
    "            print(f'La viga no resiste, Mu = {Mu} Tonf*m')\n",
    "    elif es < (ey+0.003) and es > ey:\n",
    "        print(f'\\n La sección está en zona de transición')\n",
    "        print('La falla no es dúctil y \\u03C6 no es 0.9. Aumentar el fc o cambiar b y d! ')\n",
    "        print('\\nPor ultimo')\n",
    "\n",
    "        phi = 0.65 + (0.25*((es-ey)/eu))\n",
    "        Mn = As_init*(fy*10)*(d-((a/100)/2))\n",
    "        phiMn = phi*Mn\n",
    "\n",
    "        if phiMn > Mu:\n",
    "            print(f'\\u03C6Mn = {phiMn} Tonf*m')\n",
    "            print(f'La viga resiste, Mu = {Mu} Tonf*m')\n",
    "        else:\n",
    "            print(f'\\u03C6Mn = {phiMn} Tonf*m')\n",
    "            print(f'La viga no resiste, Mu = {Mu} Tonf*m')\n",
    "            print('Se sugiere diseñarla como doblemente armada')\n",
    "    elif es < ey:\n",
    "        print(f'\\nLa sección está controlada a compresion (\\u03C6 no es 0.9)')\n",
    "        print(f'La viga está sobrereforzada')\n",
    "        #El siguiente procedimiento se encuentra en la pagina 147 de McGregor & White\n",
    "else:\n",
    "    print('La viga está sobrereforzada!!')\n",
    "\n"
   ]
  },
  {
   "cell_type": "code",
   "execution_count": 7,
   "metadata": {},
   "outputs": [
    {
     "name": "stdout",
     "output_type": "stream",
     "text": [
      "Varillas\n",
      "1 -  14.0 φ 14.0, Area = 21.55 cm2\n",
      "2 -  11.0 φ 16.0, Area = 22.12 cm2\n",
      "3 -  9.0 φ 18.0, Area = 22.9 cm2\n",
      "4 -  7.0 φ 20.0, Area = 21.99 cm2\n",
      "5 -  6.0 φ 22.0, Area = 22.81 cm2\n",
      "\n",
      "Varillas combinadas\n",
      "1 -  4.0 φ 14.0 & 5.0 φ 20.0, Area = 21.87 cm2\n",
      "2 -  3.0 φ 16.0 & 5.0 φ 20.0, Area = 21.74 cm2\n",
      "3 -  5.0 φ 16.0 & 4.0 φ 20.0, Area = 22.62 cm2\n",
      "4 -  1.0 φ 18.0 & 5.0 φ 22.0, Area = 21.55 cm2\n",
      "5 -  1.0 φ 18.0 & 4.0 φ 25.0, Area = 22.18 cm2\n",
      "6 -  3.0 φ 18.0 & 4.0 φ 22.0, Area = 22.84 cm2\n",
      "7 -  3.0 φ 18.0 & 3.0 φ 25.0, Area = 22.36 cm2\n",
      "8 -  4.0 φ 18.0 & 3.0 φ 22.0, Area = 21.58 cm2\n",
      "9 -  5.0 φ 18.0 & 2.0 φ 25.0, Area = 22.54 cm2\n",
      "10 -  1.0 φ 20.0 & 4.0 φ 25.0, Area = 22.78 cm2\n",
      "11 -  1.0 φ 20.0 & 3.0 φ 28.0, Area = 21.61 cm2\n",
      "12 -  3.0 φ 20.0 & 2.0 φ 28.0, Area = 21.74 cm2\n",
      "13 -  4.0 φ 20.0 & 2.0 φ 25.0, Area = 22.38 cm2\n",
      "14 -  5.0 φ 20.0 & 1.0 φ 28.0, Area = 21.87 cm2\n",
      "15 -  1.0 φ 22.0 & 3.0 φ 28.0, Area = 22.27 cm2\n",
      "16 -  3.0 φ 25.0 & 1.0 φ 32.0, Area = 22.77 cm2\n"
     ]
    }
   ],
   "source": [
    "##########################################\n",
    "\n",
    "import Varillas as Var\n",
    "\n",
    "\n",
    "tolerancia = 1.5\n",
    "Varillas = Var.Varillas(As_init*10000,tolerancia) #Tomar en cuenta que el previo valor de As está en m2, la función sólo aplica con cm2.\n",
    "\n",
    "print('Varillas')\n",
    "for i in range(len(Varillas)):\n",
    "    print(f\"{i+1} -  {Varillas[i, 0]} \\u03C6 {Varillas[i, 1]}, Area = {Varillas[i, 2]} cm2\")\n",
    "\n",
    "\n",
    "Varillas_comb = Var.Varillas_comb(As_init*10000,tolerancia) #Tomar en cuenta que el previo valor de As está en m2, la función sólo aplica con cm2.\n",
    "print('\\nVarillas combinadas')\n",
    "for i in range(len(Varillas_comb)):\n",
    "    print(f\"{i+1} -  {Varillas_comb[i, 0]} \\u03C6 {Varillas_comb[i, 1]} & {Varillas_comb[i, 2]} \\u03C6 {Varillas_comb[i, 3]}, Area = {Varillas_comb[i, 4]} cm2\")\n",
    "\n"
   ]
  },
  {
   "cell_type": "code",
   "execution_count": 8,
   "metadata": {},
   "outputs": [
    {
     "name": "stdout",
     "output_type": "stream",
     "text": [
      "\n",
      "Varillas: 1φ20 & 2φ25\n",
      "As final (corregido): 12.959069696057897 cm2\n"
     ]
    }
   ],
   "source": [
    "#Configuración de varillas\n",
    "\n",
    "cant1 = 1\n",
    "cant2 = 2\n",
    "diam1 = 20 #mm\n",
    "diam2 = 25 #mm\n",
    "As = (cant1*(np.pi*((diam1/1000)**2)*0.25) + (cant2*(np.pi*((diam2/1000)**2)*0.25))) #m2\n",
    "print(f\"\\nVarillas: {cant1}\\u03C6{diam1} & {cant2}\\u03C6{diam2}\") # {cant2}\\u03C6{diam2}\")\n",
    "print(f'As final (corregido): {As*10000} cm2')"
   ]
  },
  {
   "cell_type": "markdown",
   "metadata": {},
   "source": [
    "Detallamiento y espaciamiento\n",
    "\n",
    "La figura 4.1 muestra dos secciones de hormigón armado. Las barras se colocan de forma que la separación libre sea al menos la mayor entre 25 mm (1 pulg.), el diámetro nominal D de la barra y (4/3)dagg (tamaño máximo nominal del árido), (Código ACI, Sección 25.2.1).La separación libre vertical entre barras en más de una capa no será inferior a 25 mm (1 pulg.), según el Código ACI, Sección 25.2.2. También para armaduras de más de dos capas, la armadura de la capa superior se colocará directamente encima de la armadura de la capa inferior. La anchura de la sección depende del número, n y diámetro de las barras utilizadas. Los estribos se colocan a intervalos; sus diámetros y espaciamientos dependen de los requisitos de cortante, que se explicarán más adelante. En esta fase, se puede partir de estribos de 10 mm (3 8 pulg.) de diámetro para calcular la anchura de la sección. No es necesario ajustar la anchura, b, si se utilizan estribos de diámetros diferentes. El recubrimiento de hormigón especificado para hormigón in situ y prefabricado se indica en el Código ACI, Sección 20.5.1. El recubrimiento del hormigón para vigas y viguetas es igual a 38 mm (3 2 pulg.), y el de las losas es igual a 20 mm (3 4 pulg.), cuando el hormigón no está expuesto a la intemperie ni en contacto con el suelo.\n",
    "\n",
    "<img src='./Images/vigas4.PNG'>"
   ]
  },
  {
   "cell_type": "code",
   "execution_count": 9,
   "metadata": {},
   "outputs": [
    {
     "name": "stdout",
     "output_type": "stream",
     "text": [
      "Se cumple el espaciamiento\n",
      "Espaciemiento inferior: 7.085752662921798 cm\n",
      "Espaciemiento mínimo: 2.533333333333333 cm\n"
     ]
    },
    {
     "data": {
      "text/plain": [
       "'Si en caso la cantidad de varillas supera el espacio permitido en 1 capa, Hacer 2 capas!!'"
      ]
     },
     "execution_count": 9,
     "metadata": {},
     "output_type": "execute_result"
    }
   ],
   "source": [
    "#Espaciamiento\n",
    "\n",
    "diam1 = diam1 /1000   #m\n",
    "diam2 = diam2 /1000   #m\n",
    "As1 = np.pi*(diam1**2)/4 #m2\n",
    "As2 = np.pi*(diam2**2)/4 #m2\n",
    "espinf = (b-(2*rec)-(cant1*diam1)-(cant2*diam2)-(2*destribo))/(cant1+cant2-1) #m\n",
    "\n",
    "dagg = 1.9 #cm, Diametro máximo del agregado grueso\n",
    "espmin = max(2.5, diam1/10, (4/3)*dagg) #ACI\n",
    "\n",
    "if (espinf*100) <= espmin:\n",
    "    print('No se cumple el espaciamiento, cambiar configurración de varillas')\n",
    "    print(f'Espaciemiento inferior: {espinf*100} cm')\n",
    "    print(f'Espaciemiento mínimo: {espmin} cm')\n",
    "else:\n",
    "    print('Se cumple el espaciamiento')\n",
    "    print(f'Espaciemiento inferior: {espinf*100} cm')\n",
    "    print(f'Espaciemiento mínimo: {espmin} cm')\n",
    "\n",
    "\n",
    "'''Si en caso la cantidad de varillas supera el espacio permitido en 1 capa, Hacer 2 capas!!'''"
   ]
  }
 ],
 "metadata": {
  "kernelspec": {
   "display_name": "Python 3",
   "language": "python",
   "name": "python3"
  },
  "language_info": {
   "codemirror_mode": {
    "name": "ipython",
    "version": 3
   },
   "file_extension": ".py",
   "mimetype": "text/x-python",
   "name": "python",
   "nbconvert_exporter": "python",
   "pygments_lexer": "ipython3",
   "version": "3.12.0"
  }
 },
 "nbformat": 4,
 "nbformat_minor": 2
}
