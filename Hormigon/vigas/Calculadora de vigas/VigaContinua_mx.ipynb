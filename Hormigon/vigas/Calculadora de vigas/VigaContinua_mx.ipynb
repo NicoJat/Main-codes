{
 "cells": [
  {
   "cell_type": "markdown",
   "metadata": {},
   "source": [
    "# Universidad Nacional de Caaguazú \n",
    "\n",
    "# Facultad de Ciencias y Tecnologías \n",
    "\n",
    "\n",
    "## Cálculo de vigas continuas por el método matricial de rigidez \n",
    "\n",
    "- Diagramas de fuerza cortante y momento flector\n",
    "- Desplazamiento de apoyos\n",
    "- Variación de rigidez de apoyos"
   ]
  },
  {
   "cell_type": "markdown",
   "metadata": {},
   "source": [
    "<p style=\"text-align: right;\"> Prof. Fredy Gabriel Ramírez Villanueva<br>\n",
    "Ingeniero Civil </p> "
   ]
  },
  {
   "cell_type": "markdown",
   "metadata": {},
   "source": [
    "## 1. Preprocesamiento"
   ]
  },
  {
   "cell_type": "code",
   "execution_count": 2,
   "metadata": {
    "collapsed": true
   },
   "outputs": [],
   "source": [
    "import numpy as np\n",
    "import matplotlib.pyplot as plt\n",
    "%matplotlib inline"
   ]
  },
  {
   "cell_type": "markdown",
   "metadata": {},
   "source": [
    "### 1.1 Viga de Bernoulli\n",
    "\n",
    "![Elemento de Viga](ElementoViga.png 'Elemento de viga')\n",
    "\n",
    "\n",
    "Creamos una Clase VigaB: *\"Viga de Bernoulli\"* con dos grados de libertad por nudo, que se define por su módulo de elasticidad $E$, su inercia $I$ y su longitud $L$, a partir de esos datos se obtiente la matriz de rigidez del elemento:\n",
    "\n",
    "$$ \\mathbf{k} = \\dfrac{EI}{L^3}\n",
    "\\begin{bmatrix}\n",
    "12 & 6L & -12 & 6L \\\\\n",
    "6L & 4L^2 & -6L & 2L^2 \\\\\n",
    "-12 & -6L & 12 & -6L \\\\\n",
    "6L & 2L^2 & -6L & 4L^2\n",
    "\\end{bmatrix}\n",
    "$$\n",
    "\n",
    "_"
   ]
  },
  {
   "cell_type": "code",
   "execution_count": 3,
   "metadata": {
    "collapsed": false
   },
   "outputs": [],
   "source": [
    "class VigaB:\n",
    "    '''Definimos un tramo de viga.\n",
    "    E: Módulo de elasticidad\n",
    "    I: Inercia de la sección transversal\n",
    "    L: Longitud del tramo'''\n",
    "    def __init__(self, E, I, L):\n",
    "        '''ATRIBUTOS:\n",
    "            self.E: Módulo de elasticidad\n",
    "            self.I: Inercia de la sección transversal\n",
    "            self.L: Longitud del tramo\n",
    "            self.k: matriz de rigidez del tramo'''\n",
    "        self.E = E\n",
    "        self.I = I\n",
    "        self.L = L\n",
    "        \n",
    "        #Matriz de rigidez del elemento\n",
    "        self.k = E * I / L**3 * np.array([\n",
    "                [12., 6*L, -12, 6*L],\n",
    "                [6*L, 4*L**2, -6*L, 2*L**2],\n",
    "                [-12, -6*L, 12, -6*L],\n",
    "                [6*L, 2*L**2, -6*L, 4*L**2]\n",
    "            ])"
   ]
  },
  {
   "cell_type": "markdown",
   "metadata": {},
   "source": [
    "### 1.2 Cargas\n",
    "\n",
    "Consideramos 3 tipos de cargas, a saber:\n",
    "\n",
    "- Tipo 0: Carga puntual\n",
    "- Tipo 1: Carga distribuida (total o parcialmente en el tramo de viga)\n",
    "- Tipo 3: Momento concentrado"
   ]
  },
  {
   "cell_type": "code",
   "execution_count": 4,
   "metadata": {
    "collapsed": false
   },
   "outputs": [],
   "source": [
    "class Carga:\n",
    "    '''Clase carga'''\n",
    "    def __init__(self, tipo):\n",
    "        '''\n",
    "        tipo = 0: Carga puntual\n",
    "        tipo = 1: Carga distribuida\n",
    "        tipo = 2: Momento cocentrado\n",
    "        '''\n",
    "        self.tipo = tipo\n",
    "    \n",
    "    def Tipo(self):\n",
    "        if self.tipo == 0:\n",
    "            print(\"Carga puntual\")\n",
    "        elif self.tipo == 1:\n",
    "            print('Carga distribuida')\n",
    "        elif self.tipo == 2:\n",
    "            print('Momento concentrado')\n",
    "        else:\n",
    "            print('No definido')"
   ]
  },
  {
   "cell_type": "markdown",
   "metadata": {},
   "source": [
    "### 1.2.1 Carga puntual\n",
    "\n",
    "![Carga puntual](CargaPuntual.png 'Carga puntual')"
   ]
  },
  {
   "cell_type": "markdown",
   "metadata": {},
   "source": [
    "Se define con su valor $P$ y su ubicación $a$ respecto al extremo izquierdo del tramo. Con el método Qf se obtiene las reacciones nodales equivalentes:\n",
    "$$ Q_f = \\dfrac{P}{L^2} \\begin{bmatrix}\n",
    "\\dfrac{b^2}{L} (3a + b) \\\\ ab^2 \\\\ \\dfrac{a^2}{L} (a + 3b) \\\\ -a^2b\n",
    "\\end{bmatrix}\n",
    "$$\n",
    "\n",
    "En este lugar también calculamos el aporte de esta carga a la fuerza cortante y al momento flector. Para considerar el aporte a la fuerza cortante, ya que aún desconocemos las reacciones en los apoyos, en el método FQ, consideramos una viga sin apoyo, es decir con reacciones iguales a cero, así la fuerza cortante $Q(x)$ es:\n",
    "\n",
    "$$\n",
    "Q(x) = \\begin{cases}\n",
    "    -P, & \\text{si } a < x \\leq L \\\\\n",
    "    0, & \\text{de otra manera}\n",
    "\\end{cases}\n",
    "$$\n",
    "\n",
    "En el caso del momento flector, al desconocer aún los valores en los extremos, en el método MF, suponemos una viga simplemente apoyada (momentos flectores iguales a cero en los extremos), entonces:\n",
    "\n",
    "$$\n",
    "M(x) = \\begin{cases}\n",
    "    \\left(1 - \\dfrac{a}{L}\\right) Px & \\text{si } 0 \\leq x < a \\\\\n",
    "    aP\\left(1 - \\dfrac{x}{L}\\right) & \\text{si } a \\leq x \\leq L \\\\\n",
    "    0 & \\text{de otra manera}\n",
    "\\end{cases}\n",
    "$$\n"
   ]
  },
  {
   "cell_type": "code",
   "execution_count": 5,
   "metadata": {
    "collapsed": false
   },
   "outputs": [],
   "source": [
    "class CargaPuntual(Carga):\n",
    "    '''Clase carga puntual'''\n",
    "    def __init__(self, P=0, a=0):\n",
    "        '''Carga puntual P.\n",
    "        P: valor de la carga. Positivo hacia abajo.\n",
    "        a: posicion de la carga respecto al extremo izquierdo del tramo.'''\n",
    "        Carga.__init__(self, 0)\n",
    "        self.P = P\n",
    "        self.a = a\n",
    "    \n",
    "    def __str__(self):\n",
    "        return 'Carga puntual\\n   Valor= ' + str(self.P) + 'N' \\\n",
    "    + '\\n   Posición, x= ' + str(self.a) + 'm'\n",
    "    \n",
    "    #Reacciones nodales equivalentes\n",
    "    def Qf(self, L):\n",
    "        '''Reacciones nodales equivalentes para una carga puntual.\n",
    "        L: Longitud de la viga'''\n",
    "        a = self.a\n",
    "        b = L - a\n",
    "        return self.P / L**2 * np.array([\n",
    "                [b**2 / L * (3*a + b)],\n",
    "                [a * b**2],\n",
    "                [a**2 / L * (a + 3*b)],\n",
    "                [-a**2 * b]\n",
    "            ])\n",
    "    \n",
    "    #Fuerza cortante en una sección (viga sin apoyos)\n",
    "    def FQ(self, x, L):\n",
    "        '''Aporte a la fuerza cortante en una sección debido a una carga puntual,\n",
    "        x: posición de la sección considerada respecto al extremo izquierdo\n",
    "        L: longitud del tramo'''\n",
    "        if self.a < x <= L:\n",
    "            return -self.P\n",
    "        else:\n",
    "            return 0\n",
    "         \n",
    "    #Momento flector en una sección (viga simplemente apoyada)\n",
    "    def MF(self, x, L):\n",
    "        '''Aporte al Momento flector en una sección debido a una carga puntual,\n",
    "        x: posición de la sección considerada respecto al extremo izquierdo\n",
    "        L: longitud del tramo'''\n",
    "        if 0 <= x < self.a:\n",
    "            return (1 - self.a/L) * self.P * x\n",
    "        elif x <= L:\n",
    "            return self.a * self.P * (1 - x/L)\n",
    "        else:\n",
    "            return 0"
   ]
  },
  {
   "cell_type": "code",
   "execution_count": 6,
   "metadata": {
    "collapsed": false
   },
   "outputs": [],
   "source": [
    "P1 = CargaPuntual(10000, 2)"
   ]
  },
  {
   "cell_type": "code",
   "execution_count": 7,
   "metadata": {
    "collapsed": false
   },
   "outputs": [
    {
     "name": "stdout",
     "output_type": "stream",
     "text": [
      "Carga puntual\n",
      "   Valor= 10000N\n",
      "   Posición, x= 2m\n"
     ]
    }
   ],
   "source": [
    "print(P1)"
   ]
  },
  {
   "cell_type": "code",
   "execution_count": 8,
   "metadata": {
    "collapsed": false
   },
   "outputs": [
    {
     "data": {
      "text/plain": [
       "2"
      ]
     },
     "execution_count": 8,
     "metadata": {},
     "output_type": "execute_result"
    }
   ],
   "source": [
    "P1.a"
   ]
  },
  {
   "cell_type": "markdown",
   "metadata": {},
   "source": [
    "### 1.2.2 Carga uniformemente distribuida\n",
    "\n",
    "![Carga distribuida](CargaDist.png 'Carga distribuida')"
   ]
  },
  {
   "cell_type": "markdown",
   "metadata": {},
   "source": [
    "Se define con su valor $q$, la coordenada $a$ de su inicio,  respecto al extremo izquierdo del tramo, y su longitud de distribución $l$. Con el método Qf se obtiene las reacciones nodales equivalentes:\n",
    "$$ Q_f = \\dfrac{1}{2} qL \\begin{bmatrix}\n",
    "1 - \\dfrac{a}{L^4} (3L^3 - 2a^2L + a^3) - \\dfrac{b^3}{L^4} (2L - b) \\\\\n",
    "\\dfrac{L}{6} \\left( 1 - \\dfrac{a^2}{L^4} (6L^2-8aL+3a^2)-\\dfrac{b^3}{L^4}(4L-3b) \\right) \\\\\n",
    "1 - \\dfrac{a^3}{L^4} (2L - a) - \\dfrac{b}{L^4} (2L^3 - 2b^2L + a^3) \\\\\n",
    "-\\dfrac{L}{6} \\left( 1 - \\dfrac{a^3}{L^4}(4L-3a) -\\dfrac{b^2}{L^4}(6L^2-8bL+3b^2) \\right)\n",
    "\\end{bmatrix}\n",
    "$$\n",
    "\n",
    "Analogamente al caso anterior, con el método FQ, consideramos una viga sin apoyo, es decir con reacciones iguales a cero, así la fuerza cortante $Q(x)$ es:\n",
    "$$\n",
    "Q(x) = \\begin{cases}\n",
    "    -q(x-a) & \\text{si } a \\leq x < a+l \\\\\n",
    "    -ql & \\text{si } a+l \\leq x \\leq L \\\\\n",
    "    0 & \\text{de otra manera}\n",
    "\\end{cases}\n",
    "\n",
    "$$\n",
    "\n",
    "De la misma forma, en el método MF, suponemos una viga simplemente apoyada (momentos flectores iguales a cero en los extremos), entonces, haciendo:\n",
    "\n",
    "$$V_1 = \\dfrac{ql}{L} \\left( L - a - \\dfrac{l}{2} \\right); \\qquad V_2 = ql - V_1$$\n",
    "\n",
    "$$\n",
    "M(x) = \\begin{cases}\n",
    "    V_1 x & \\text{si } 0 \\leq x < a \\\\\n",
    "    V_1 x - \\frac{1}{2}q(x-a) & \\text{si } a \\leq x \\leq a+l \\\\\n",
    "    V_2(L-x) & \\text{si } a+l < x \\leq L \\\\\n",
    "    0 & \\text{de otra manera}\n",
    "\\end{cases}\n",
    "\n",
    "$$\n"
   ]
  },
  {
   "cell_type": "code",
   "execution_count": 9,
   "metadata": {
    "collapsed": false
   },
   "outputs": [],
   "source": [
    "class CargaDistribuida(Carga):\n",
    "    '''Clase carga distribuida'''\n",
    "    def __init__(self, q=0, a=0, l=0):\n",
    "        '''Carga puntual P.\n",
    "        P: valor de la carga. Positivo hacia abajo.\n",
    "        a: distancia entre el extremo izquierdo del tramo y el inicio de la carga.\n",
    "        l: longitud de la carga distribuida'''\n",
    "        Carga.__init__(self, 1)\n",
    "        self.q = q\n",
    "        self.a = a\n",
    "        self.l = l\n",
    "    \n",
    "    def __str__(self):\n",
    "        return 'Carga distribuida\\n   Valor= ' + str(self.q) + 'N/m'\\\n",
    "    ', ' + '\\n   Inicio= ' + str(self.a) + 'm' + '\\n   Longitud= ' + str(self.l) + 'm'\n",
    "    \n",
    "    def Qf(self, L):\n",
    "        '''Reacciones nodales equivalentes para una carga\n",
    "        unifomemente distribuida.\n",
    "        L: longitud de la viga'''\n",
    "        q = self.q\n",
    "        a = self.a\n",
    "        b = L - self.a - self.l\n",
    "        return q * L / 2 * np.array([\n",
    "                [1 - a/L**4*(2*L**3 - 2*a**2*L + a**3) - b**3/L**4*(2*L - b)],\n",
    "                [L/6*(1 - a**2/L**4*(6*L**2 - 8*a*L + 3*a**2) - b**3/L**4*(4*L - 3*b))],\n",
    "                [1 - a**3/L**4*(2*L - a) - b/L**4*(2*L**3 - 2*b**2*L + a**3)],\n",
    "                [-L/6*(1 - a**3/L**4*(4*L - 3*a) - b**2/L**4*(6*L**2 - 8*b*L + 3*b**2))]\n",
    "            ])\n",
    "            \n",
    "    #Fuerza cortante en una sección (viga sin apoyos)\n",
    "    def FQ(self, x, L):\n",
    "        '''Aporte a la fuerza cortante en una sección debido a la carga distribuida.\n",
    "        x: posición de la sección considerada respecto al extremo izquierdo\n",
    "        L: Longitud del tramo'''\n",
    "        if self.a <= x < self.a + self.l:\n",
    "            return -self.q * (x - self.a)\n",
    "        elif x <= L:\n",
    "            return -self.q * self.l\n",
    "        else:\n",
    "            return 0\n",
    "    \n",
    "    #Momento flector en una sección (viga simplemente apoyada)\n",
    "    def MF(self, x, L):\n",
    "        '''Aporte al momento flector en una sección debido a la carga distribuida.\n",
    "        x: posición de la sección considerada respecto al extremo izquierdo\n",
    "        L: Longitud del tramo'''\n",
    "        V1 = self.q*self.l/L*(L - self.a - self.l/2)\n",
    "        V2 = self.q*self.l - V1\n",
    "        if 0 <= x < self.a:\n",
    "            return V1 * x\n",
    "        elif x <= self.a + self.l:\n",
    "            return V1*x - 0.5*self.q*(x-self.a)**2\n",
    "        elif x <= L:\n",
    "            return V2 * (L - x)\n",
    "        else:\n",
    "            return 0"
   ]
  },
  {
   "cell_type": "code",
   "execution_count": 10,
   "metadata": {
    "collapsed": true
   },
   "outputs": [],
   "source": [
    "q1 = CargaDistribuida(5000, 1, 3)"
   ]
  },
  {
   "cell_type": "code",
   "execution_count": 11,
   "metadata": {
    "collapsed": false
   },
   "outputs": [
    {
     "name": "stdout",
     "output_type": "stream",
     "text": [
      "Carga distribuida\n",
      "   Valor= 5000N/m, \n",
      "   Inicio= 1m\n",
      "   Longitud= 3m\n"
     ]
    }
   ],
   "source": [
    "print(q1)"
   ]
  },
  {
   "cell_type": "code",
   "execution_count": 12,
   "metadata": {
    "collapsed": false
   },
   "outputs": [
    {
     "data": {
      "text/plain": [
       "array([[ 9201.38888889],\n",
       "       [11354.16666667],\n",
       "       [ 5960.64814815],\n",
       "       [-8645.83333333]])"
      ]
     },
     "execution_count": 12,
     "metadata": {},
     "output_type": "execute_result"
    }
   ],
   "source": [
    "q1.Qf(6)"
   ]
  },
  {
   "cell_type": "code",
   "execution_count": 13,
   "metadata": {
    "collapsed": false
   },
   "outputs": [
    {
     "data": {
      "text/plain": [
       "15000.0"
      ]
     },
     "execution_count": 13,
     "metadata": {},
     "output_type": "execute_result"
    }
   ],
   "source": [
    "q1.MF(2, 6)"
   ]
  },
  {
   "cell_type": "markdown",
   "metadata": {},
   "source": [
    "### 1.2.3 Momento concentrado\n",
    "\n",
    "![Momento concentrado](MomentoConc.png 'Momento concentrado')"
   ]
  },
  {
   "cell_type": "markdown",
   "metadata": {},
   "source": [
    "Se define con su valor $M$ y su ubicación $a$ respecto al extremo izquierdo del tramo. Con el método Qf se obtiene las reacciones nodales equivalentes:\n",
    "$$ Q_f = \\dfrac{M}{L^2} \\begin{bmatrix}\n",
    "-\\dfrac{6ab}{L} \\\\ b(b-2a) \\\\ \\dfrac{6ab}{L} \\\\ a(a-2b)\n",
    "\\end{bmatrix}\n",
    "$$\n",
    "\n",
    "En el método FQ, consideramos una viga sin apoyo, es decir con reacciones iguales a cero, así la fuerza cortante $Q(x)$ es:\n",
    "\n",
    "$$\n",
    "Q(x) = 0 \\quad \\text{en } -\\infty < x < \\infty\n",
    "$$\n",
    "\n",
    "En el método MF, suponemos una viga simplemente apoyada (momentos flectores iguales a cero en los extremos), entonces:\n",
    "\n",
    "$$\n",
    "M(x) = \\begin{cases}\n",
    "    \\frac{x}{L}M & \\text{si } 0 \\leq x < a \\\\\n",
    "    \\left(\\frac{x}{L}-1\\right)M & \\text{si } a \\leq x \\leq L \\\\\n",
    "    0 & \\text{de otra manera}\n",
    "\\end{cases}\n",
    "$$\n"
   ]
  },
  {
   "cell_type": "code",
   "execution_count": 14,
   "metadata": {
    "collapsed": false
   },
   "outputs": [],
   "source": [
    "class MomentoConcentrado(Carga):\n",
    "    '''Clase momento concentrado'''\n",
    "    def __init__(self, M=0, a=0):\n",
    "        '''Momento concentrado M.\n",
    "        M: valor del momento concentrado. Antihorario positivo\n",
    "        a: posición del momento respecto al extremo izquierdo del tramo'''\n",
    "        Carga.__init__(self, 2)\n",
    "        self.M = M\n",
    "        self.a = a\n",
    "    \n",
    "    def __str__(self):\n",
    "        return 'Momento concentrado\\n   Valor= ' + str(self.M) + 'Nm' \\\n",
    "    + '\\n   Posición, x= ' + str(self.a) + 'm'\n",
    "    \n",
    "    def Qf(self, L):\n",
    "        '''Reacciones nodales equivalentes para un momento concetrado.\n",
    "        L: longitud de la viga'''\n",
    "        a = self.a\n",
    "        b = L - a\n",
    "        return self.M / L**2 * np.array([\n",
    "                [-6*a*b/L],\n",
    "                [b*(b - 2*a)],\n",
    "                [6*a*b/L],\n",
    "                [a*(a - 2*b)]\n",
    "            ])\n",
    "    \n",
    "    #Fuerza cortante en una sección (viga sin apoyos)\n",
    "    def FQ(self, x, L):\n",
    "        '''Aporte a la fuerza cortante en una sección debido a la carga distribuida.\n",
    "        x: posición de la sección considerada respecto al extremo izquierdo'''\n",
    "        return 0\n",
    "    \n",
    "    #Momento flector en una sección (viga simplemente apoyada)\n",
    "    def MF(self, x, L):\n",
    "        '''Aporte al momento flector en una sección debido a un momento concetrado,\n",
    "        Estos valores corresponden al de una viga simplemente apoyada.\n",
    "        x: posición de la sección considerada respecto al extremo izquierdo\n",
    "        L: Longitud del tramo'''\n",
    "        if 0 <= x < self.a:\n",
    "            return self.M / L * x\n",
    "        elif self.a < x <= L:\n",
    "            return self.M * (x/L - 1)\n",
    "        else:\n",
    "            return 0"
   ]
  },
  {
   "cell_type": "code",
   "execution_count": 15,
   "metadata": {
    "collapsed": true
   },
   "outputs": [],
   "source": [
    "M1 = MomentoConcentrado(600, 3)"
   ]
  },
  {
   "cell_type": "code",
   "execution_count": 16,
   "metadata": {
    "collapsed": false
   },
   "outputs": [
    {
     "name": "stdout",
     "output_type": "stream",
     "text": [
      "Momento concentrado\n",
      "   Valor= 600Nm\n",
      "   Posición, x= 3m\n"
     ]
    }
   ],
   "source": [
    "print(M1)"
   ]
  },
  {
   "cell_type": "code",
   "execution_count": 17,
   "metadata": {
    "collapsed": false
   },
   "outputs": [
    {
     "data": {
      "text/plain": [
       "150.0"
      ]
     },
     "execution_count": 17,
     "metadata": {},
     "output_type": "execute_result"
    }
   ],
   "source": [
    "M1.MF(2, 8)"
   ]
  },
  {
   "cell_type": "markdown",
   "metadata": {},
   "source": [
    "## 2. Datos de la viga continua"
   ]
  },
  {
   "cell_type": "markdown",
   "metadata": {},
   "source": [
    "### 2.1 Ejemplo"
   ]
  },
  {
   "cell_type": "markdown",
   "metadata": {},
   "source": [
    "![Viga de ejemplo](VigaEjemplo.png \"Viga de ejemplo\")"
   ]
  },
  {
   "cell_type": "markdown",
   "metadata": {},
   "source": [
    "$E = 20 GPa$\n",
    "\n",
    "$I = 3,6 \\times 10^{-3} m^4$"
   ]
  },
  {
   "cell_type": "code",
   "execution_count": 18,
   "metadata": {
    "collapsed": true
   },
   "outputs": [],
   "source": [
    "#Definimos los tramos de la viga continua en una lista\n",
    "# VigaB(Elasticidad, Inercia, Longitud) por cada tramo\n",
    "E = 2000000 #T/m2\n",
    "I = 3.6e-3 #m4\n",
    "Tramo = [VigaB(E, I, 7), VigaB(E, I, 7), VigaB(E, I, 7), VigaB(E, I, 7)]"
   ]
  },
  {
   "cell_type": "code",
   "execution_count": 19,
   "metadata": {
    "collapsed": true
   },
   "outputs": [],
   "source": [
    "#Cargas en cada tramo\n",
    "#q = CargaDistribuida(valor, inicio, longitud), el inicio es respecto al nudo izq. del tramo\n",
    "#P = CargaPuntual(valor, posición), la posición es respecto al nudo izq. del tramo\n",
    "#M = MomentoConcentrado(valor, posición), la posición es respecto al nudo izq. del tramo\n",
    "q1 = CargaDistribuida(1.17, 0, 7)\n",
    "q2 = CargaDistribuida(1.17, 0, 7)\n",
    "q3 = CargaDistribuida(1.17, 0, 7)\n",
    "q4 = CargaDistribuida(1.17, 0, 7)\n",
    "\n",
    "cargas = [\n",
    "    [q1], #carga en tramo 1\n",
    "    [q2], #carga en tramo 2\n",
    "    [q3], #carga en tramo 3\n",
    "    [q4] #carga en tramo 4\n",
    "]\n"
   ]
  },
  {
   "cell_type": "markdown",
   "metadata": {},
   "source": [
    "### 2.3 Tipo de apoyo en los extremos"
   ]
  },
  {
   "cell_type": "markdown",
   "metadata": {},
   "source": [
    "![Tipos de apoyos](Apoyos3D.png 'Tipos de apoyo')"
   ]
  },
  {
   "cell_type": "code",
   "execution_count": 20,
   "metadata": {
    "collapsed": true
   },
   "outputs": [],
   "source": [
    "#Tipo de apoyos izquierdo y derecho\n",
    "# apoyo = 0: Empotramiento\n",
    "# apoyo = 1: Permite desplazamiento vertical\n",
    "# apoyo = 2: Permite giro pero no desplazamiento\n",
    "# apoyo = 3: Voladizo\n",
    "apoyoIzq = 0\n",
    "apoyoDer = 0"
   ]
  },
  {
   "cell_type": "markdown",
   "metadata": {},
   "source": [
    "## 3. Procesamiento"
   ]
  },
  {
   "cell_type": "markdown",
   "metadata": {},
   "source": [
    "Debemos resolver un sistema matricial del tipo $$ \\mathbf{Q} = \\mathbf{K u} $$\n",
    "Por lo que ensamblamos la matriz de rigidez global de la estructura por el método de rigidez directa. Si $j$ es el número de nudos, la matriz de rigidez será de orden $2j \\times 2j$. Notemos también que, en el caso de vigas continuas, el número de nodos $j$ es igual al número de barras $b$ más $1$, es decir $j = b + 1$\n",
    "La ecuación a resolver es:\n",
    "$$ \\mathbf{Q}_{(2j \\times 1)} = \\mathbf{K}_{(2j \\times 2j)} \\ \\mathbf{u}_{(2j \\times 1)} $$"
   ]
  },
  {
   "cell_type": "code",
   "execution_count": 21,
   "metadata": {
    "collapsed": true
   },
   "outputs": [],
   "source": [
    "#Número de tramos o barras\n",
    "b = len(Tramo)\n",
    "\n",
    "#Número de nudos\n",
    "nudos = b + 1\n",
    "\n",
    "#Longitud total de la viga\n",
    "Ltotal = 0\n",
    "for i in range(b):\n",
    "    Ltotal += Tramo[i].L\n"
   ]
  },
  {
   "cell_type": "markdown",
   "metadata": {},
   "source": [
    "### 3.1 Matriz de rigidez"
   ]
  },
  {
   "cell_type": "markdown",
   "metadata": {},
   "source": [
    "El ensamble de la matriz de rigidez global se realiza por el método de rigidez directa."
   ]
  },
  {
   "cell_type": "code",
   "execution_count": 22,
   "metadata": {
    "collapsed": false
   },
   "outputs": [
    {
     "data": {
      "text/html": [
       "<div>\n",
       "<style scoped>\n",
       "    .dataframe tbody tr th:only-of-type {\n",
       "        vertical-align: middle;\n",
       "    }\n",
       "\n",
       "    .dataframe tbody tr th {\n",
       "        vertical-align: top;\n",
       "    }\n",
       "\n",
       "    .dataframe thead th {\n",
       "        text-align: right;\n",
       "    }\n",
       "</style>\n",
       "<table border=\"1\" class=\"dataframe\">\n",
       "  <thead>\n",
       "    <tr style=\"text-align: right;\">\n",
       "      <th></th>\n",
       "      <th>0</th>\n",
       "      <th>1</th>\n",
       "      <th>2</th>\n",
       "      <th>3</th>\n",
       "      <th>4</th>\n",
       "      <th>5</th>\n",
       "      <th>6</th>\n",
       "      <th>7</th>\n",
       "      <th>8</th>\n",
       "      <th>9</th>\n",
       "    </tr>\n",
       "  </thead>\n",
       "  <tbody>\n",
       "    <tr>\n",
       "      <th>0</th>\n",
       "      <td>251.895044</td>\n",
       "      <td>881.632653</td>\n",
       "      <td>-251.895044</td>\n",
       "      <td>881.632653</td>\n",
       "      <td>0.000000</td>\n",
       "      <td>0.000000</td>\n",
       "      <td>0.000000</td>\n",
       "      <td>0.000000</td>\n",
       "      <td>0.000000</td>\n",
       "      <td>0.000000</td>\n",
       "    </tr>\n",
       "    <tr>\n",
       "      <th>1</th>\n",
       "      <td>881.632653</td>\n",
       "      <td>4114.285714</td>\n",
       "      <td>-881.632653</td>\n",
       "      <td>2057.142857</td>\n",
       "      <td>0.000000</td>\n",
       "      <td>0.000000</td>\n",
       "      <td>0.000000</td>\n",
       "      <td>0.000000</td>\n",
       "      <td>0.000000</td>\n",
       "      <td>0.000000</td>\n",
       "    </tr>\n",
       "    <tr>\n",
       "      <th>2</th>\n",
       "      <td>-251.895044</td>\n",
       "      <td>-881.632653</td>\n",
       "      <td>503.790087</td>\n",
       "      <td>0.000000</td>\n",
       "      <td>-251.895044</td>\n",
       "      <td>881.632653</td>\n",
       "      <td>0.000000</td>\n",
       "      <td>0.000000</td>\n",
       "      <td>0.000000</td>\n",
       "      <td>0.000000</td>\n",
       "    </tr>\n",
       "    <tr>\n",
       "      <th>3</th>\n",
       "      <td>881.632653</td>\n",
       "      <td>2057.142857</td>\n",
       "      <td>0.000000</td>\n",
       "      <td>8228.571429</td>\n",
       "      <td>-881.632653</td>\n",
       "      <td>2057.142857</td>\n",
       "      <td>0.000000</td>\n",
       "      <td>0.000000</td>\n",
       "      <td>0.000000</td>\n",
       "      <td>0.000000</td>\n",
       "    </tr>\n",
       "    <tr>\n",
       "      <th>4</th>\n",
       "      <td>0.000000</td>\n",
       "      <td>0.000000</td>\n",
       "      <td>-251.895044</td>\n",
       "      <td>-881.632653</td>\n",
       "      <td>503.790087</td>\n",
       "      <td>0.000000</td>\n",
       "      <td>-251.895044</td>\n",
       "      <td>881.632653</td>\n",
       "      <td>0.000000</td>\n",
       "      <td>0.000000</td>\n",
       "    </tr>\n",
       "    <tr>\n",
       "      <th>5</th>\n",
       "      <td>0.000000</td>\n",
       "      <td>0.000000</td>\n",
       "      <td>881.632653</td>\n",
       "      <td>2057.142857</td>\n",
       "      <td>0.000000</td>\n",
       "      <td>8228.571429</td>\n",
       "      <td>-881.632653</td>\n",
       "      <td>2057.142857</td>\n",
       "      <td>0.000000</td>\n",
       "      <td>0.000000</td>\n",
       "    </tr>\n",
       "    <tr>\n",
       "      <th>6</th>\n",
       "      <td>0.000000</td>\n",
       "      <td>0.000000</td>\n",
       "      <td>0.000000</td>\n",
       "      <td>0.000000</td>\n",
       "      <td>-251.895044</td>\n",
       "      <td>-881.632653</td>\n",
       "      <td>503.790087</td>\n",
       "      <td>0.000000</td>\n",
       "      <td>-251.895044</td>\n",
       "      <td>881.632653</td>\n",
       "    </tr>\n",
       "    <tr>\n",
       "      <th>7</th>\n",
       "      <td>0.000000</td>\n",
       "      <td>0.000000</td>\n",
       "      <td>0.000000</td>\n",
       "      <td>0.000000</td>\n",
       "      <td>881.632653</td>\n",
       "      <td>2057.142857</td>\n",
       "      <td>0.000000</td>\n",
       "      <td>8228.571429</td>\n",
       "      <td>-881.632653</td>\n",
       "      <td>2057.142857</td>\n",
       "    </tr>\n",
       "    <tr>\n",
       "      <th>8</th>\n",
       "      <td>0.000000</td>\n",
       "      <td>0.000000</td>\n",
       "      <td>0.000000</td>\n",
       "      <td>0.000000</td>\n",
       "      <td>0.000000</td>\n",
       "      <td>0.000000</td>\n",
       "      <td>-251.895044</td>\n",
       "      <td>-881.632653</td>\n",
       "      <td>251.895044</td>\n",
       "      <td>-881.632653</td>\n",
       "    </tr>\n",
       "    <tr>\n",
       "      <th>9</th>\n",
       "      <td>0.000000</td>\n",
       "      <td>0.000000</td>\n",
       "      <td>0.000000</td>\n",
       "      <td>0.000000</td>\n",
       "      <td>0.000000</td>\n",
       "      <td>0.000000</td>\n",
       "      <td>881.632653</td>\n",
       "      <td>2057.142857</td>\n",
       "      <td>-881.632653</td>\n",
       "      <td>4114.285714</td>\n",
       "    </tr>\n",
       "  </tbody>\n",
       "</table>\n",
       "</div>"
      ],
      "text/plain": [
       "            0            1           2            3           4            5  \\\n",
       "0  251.895044   881.632653 -251.895044   881.632653    0.000000     0.000000   \n",
       "1  881.632653  4114.285714 -881.632653  2057.142857    0.000000     0.000000   \n",
       "2 -251.895044  -881.632653  503.790087     0.000000 -251.895044   881.632653   \n",
       "3  881.632653  2057.142857    0.000000  8228.571429 -881.632653  2057.142857   \n",
       "4    0.000000     0.000000 -251.895044  -881.632653  503.790087     0.000000   \n",
       "5    0.000000     0.000000  881.632653  2057.142857    0.000000  8228.571429   \n",
       "6    0.000000     0.000000    0.000000     0.000000 -251.895044  -881.632653   \n",
       "7    0.000000     0.000000    0.000000     0.000000  881.632653  2057.142857   \n",
       "8    0.000000     0.000000    0.000000     0.000000    0.000000     0.000000   \n",
       "9    0.000000     0.000000    0.000000     0.000000    0.000000     0.000000   \n",
       "\n",
       "            6            7           8            9  \n",
       "0    0.000000     0.000000    0.000000     0.000000  \n",
       "1    0.000000     0.000000    0.000000     0.000000  \n",
       "2    0.000000     0.000000    0.000000     0.000000  \n",
       "3    0.000000     0.000000    0.000000     0.000000  \n",
       "4 -251.895044   881.632653    0.000000     0.000000  \n",
       "5 -881.632653  2057.142857    0.000000     0.000000  \n",
       "6  503.790087     0.000000 -251.895044   881.632653  \n",
       "7    0.000000  8228.571429 -881.632653  2057.142857  \n",
       "8 -251.895044  -881.632653  251.895044  -881.632653  \n",
       "9  881.632653  2057.142857 -881.632653  4114.285714  "
      ]
     },
     "metadata": {},
     "output_type": "display_data"
    }
   ],
   "source": [
    "#Ensamble de la matriz de rigidez global\n",
    "K = np.zeros((2*nudos, 2*nudos))\n",
    "for i in range(b):\n",
    "    K[2*i:2*i+4, 2*i:2*i+4] += Tramo[i].k\n",
    "\n",
    "import pandas as pd\n",
    "df = pd.DataFrame(K)\n",
    "display(df)"
   ]
  },
  {
   "cell_type": "markdown",
   "metadata": {},
   "source": [
    "### 3.2 Método de penalización"
   ]
  },
  {
   "cell_type": "markdown",
   "metadata": {},
   "source": [
    "$\\mathbf{K}$ es singular. Para poder invertir la matriz suponemos que los apoyos son resortes con una gran rigidez $C \\approx \\max(K_{ij}) \\times 10^4$"
   ]
  },
  {
   "cell_type": "markdown",
   "metadata": {},
   "source": [
    "![Resorte rígido](ApoyoResorte.png 'Hipótesis del método de penalización')"
   ]
  },
  {
   "cell_type": "markdown",
   "metadata": {},
   "source": [
    "Agregamos el valor $C$ a los elementos diagonales de la matriz de rigidez correspondientes a los grados de libertad restringidos.\n",
    "$$ \\mathbf{S} = \\begin{bmatrix}\n",
    "K_{11} + C & K_{12} & K_{12} & \\cdots \\\\\n",
    "K_{21} & K_{22} & K_{21} & \\cdots \\\\\n",
    "K_{31} & K_{32} & K_{33} + C & \\cdots \\\\\n",
    "\\vdots & \\vdots & \\vdots & \\cdots\n",
    "\\end{bmatrix}_{\\ 2j \\times 2j}\n",
    "$$\n",
    "_"
   ]
  },
  {
   "cell_type": "code",
   "execution_count": 23,
   "metadata": {
    "collapsed": true
   },
   "outputs": [],
   "source": [
    "#Los grados de libertad restringidos son:\n",
    "gdlRest = []\n",
    "\n",
    "#En general\n",
    "for i in range(b):\n",
    "    gdlRest.append(2*i)\n",
    "    \n",
    "#Extremo izquierdo\n",
    "if apoyoIzq == 0: #empotramiento\n",
    "    gdlRest.insert(1, 1)\n",
    "elif apoyoIzq == 1: #restricción al giro\n",
    "    gdlRest[0] = 1\n",
    "elif apoyoIzq == 3: #voladizo\n",
    "    del gdlRest[0]\n",
    "else: #apoyo de segundo grado\n",
    "    pass\n",
    "\n",
    "#Extremo derecho\n",
    "if apoyoDer == 0: #empotramiento\n",
    "    gdlRest.append(2*b)\n",
    "    gdlRest.append(2*b + 1)\n",
    "elif apoyoDer == 1: #restricción al giro\n",
    "    gdlRest.append(2*b + 1)\n",
    "elif apoyoDer == 2: #apoyo de segundo género\n",
    "    gdlRest.append(2*b)\n",
    "else: #voladizo\n",
    "    pass"
   ]
  },
  {
   "cell_type": "code",
   "execution_count": 24,
   "metadata": {
    "collapsed": false
   },
   "outputs": [
    {
     "data": {
      "text/plain": [
       "7"
      ]
     },
     "execution_count": 24,
     "metadata": {},
     "output_type": "execute_result"
    }
   ],
   "source": [
    "#Número de reacciones (grados de libertad restringidos)\n",
    "r = len(gdlRest)\n",
    "r"
   ]
  },
  {
   "cell_type": "markdown",
   "metadata": {},
   "source": [
    "### 2.2 Desplazamiento de apoyos\n",
    "Los apoyos pueden sufrir desplazamientos $a_i \\ (i=1, \\dots, r)$ siendo $r$ el número de reacciones."
   ]
  },
  {
   "cell_type": "code",
   "execution_count": 25,
   "metadata": {},
   "outputs": [],
   "source": [
    "#Desplazamiento de apoyos (vector columna r x 1)\n",
    "a = np.zeros(r)"
   ]
  },
  {
   "cell_type": "code",
   "execution_count": 26,
   "metadata": {
    "collapsed": false
   },
   "outputs": [
    {
     "data": {
      "text/plain": [
       "[0, 1, 2, 4, 6, 8, 9]"
      ]
     },
     "execution_count": 26,
     "metadata": {},
     "output_type": "execute_result"
    }
   ],
   "source": [
    "gdlRest"
   ]
  },
  {
   "cell_type": "code",
   "execution_count": 27,
   "metadata": {
    "collapsed": false
   },
   "outputs": [
    {
     "data": {
      "text/plain": [
       "array([[82285714.2857143 ],\n",
       "       [   82285.71428571],\n",
       "       [82285714.2857143 ],\n",
       "       [82285714.2857143 ],\n",
       "       [82285714.2857143 ],\n",
       "       [82285714.2857143 ],\n",
       "       [   82285.71428571]])"
      ]
     },
     "execution_count": 27,
     "metadata": {},
     "output_type": "execute_result"
    }
   ],
   "source": [
    "#Rigidez C (vector columna r x 1)\n",
    "C = np.amax(K) * 1e4 * np.array([\n",
    "        [1],\n",
    "        [0.001],\n",
    "        [1],\n",
    "        [1],\n",
    "        [1],\n",
    "        [1],\n",
    "        [0.001]\n",
    "    ])\n",
    "C"
   ]
  },
  {
   "cell_type": "code",
   "execution_count": 28,
   "metadata": {
    "collapsed": false
   },
   "outputs": [
    {
     "name": "stderr",
     "output_type": "stream",
     "text": [
      "C:\\Users\\USUARIO\\AppData\\Local\\Temp\\ipykernel_9764\\1437921858.py:5: DeprecationWarning: Conversion of an array with ndim > 0 to a scalar is deprecated, and will error in future. Ensure you extract a single element from your array before performing this operation. (Deprecated NumPy 1.25.)\n",
      "  S[i,i] += C[cont]\n"
     ]
    }
   ],
   "source": [
    "#Modificación de la matriz de rigidez por el enfoque de penalización\n",
    "S = K\n",
    "cont = 0 #contador para identificar los elementos de C\n",
    "for i in gdlRest:\n",
    "    S[i,i] += C[cont]\n",
    "    cont += 1"
   ]
  },
  {
   "cell_type": "markdown",
   "metadata": {},
   "source": [
    "### 3.3 Vector de cargas nodales $Q_f$"
   ]
  },
  {
   "cell_type": "code",
   "execution_count": 29,
   "metadata": {
    "collapsed": false
   },
   "outputs": [],
   "source": [
    "#Reacciones nodales equivalentes en cada tramo\n",
    "QF = [0]*b #para guardar los vectores de reacciones nodales equivalentes de cada tramo\n",
    "\n",
    "for i in range(b): #recorre todos los tramos\n",
    "    for j in range(len(cargas[i])): #considera todas las cargas de cada tramo\n",
    "        QF[i] += cargas[i][j].Qf(Tramo[i].L)"
   ]
  },
  {
   "cell_type": "code",
   "execution_count": 30,
   "metadata": {
    "collapsed": false
   },
   "outputs": [
    {
     "data": {
      "text/plain": [
       "array([[ 4.095 ],\n",
       "       [ 4.7775],\n",
       "       [ 4.095 ],\n",
       "       [-4.7775]])"
      ]
     },
     "execution_count": 30,
     "metadata": {},
     "output_type": "execute_result"
    }
   ],
   "source": [
    "QF[0]"
   ]
  },
  {
   "cell_type": "code",
   "execution_count": 31,
   "metadata": {
    "collapsed": false
   },
   "outputs": [
    {
     "data": {
      "text/plain": [
       "array([[ 4.095 ],\n",
       "       [ 4.7775],\n",
       "       [ 4.095 ],\n",
       "       [-4.7775]])"
      ]
     },
     "execution_count": 31,
     "metadata": {},
     "output_type": "execute_result"
    }
   ],
   "source": [
    "QF[1]"
   ]
  },
  {
   "cell_type": "code",
   "execution_count": 32,
   "metadata": {
    "collapsed": false
   },
   "outputs": [],
   "source": [
    "#Ensamble del vector Qf para todos los gdl, incluidos los restringidos\n",
    "Qf = np.zeros((2*nudos,1))\n",
    "for i in range(b):\n",
    "    Qf[2*i:2*i+4,:] += QF[i]"
   ]
  },
  {
   "cell_type": "code",
   "execution_count": 33,
   "metadata": {
    "collapsed": false
   },
   "outputs": [
    {
     "data": {
      "text/plain": [
       "array([[ 4.095 ],\n",
       "       [ 4.7775],\n",
       "       [ 8.19  ],\n",
       "       [ 0.    ],\n",
       "       [ 8.19  ],\n",
       "       [ 0.    ],\n",
       "       [ 8.19  ],\n",
       "       [ 0.    ],\n",
       "       [ 4.095 ],\n",
       "       [-4.7775]])"
      ]
     },
     "execution_count": 33,
     "metadata": {},
     "output_type": "execute_result"
    }
   ],
   "source": [
    "Qf"
   ]
  },
  {
   "cell_type": "markdown",
   "metadata": {},
   "source": [
    "Agregamos el valor $C_i a_i \\ (i=1,\\dots,r)$ a los elementos del vector de cargas correspondientes a los gdl restringidos.\n",
    "$$ \\mathbf{P} = \\begin{bmatrix}\n",
    "F_{1} + C_1 a_1 \\\\\n",
    "F_{2} \\\\\n",
    "F_{3} + C_2 a_2 \\\\\n",
    "\\vdots\n",
    "\\end{bmatrix}_{\\ 2j \\times 1}\n",
    "$$\n",
    "_"
   ]
  },
  {
   "cell_type": "code",
   "execution_count": 35,
   "metadata": {
    "collapsed": false
   },
   "outputs": [],
   "source": [
    "#Modificación del vector de cargas por el enfoque de penalización\n",
    "P = Qf\n",
    "for i in range(r):\n",
    "    P[gdlRest[i],0] = Qf[gdlRest[i],0] + C[i,0] * a[i]"
   ]
  },
  {
   "cell_type": "code",
   "execution_count": 36,
   "metadata": {
    "collapsed": false
   },
   "outputs": [
    {
     "data": {
      "text/plain": [
       "array([[ 4.095 ],\n",
       "       [ 4.7775],\n",
       "       [ 8.19  ],\n",
       "       [ 0.    ],\n",
       "       [ 8.19  ],\n",
       "       [ 0.    ],\n",
       "       [ 8.19  ],\n",
       "       [ 0.    ],\n",
       "       [ 4.095 ],\n",
       "       [-4.7775]])"
      ]
     },
     "execution_count": 36,
     "metadata": {},
     "output_type": "execute_result"
    }
   ],
   "source": [
    "P"
   ]
  },
  {
   "cell_type": "markdown",
   "metadata": {},
   "source": [
    "## 4. Resultados"
   ]
  },
  {
   "cell_type": "markdown",
   "metadata": {},
   "source": [
    "### 4.1 Desplazamientos nodales\n",
    "\n",
    "$$ \\mathbf{d} = \\mathbf{S}^{-1} \\ \\mathbf{P} \n",
    "$$"
   ]
  },
  {
   "cell_type": "code",
   "execution_count": 37,
   "metadata": {
    "collapsed": false
   },
   "outputs": [
    {
     "data": {
      "text/plain": [
       "array([[-4.93187234e-08],\n",
       "       [-5.56266410e-05],\n",
       "       [-1.00127091e-07],\n",
       "       [ 1.39013122e-05],\n",
       "       [-9.92333702e-08],\n",
       "       [ 0.00000000e+00],\n",
       "       [-1.00127091e-07],\n",
       "       [-1.39013122e-05],\n",
       "       [-4.93187234e-08],\n",
       "       [ 5.56266410e-05]])"
      ]
     },
     "execution_count": 37,
     "metadata": {},
     "output_type": "execute_result"
    }
   ],
   "source": [
    "#Desplazamientos nodales\n",
    "d = -np.linalg.inv(S) @ P\n",
    "d"
   ]
  },
  {
   "cell_type": "markdown",
   "metadata": {},
   "source": [
    "$ \\mathbf{d} \\rightarrow \\mathbf{u} $\n",
    "\n",
    "![Elemento de viga](ElementoViga.png 'Elemento de viga')"
   ]
  },
  {
   "cell_type": "code",
   "execution_count": 38,
   "metadata": {
    "collapsed": false
   },
   "outputs": [],
   "source": [
    "#Desplazamientos nodales por tramo\n",
    "u = []\n",
    "for i in range(b):\n",
    "    u.append(d[2*i:2*i+4,:])"
   ]
  },
  {
   "cell_type": "code",
   "execution_count": 39,
   "metadata": {
    "collapsed": false
   },
   "outputs": [
    {
     "data": {
      "text/plain": [
       "array([[-1.00127091e-07],\n",
       "       [ 1.39013122e-05],\n",
       "       [-9.92333702e-08],\n",
       "       [ 0.00000000e+00]])"
      ]
     },
     "execution_count": 39,
     "metadata": {},
     "output_type": "execute_result"
    }
   ],
   "source": [
    "u[1] #m"
   ]
  },
  {
   "cell_type": "markdown",
   "metadata": {},
   "source": [
    "### 4.2 Fuerzas en cada tramo\n",
    "\n",
    "$$\n",
    "\\mathbf{F}^{(i)} = \\mathbf{k}^{(i)} \\mathbf{u}^{(i)} + \\mathbf{Q}^{(i)}_{f} \\qquad i = 1, \\dots, b\n",
    "$$"
   ]
  },
  {
   "cell_type": "code",
   "execution_count": 40,
   "metadata": {
    "collapsed": false
   },
   "outputs": [],
   "source": [
    "#Fuerzas en cada tramo\n",
    "F = []\n",
    "for i in range(b):\n",
    "    F.append(Tramo[i].k @ u[i] + QF[i])"
   ]
  },
  {
   "cell_type": "code",
   "execution_count": 41,
   "metadata": {
    "collapsed": false
   },
   "outputs": [
    {
     "data": {
      "text/plain": [
       "array([[ 4.10725563],\n",
       "       [ 4.83469318],\n",
       "       [ 4.08274437],\n",
       "       [-4.7489038 ]])"
      ]
     },
     "execution_count": 41,
     "metadata": {},
     "output_type": "execute_result"
    }
   ],
   "source": [
    "F[1]   #Tf"
   ]
  },
  {
   "cell_type": "markdown",
   "metadata": {},
   "source": [
    "### 4.3 Reacciones\n",
    "\n",
    "$$ R_i = -C_i ( \\delta_i - a_i)\n",
    "\\qquad i = 1, \\dots, r$$\n",
    "\n",
    "$\\delta_i$: deformaciones de los \"resortes\""
   ]
  },
  {
   "cell_type": "code",
   "execution_count": 42,
   "metadata": {
    "collapsed": false
   },
   "outputs": [],
   "source": [
    "#Reacciones\n",
    "δ = d[gdlRest]\n",
    "R = -C * (δ - a)"
   ]
  },
  {
   "cell_type": "code",
   "execution_count": 43,
   "metadata": {
    "collapsed": false
   },
   "outputs": [
    {
     "data": {
      "text/plain": [
       "array([[ 4.05822639,  4.05822639,  4.05822639,  4.05822639,  4.05822639,\n",
       "         4.05822639,  4.05822639],\n",
       "       [ 4.57727789,  4.57727789,  4.57727789,  4.57727789,  4.57727789,\n",
       "         4.57727789,  4.57727789],\n",
       "       [ 8.23902924,  8.23902924,  8.23902924,  8.23902924,  8.23902924,\n",
       "         8.23902924,  8.23902924],\n",
       "       [ 8.16548875,  8.16548875,  8.16548875,  8.16548875,  8.16548875,\n",
       "         8.16548875,  8.16548875],\n",
       "       [ 8.23902924,  8.23902924,  8.23902924,  8.23902924,  8.23902924,\n",
       "         8.23902924,  8.23902924],\n",
       "       [ 4.05822639,  4.05822639,  4.05822639,  4.05822639,  4.05822639,\n",
       "         4.05822639,  4.05822639],\n",
       "       [-4.57727789, -4.57727789, -4.57727789, -4.57727789, -4.57727789,\n",
       "        -4.57727789, -4.57727789]])"
      ]
     },
     "execution_count": 43,
     "metadata": {},
     "output_type": "execute_result"
    }
   ],
   "source": [
    "R  #T"
   ]
  },
  {
   "cell_type": "markdown",
   "metadata": {},
   "source": [
    "### 4.4 Valores de fuerza cortante"
   ]
  },
  {
   "cell_type": "code",
   "execution_count": 44,
   "metadata": {
    "collapsed": false
   },
   "outputs": [],
   "source": [
    "#Número de secciones a tomar para los gráficos en cada tramo\n",
    "numS = 1000\n",
    "Xt = [] #para guardar las x de cada tramo\n",
    "for i in range(b):\n",
    "    Xt.append(np.linspace(0, Tramo[i].L, numS)) #Ubicación de las secciones"
   ]
  },
  {
   "cell_type": "code",
   "execution_count": 45,
   "metadata": {
    "collapsed": true
   },
   "outputs": [],
   "source": [
    "Cortantes = []\n",
    "for i in range(b): #para cada tramo\n",
    "    \n",
    "    #Cortantes como vigas sin apoyo\n",
    "    Q0 = np.zeros(numS)\n",
    "    for j in range(len(cargas[i])): #considera todas las cargas de cada tramo\n",
    "        m = 0 #para enumerar las secciones\n",
    "        for x in Xt[i]: #recorre las secciones\n",
    "            Q0[m] += cargas[i][j].FQ(x, Tramo[i].L)\n",
    "            m += 1\n",
    "    \n",
    "    #Cortantes en el extremo izquierdo, obtenido del cálculo\n",
    "    Q1 = F[i][0]\n",
    "    \n",
    "    #Cortante total\n",
    "    Cortantes.append(Q0 + Q1)"
   ]
  },
  {
   "cell_type": "code",
   "execution_count": 46,
   "metadata": {
    "collapsed": false
   },
   "outputs": [],
   "source": [
    "#Máximos y mínimos valores de fuerza cortante (en cada tramo)\n",
    "maxCortante = [] #Cortantes máximos por cada tramo\n",
    "minCortante = [] #Cortantes mínimos por cada tramo\n",
    "XmaxQ= [] #ubicaciones de los máximos en cada tramo\n",
    "XminQ = [] #ubicaciones de los mínimos en cada tramo\n",
    "for i in range(b):\n",
    "    maxQ = max(Cortantes[i]) #Máximo cortante\n",
    "    minQ = min(Cortantes[i]) #Mínimo cortante\n",
    "    maxCortante.append(maxQ)\n",
    "    minCortante.append(minQ)\n",
    "    indMaxQ = np.where(Cortantes[i] == maxQ )[0][0] #ubicación del máximo cortante\n",
    "    indMinQ = np.where(Cortantes[i] == minQ )[0][0] #ubicación del mínimo cortante\n",
    "    XmaxQ.append(Xt[i][indMaxQ])\n",
    "    XminQ.append(Xt[i][indMinQ])"
   ]
  },
  {
   "cell_type": "markdown",
   "metadata": {},
   "source": [
    "### 4.4 Valores de momento flector"
   ]
  },
  {
   "cell_type": "code",
   "execution_count": 47,
   "metadata": {
    "collapsed": false
   },
   "outputs": [],
   "source": [
    "Flectores = []\n",
    "for i in range(b): #para cada tramo\n",
    "    \n",
    "    #Momentos como tramos simplemente apoyados\n",
    "    M0 = np.zeros(numS)\n",
    "    for j in range(len(cargas[i])): #considera todas las cargas de cada tramo\n",
    "        m = 0 #para enumerar las secciones\n",
    "        for x in Xt[i]: #recorre las secciones\n",
    "            M0[m] += cargas[i][j].MF(x, Tramo[i].L)\n",
    "            m += 1\n",
    "    \n",
    "    #Momentos debidos a los empotramientos o a la continuidad de la viga\n",
    "    M1 = -F[i][1] + (F[i][3] + F[i][1]) / Tramo[i].L * Xt[i]\n",
    "    \n",
    "    #Momento total\n",
    "    Flectores.append(M0 + M1)"
   ]
  },
  {
   "cell_type": "code",
   "execution_count": 48,
   "metadata": {
    "collapsed": false
   },
   "outputs": [],
   "source": [
    "#Máximos y mínimos valores de momento flector (en cada tramo)\n",
    "maxFlector = [] #Flector máximo en cada tramo\n",
    "minFlector = [] #Flector mínimo en cada tramo\n",
    "XmaxF= [] #ubicaciones de los flectores máximos por tramo\n",
    "XminF = [] #ubicaciones de los mínimos flectores por tramo\n",
    "for i in range(b):\n",
    "    maxF = max(Flectores[i]) #Máximo flector\n",
    "    minF = min(Flectores[i]) #Mínimo flector\n",
    "    maxFlector.append(maxF)\n",
    "    minFlector.append(minF)\n",
    "    indMaxF = np.where(Flectores[i] == maxF )[0][0] #ubicación del máximo flector\n",
    "    indMinF = np.where(Flectores[i] == minF )[0][0] #ubicación del mínimo flector\n",
    "    XmaxF.append(Xt[i][indMaxF])\n",
    "    XminF.append(Xt[i][indMinF])"
   ]
  },
  {
   "cell_type": "markdown",
   "metadata": {},
   "source": [
    "### 4.5 Diagrama de fuerza cortante"
   ]
  },
  {
   "cell_type": "code",
   "execution_count": 49,
   "metadata": {
    "collapsed": true
   },
   "outputs": [],
   "source": [
    "#Valores de x para los gráficos\n",
    "X = []\n",
    "Lacum = 0\n",
    "for i in range(b):\n",
    "    if i > 0:\n",
    "        Lacum += Tramo[i-1].L\n",
    "    Xprov = Xt[i] + Lacum\n",
    "    Xlist = Xprov.tolist()\n",
    "    X += Xlist"
   ]
  },
  {
   "cell_type": "code",
   "execution_count": 50,
   "metadata": {
    "collapsed": false
   },
   "outputs": [],
   "source": [
    "#Valores de la fuerza cortante para los gráficos\n",
    "DFQ = []\n",
    "for i in range(b):\n",
    "    #Valores para el DFQ tipo lista\n",
    "    Corta = (Cortantes[i]).tolist()\n",
    "    DFQ += Corta"
   ]
  },
  {
   "cell_type": "code",
   "execution_count": 51,
   "metadata": {
    "collapsed": false,
    "scrolled": false
   },
   "outputs": [
    {
     "data": {
      "image/png": "[encoded data removed]",
      "text/plain": [
       "<Figure size 1100x600 with 1 Axes>"
      ]
     },
     "metadata": {},
     "output_type": "display_data"
    }
   ],
   "source": [
    "#Graf. principal de fuerza cortante\n",
    "plt.figure(figsize=(11, 6))\n",
    "plt.plot(X, DFQ)\n",
    "plt.title('Diagrama de Fuerza Cortante', fontsize = 16, pad = 20)\n",
    "plt.xlabel('x [m]')\n",
    "plt.ylabel('Fuerza cortante [Ton]')\n",
    "plt.axhline(linewidth = 3)\n",
    "plt.xlim(0, Ltotal)\n",
    "plt.grid()\n",
    "\n",
    "#Textos para valores máximos y mínimos\n",
    "def colocarTextosQ():\n",
    "    LacumQ = 0\n",
    "    for i in range(b):\n",
    "        if i > 0:\n",
    "            LacumQ += Tramo[i-1].L\n",
    "        ubicMax = LacumQ + XmaxQ[i]\n",
    "        ubicMin = LacumQ + XminQ[i]\n",
    "        if ubicMax == Ltotal:\n",
    "            ubicMax = Ltotal - Tramo[i].L/2\n",
    "        if ubicMin == Ltotal:\n",
    "            ubicMin = Ltotal - Tramo[i].L/2\n",
    "        plt.text(ubicMax, maxCortante[i], '$Q_{max} = $' + \\\n",
    "                 str(round(maxCortante[i],2)) + '$T$', fontsize=7)\n",
    "        plt.text(ubicMin, minCortante[i], '$Q_{min} = $' + \\\n",
    "                 str(round(minCortante[i],2)) + '$T$', fontsize=7)\n",
    "\n",
    "colocarTextosQ()\n",
    "        \n",
    "#Para sombrear el graf.\n",
    "Xgraf = [0] + X\n",
    "Xgraf.append(Ltotal)\n",
    "\n",
    "DFQgraf = [0] + DFQ\n",
    "DFQgraf.append(0)\n",
    "\n",
    "plt.fill(Xgraf, DFQgraf, 'b', alpha=0.3)\n",
    "\n",
    "#Divisores de tramos\n",
    "vertical = 0\n",
    "for i in range(b - 1):\n",
    "    vertical += Tramo[i].L\n",
    "    plt.axvline(vertical, color='black')\n",
    "\n",
    "plt.show()"
   ]
  },
  {
   "cell_type": "markdown",
   "metadata": {},
   "source": [
    "### 4.4 Diagrama de momento flector"
   ]
  },
  {
   "cell_type": "code",
   "execution_count": 52,
   "metadata": {
    "collapsed": false
   },
   "outputs": [],
   "source": [
    "#Valores del momento flector para los gráficos\n",
    "DMF = []\n",
    "for i in range(b):\n",
    "    #Valores para el DMF tipo lista\n",
    "    Flex = (Flectores[i]).tolist()\n",
    "    DMF += Flex"
   ]
  },
  {
   "cell_type": "code",
   "execution_count": 53,
   "metadata": {
    "collapsed": false,
    "scrolled": false
   },
   "outputs": [
    {
     "data": {
      "image/png": "[encoded data removed]",
      "text/plain": [
       "<Figure size 1100x600 with 1 Axes>"
      ]
     },
     "metadata": {},
     "output_type": "display_data"
    }
   ],
   "source": [
    "#Graf. principal\n",
    "plt.figure(figsize=(11, 6))\n",
    "plt.plot(X, DMF)\n",
    "plt.title('Diagrama de momento flector', fontsize = 16, pad=20)\n",
    "plt.xlabel('x [m]')\n",
    "plt.ylabel('Momento flector [Tonf*m]')\n",
    "plt.gca().invert_yaxis() #invierte el eje y\n",
    "plt.axhline(linewidth = 3)\n",
    "plt.xlim(0, Ltotal)\n",
    "plt.grid()\n",
    "\n",
    "#Función para colocar Textos de valores máximos y mínimos en flexión\n",
    "def colocarTextosF():\n",
    "    LacumM = 0\n",
    "    for i in range(b):\n",
    "        if i > 0:\n",
    "            LacumM += Tramo[i-1].L\n",
    "        ubicMax = LacumM + XmaxF[i]\n",
    "        ubicMin = LacumM + XminF[i]\n",
    "        if ubicMax == Ltotal:\n",
    "            ubicMax = Ltotal - Tramo[i].L/2\n",
    "        if ubicMin == Ltotal:\n",
    "            ubicMin = Ltotal - Tramo[i].L/2\n",
    "        plt.text(ubicMax, maxFlector[i], '$M_{max} = $' + \\\n",
    "                 str(round(maxFlector[i],2)) + '$Tonf*m$', fontsize=7)\n",
    "        plt.text(ubicMin, minFlector[i], '$M_{min} = $' + str(round(minFlector[i],2)) + '$Tonf*m$', fontsize=7)\n",
    "\n",
    "colocarTextosF()\n",
    "        \n",
    "#Para sombrear el graf.\n",
    "Xgraf = [0] + X\n",
    "Xgraf.append(Ltotal)\n",
    "\n",
    "DMFgraf = [0] + DMF\n",
    "DMFgraf.append(0)\n",
    "\n",
    "plt.fill(Xgraf, DMFgraf, 'b', alpha=0.3)\n",
    "\n",
    "#Divisores de tramos\n",
    "vertical = 0\n",
    "for i in range(b - 1):\n",
    "    vertical += Tramo[i].L\n",
    "    plt.axvline(vertical, color='black')\n",
    "\n",
    "plt.show()"
   ]
  }
 ],
 "metadata": {
  "kernelspec": {
   "display_name": "Python 3",
   "language": "python",
   "name": "python3"
  },
  "language_info": {
   "codemirror_mode": {
    "name": "ipython",
    "version": 3
   },
   "file_extension": ".py",
   "mimetype": "text/x-python",
   "name": "python",
   "nbconvert_exporter": "python",
   "pygments_lexer": "ipython3",
   "version": "3.12.0"
  }
 },
 "nbformat": 4,
 "nbformat_minor": 0
}
