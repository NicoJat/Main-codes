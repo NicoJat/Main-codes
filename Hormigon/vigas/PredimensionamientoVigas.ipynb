{
 "cells": [
  {
   "cell_type": "markdown",
   "metadata": {},
   "source": [
    "<img src='./Images/vigas1.png'>"
   ]
  },
  {
   "cell_type": "code",
   "execution_count": 1,
   "metadata": {},
   "outputs": [
    {
     "name": "stdout",
     "output_type": "stream",
     "text": [
      "La Altura mínima h de la viga es: 0.34108571428571427 m.\n"
     ]
    }
   ],
   "source": [
    "#Para condiciones no sísmicas\n",
    "\n",
    "fy = 4200 #kgf/cm2\n",
    "\n",
    "#1: Simply Supported\n",
    "#2: One end Continuous\n",
    "#3: Both ends Continuous\n",
    "#4: Cantilever\n",
    "\n",
    "TipoViga = 3\n",
    "l = 7.1628 #m (Longitud de vano)\n",
    "f1 = 0.4+(fy/7000)\n",
    "\n",
    "#Altura mínima (Para concreto de eso normal)\n",
    "if TipoViga == 1:\n",
    "    h = (l/16)*f1\n",
    "elif TipoViga == 2:\n",
    "    h = (l/18.5)*f1\n",
    "elif TipoViga == 3:\n",
    "    h = (l/21)*f1\n",
    "elif TipoViga == 4:\n",
    "    h = (l/8)*f1\n",
    "\n",
    "print(f'La Altura mínima h de la viga es: {h} m.')"
   ]
  },
  {
   "cell_type": "code",
   "execution_count": 2,
   "metadata": {},
   "outputs": [
    {
     "name": "stdout",
     "output_type": "stream",
     "text": [
      "El bmin es: 0.12 m\n",
      "El bmax es: 1.35 m\n"
     ]
    }
   ],
   "source": [
    "#En condiciones Sísmicas (SDC D (Ecuador))\n",
    "\n",
    "# bmin debe ser el menor entre 0.3h & 10inch o 25.4cm\n",
    "# bmax debe ser el menor entre 3c2 y c2 + 1.5c1 \n",
    "# Ver las consideraciones de la ACI 18.6.2\n",
    "\n",
    "h1 = 0.4 #Seleccionar una altura h de viga arbitraria\n",
    "c1 = 0.5 #Lado paralelo a la viga en cuestión\n",
    "c2 = 0.6 #Lado perpendicular a la viga en cuestión\n",
    "\n",
    "bmin = min((0.3*h1), 25.4)\n",
    "bmax = min((3*c2), (c2 + (1.5*c1)))\n",
    "print(f'El bmin es: {bmin} m')\n",
    "print(f'El bmax es: {bmax} m')"
   ]
  },
  {
   "cell_type": "code",
   "execution_count": 3,
   "metadata": {},
   "outputs": [
    {
     "name": "stdout",
     "output_type": "stream",
     "text": [
      "El bmin es: 0.12 m\n",
      "El bmax es: 0.375 m\n"
     ]
    }
   ],
   "source": [
    "# Para el caso descrito en la figura\n",
    "\n",
    "bmin = min((0.3*h1), 25.4)\n",
    "bmax = min(c2, (0.75*c1))\n",
    "print(f'El bmin es: {bmin} m')\n",
    "print(f'El bmax es: {bmax} m')"
   ]
  },
  {
   "cell_type": "markdown",
   "metadata": {},
   "source": [
    "<img src='./Images/vigas2.png'>"
   ]
  },
  {
   "cell_type": "markdown",
   "metadata": {},
   "source": [
    "Design of Beams When Section Dimensions Are Not Known\n",
    "\n",
    "The second general type of section design problem involves finding b, d, and As . Three decisions\n",
    "not encountered in Example 5-4 must be made here, that is, a preliminary estimate\n",
    "of the self weight of the beam, selection of a target steel percentage, and final selection of\n",
    "the section dimensions b and h (and d ).\n",
    "Although no dependable rule exists for guessing the weight of beams prior to selection\n",
    "of the dimensions, the weight of a rectangular beam will be roughly 10 to 15 percent\n",
    "of the unfactored loads it must carry. Alternatively, one can estimate h as being between\n",
    "1/18 and 1/12 of the span, as discussed previously. Past practice at this stage was to estimate\n",
    "b as approximately 0.5h. However, to save form-work costs, it is becoming more\n",
    "common to select the beam width equal to the column width if that dimension is known at\n",
    "this stage of the design. Even if the column width has not yet been determined, it is probably\n",
    "better to assume\n",
    "a wider beam width—say b at approximately 0.8 h—when estimating\n",
    "the weight of the beam. The dead load estimated at this stage will be corrected when the\n",
    "section dimensions are finally chosen, if necessary. (McGregor & White, p. 196)"
   ]
  },
  {
   "cell_type": "code",
   "execution_count": 4,
   "metadata": {},
   "outputs": [
    {
     "name": "stdout",
     "output_type": "stream",
     "text": [
      "La altura h es: 0.35000000000000003 m\n",
      "El ancho bw es: 0.30000000000000004 m\n"
     ]
    }
   ],
   "source": [
    "import numpy as np\n",
    "import sympy as sp\n",
    "\n",
    "h = round(h,6)\n",
    "bw = h*0.75\n",
    "\n",
    "print(f'La altura h es: {((round(h,2)+0.05)//0.05)*0.05} m')\n",
    "print(f'El ancho bw es: {((round(bw,2)+0.05)//0.05)*0.05} m')"
   ]
  },
  {
   "cell_type": "code",
   "execution_count": 5,
   "metadata": {},
   "outputs": [
    {
     "name": "stdout",
     "output_type": "stream",
     "text": [
      "Wu: 1.0512936642953599 Tonf\n",
      "Mu: 4.85 Tonf*m\n",
      "pmin = 0.0033333333333333335\n",
      "pbal = 0.024285714285714282\n",
      "pmax = 0.015482142857142854\n",
      "pmid = 0.009407738095238094\n"
     ]
    }
   ],
   "source": [
    "#Peso de la viga\n",
    "gh = 2.4 #Tonf/m3 (Densidad del Hormigón)\n",
    "Wpviga = (h*bw)*gh #Tonf/m\n",
    "Wd = 0.4 #Tonf/m\n",
    "Wl = 0.2 #Tonf/m\n",
    "Wu = (1.2*(Wd + Wpviga)) + (1.6*Wl)\n",
    "print(f'Wu: {Wu} Tonf')\n",
    "\n",
    "Mu = 4.85 #En Tonf*m\n",
    "print(f'Mu: {Mu} Tonf*m')\n",
    "\n",
    "phi = 0.9\n",
    "fy = 4200 #kg/cm2\n",
    "fc = 240 #kg/cm2\n",
    "Es = 2000000 #kg/cm2\n",
    "\n",
    "if fc <= 280:\n",
    "    B1 = 0.85\n",
    "elif fc > 280 and fc <= 560:\n",
    "    B1 = 0.85 - (0.05*((fc-280)/70))\n",
    "elif fc > 560:\n",
    "    B1 = 0.65\n",
    "\n",
    "eu = 0.003\n",
    "ey = fy/Es\n",
    "ety = 0.005 #ACI (For Tension controled members)\n",
    "\n",
    "#cuantías\n",
    "pmin = max((0.8*np.sqrt(fc)/fy), (14/fy))\n",
    "pbal = 0.85*B1*(fc/fy)*(eu/(eu + ey)) \n",
    "pmax = 0.85*B1*(fc/fy)*(eu/(eu + ety)) \n",
    "pmid = np.average((pmin,pmax))\n",
    "\n",
    "print(f'pmin = {pmin}')\n",
    "print(f'pbal = {pbal}')\n",
    "print(f'pmax = {pmax}')\n",
    "print(f'pmid = {pmid}')"
   ]
  },
  {
   "cell_type": "markdown",
   "metadata": {},
   "source": [
    "<img src='./Images/vigas3.PNG'>"
   ]
  },
  {
   "cell_type": "markdown",
   "metadata": {},
   "source": [
    "### Diseño de viga simplemente armada"
   ]
  },
  {
   "cell_type": "markdown",
   "metadata": {},
   "source": [
    "Verificación del bw según resistencia gravitacional requerida"
   ]
  },
  {
   "cell_type": "markdown",
   "metadata": {},
   "source": [
    "\\begin{align*}\n",
    "&Mn = Rbd^{2} \\\\\n",
    "&R = \\rho \\cdot f_{y}(1 - 0.59\\frac{\\rho \\cdot f_{y}}{f'_{c}})\n",
    "\\end{align*}"
   ]
  },
  {
   "cell_type": "code",
   "execution_count": 6,
   "metadata": {},
   "outputs": [
    {
     "name": "stdout",
     "output_type": "stream",
     "text": [
      "Mn: 6.423744193593751 Tonf*m\n",
      "Mu: 4.85 Tonf*m\n",
      "La altura h es: 0.35000000000000003 m\n",
      "El ancho b es: 0.2 m\n"
     ]
    }
   ],
   "source": [
    "R = pmid*fy*(1 - (0.588*(pmid*fy/fc)))*10 #*10 para pasar de kg/cm2 a Tonf/m2\n",
    "\n",
    "rec = 0.04 #m\n",
    "destribo = 0.01 #m\n",
    "d = ((round(((Mu/(0.7*phi*R))**(1/3)),2)+0.05)//0.05)*0.05 #m\n",
    "b = ((round(Mu/(phi*R*(d**2)),2)+0.05)//0.05)*0.05\n",
    "h = d + rec + (destribo)\n",
    "Mn = R*b*(d**2)\n",
    "\n",
    "print(f'Mn: {Mn} Tonf*m')\n",
    "print(f'Mu: {Mu} Tonf*m')\n",
    "print(f'La altura h es: {((round(h,2)+0.05)//0.05)*0.05} m')\n",
    "print(f'El ancho b es: {((round(b,2)+0.05)//0.05)*0.05} m')\n"
   ]
  },
  {
   "cell_type": "code",
   "execution_count": 7,
   "metadata": {},
   "outputs": [
    {
     "name": "stdout",
     "output_type": "stream",
     "text": [
      "As inicial: 4.73550268319426 cm2\n",
      "Varillas\n",
      "1 -  4.0 φ 14.0, Area = 6.16 cm2\n",
      "2 -  3.0 φ 16.0, Area = 6.03 cm2\n",
      "3 -  2.0 φ 18.0, Area = 5.09 cm2\n",
      "4 -  1.0 φ 25.0, Area = 4.91 cm2\n",
      "5 -  1.0 φ 28.0, Area = 6.16 cm2\n",
      "\n",
      "Varillas combinadas\n",
      "1 -  2.0 φ 14.0 & 1.0 φ 18.0, Area = 5.62 cm2\n",
      "2 -  2.0 φ 14.0 & 1.0 φ 20.0, Area = 6.22 cm2\n",
      "3 -  1.0 φ 16.0 & 1.0 φ 20.0, Area = 5.15 cm2\n",
      "4 -  1.0 φ 16.0 & 1.0 φ 22.0, Area = 5.81 cm2\n"
     ]
    }
   ],
   "source": [
    "#Determinación del acero As\n",
    "omega = pmid*(fy/fc)\n",
    "a = omega*d/0.85 #m\n",
    "As_init = Mu/(phi*(fy*10)*(d-(a*0.5))) #m2\n",
    "print(f'As inicial: {As_init*10000} cm2')\n",
    "\n",
    "##########################################\n",
    "\n",
    "import Varillas as Var\n",
    "\n",
    "\n",
    "tolerancia = 1.5\n",
    "Varillas = Var.Varillas(As_init*10000,tolerancia) #Tomar en cuenta que el previo valor de As está en m2, la función sólo aplica con cm2.\n",
    "\n",
    "print('Varillas')\n",
    "for i in range(len(Varillas)):\n",
    "    print(f\"{i+1} -  {Varillas[i, 0]} \\u03C6 {Varillas[i, 1]}, Area = {Varillas[i, 2]} cm2\")\n",
    "\n",
    "\n",
    "Varillas_comb = Var.Varillas_comb(As_init*10000,tolerancia) #Tomar en cuenta que el previo valor de As está en m2, la función sólo aplica con cm2.\n",
    "print('\\nVarillas combinadas')\n",
    "for i in range(len(Varillas_comb)):\n",
    "    print(f\"{i+1} -  {Varillas_comb[i, 0]} \\u03C6 {Varillas_comb[i, 1]} & {Varillas_comb[i, 2]} \\u03C6 {Varillas_comb[i, 3]}, Area = {Varillas_comb[i, 4]} cm2\")\n"
   ]
  },
  {
   "cell_type": "code",
   "execution_count": 8,
   "metadata": {},
   "outputs": [
    {
     "name": "stdout",
     "output_type": "stream",
     "text": [
      "\n",
      "Varillas de 3φ18 y 3φ12\n",
      "As final (corregido): 11.026990214100174 cm2\n"
     ]
    }
   ],
   "source": [
    "cant1 = 3\n",
    "cant2 = 3\n",
    "diam1 = 18 #mm\n",
    "diam2 = 12 #mm\n",
    "As = (cant1*(np.pi*((diam1/1000)**2)*0.25)) + (cant2*(np.pi*((diam2/1000)**2)*0.25)) #m2\n",
    "print(f\"\\nVarillas de {cant1}\\u03C6{diam1} y {cant2}\\u03C6{diam2}\")\n",
    "print(f'As final (corregido): {As*10000} cm2')"
   ]
  },
  {
   "cell_type": "code",
   "execution_count": 9,
   "metadata": {},
   "outputs": [
    {
     "name": "stdout",
     "output_type": "stream",
     "text": [
      "Espaciemiento superior: 2.8000000000000007 cm\n",
      "Espaciemiento inferior: 3.7000000000000006 cm\n",
      "\n",
      " La sección está en zona de transición\n",
      "\n",
      "No se necesita comprobar el Asmin porque la cuantía utilizada ya la supera la cuantía minima\n",
      "\n",
      "Por ultimo\n",
      "φMn = 8.861481274977379 Tonf*m\n",
      "La viga resiste, Mu = 4.85 Tonf*m\n"
     ]
    }
   ],
   "source": [
    "#Espaciamiento \n",
    "cantsup = cant1\n",
    "diamsup = diam1 /1000   #m\n",
    "cantinf = cant2\n",
    "diaminf = diam2 /1000   #m\n",
    "As_sup = np.pi*(diamsup**2)/4 #m2\n",
    "As_inf = np.pi*(diaminf**2)/4 #m2\n",
    "espsup = (b-(2*rec)-(cantsup*diamsup)-destribo)/(cantsup-1) #m\n",
    "espinf = (b-(2*rec)-(cantinf*diaminf)-destribo)/(cantinf-1) #m\n",
    "print(f'Espaciemiento superior: {espsup*100} cm')\n",
    "print(f'Espaciemiento inferior: {espinf*100} cm')\n",
    "\n",
    "a_corr = ((As*10000)*fy)/(0.85*fc*(b*100))   #cm\n",
    "c = (a_corr)/B1    #cm\n",
    "es = (((d*100)-c)/c)*eu\n",
    "if es > (ey+0.003):\n",
    "    print(f'\\nSe asumió correctamente que la sección está controlada a tensión (\\u03C6 = 0.9)')\n",
    "    print('\\nNo se necesita comprobar el Asmin porque la cuantía utilizada ya la supera la cuantía minima')\n",
    "    print('\\nPor ultimo')\n",
    "    phiMn = phi*As*(fy*10)*(d-((a_corr/100)/2))\n",
    "    \n",
    "    if phiMn > Mu:\n",
    "        print(f'\\u03C6Mn = {phiMn} Tonf*m')\n",
    "        print(f'La viga resiste, Mu = {Mu} Tonf*m')\n",
    "    else:\n",
    "        print(f'\\u03C6Mn = {phiMn} Tonf*m')\n",
    "        print(f'La viga no resiste, Mu = {Mu} Tonf*m')\n",
    "\n",
    "elif es < (ey+0.003) and es > ey:\n",
    "    print(f'\\n La sección está en zona de transición')\n",
    "    print('\\nNo se necesita comprobar el Asmin porque la cuantía utilizada ya la supera la cuantía minima')\n",
    "    print('\\nPor ultimo')\n",
    "\n",
    "    phi = 0.65 + (0.25*((es-ey)/eu))\n",
    "    Mn = As*(fy*10)*(d-((a_corr/100)/2))\n",
    "    phiMn = phi*Mn\n",
    "\n",
    "    if phiMn > Mu:\n",
    "        print(f'\\u03C6Mn = {phiMn} Tonf*m')\n",
    "        print(f'La viga resiste, Mu = {Mu} Tonf*m')\n",
    "    else:\n",
    "        print(f'\\u03C6Mn = {phiMn} Tonf*m')\n",
    "        print(f'La viga no resiste, Mu = {Mu} Tonf*m')\n",
    "\n",
    "elif es < ey:\n",
    "    print(f'\\nLa sección está controlada a compresion (\\u03C6 no es 0.9)')\n",
    "    print(f'La viga está sobrereforzada')\n",
    "    #El siguiente procedimiento se encuentra en la pagina 147 de McGregor & White\n",
    "\n",
    "    c1 = sp.symbols('c1')\n",
    "    ecuacion = (As_inf*(Es*10)*((d-c1)/c1)*eu)-(0.85*(fc*10)*b*B1*c1)\n",
    "    raices = sp.solve(ecuacion, c1)\n",
    "    #print(raices)\n",
    "    for raiz in raices:\n",
    "        if raiz > 0:  # Verificar si la raíz es positiva\n",
    "            c = raiz\n",
    "            a_corr = c*B1\n",
    "            break\n",
    "\n",
    "    T = (As_inf*(Es*10)*((d-c)/c)*eu)\n",
    "    Cc = (0.85*(fc*10)*b*B1*c)\n",
    "    FuerzaT_C = np.average((T,Cc))\n",
    "    Mn = FuerzaT_C*(d - (a_corr/2))\n",
    "    es = ((d-c)/c)*eu\n",
    "    phi = 0.65 + (0.25*((es - ey)/eu))\n",
    "    phiMn = phi*Mn\n",
    "    if phiMn > Mu:\n",
    "        print(f'\\u03C6Mn = {phiMn} Tonf*m')\n",
    "        print(f'La viga resiste, Mu = {Mu} Tonf*m')\n",
    "    else:\n",
    "        print(f'\\u03C6Mn = {phiMn} Tonf*m')\n",
    "        print(f'La viga no resiste, Mu = {Mu} Tonf*m')\n",
    "\n",
    "\n",
    "\n"
   ]
  },
  {
   "cell_type": "markdown",
   "metadata": {},
   "source": [
    "### Diseño de viga doblemente armada"
   ]
  },
  {
   "cell_type": "code",
   "execution_count": 10,
   "metadata": {},
   "outputs": [],
   "source": [
    "###########"
   ]
  }
 ],
 "metadata": {
  "kernelspec": {
   "display_name": "Python 3",
   "language": "python",
   "name": "python3"
  },
  "language_info": {
   "codemirror_mode": {
    "name": "ipython",
    "version": 3
   },
   "file_extension": ".py",
   "mimetype": "text/x-python",
   "name": "python",
   "nbconvert_exporter": "python",
   "pygments_lexer": "ipython3",
   "version": "3.12.0"
  }
 },
 "nbformat": 4,
 "nbformat_minor": 2
}
