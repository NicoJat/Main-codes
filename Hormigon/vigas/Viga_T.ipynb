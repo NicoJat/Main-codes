{
 "cells": [
  {
   "cell_type": "markdown",
   "metadata": {},
   "source": [
    "## Diseño de Vigas tipo T"
   ]
  },
  {
   "cell_type": "markdown",
   "metadata": {},
   "source": [
    "### Dimensionamiento"
   ]
  },
  {
   "cell_type": "code",
   "execution_count": 9,
   "metadata": {},
   "outputs": [
    {
     "name": "stdout",
     "output_type": "stream",
     "text": [
      "La Altura mínima h de la viga sin Losa es: 0.3410857142857143 m.\n",
      "La Altura h de la viga total es: 0.55 m.\n"
     ]
    }
   ],
   "source": [
    "import numpy as np\n",
    "import pandas as pd\n",
    "import matplotlib.pyplot as plt\n",
    "\n",
    "#Dimensionamiento\n",
    "hf = 20 #cm  Altura de la losa\n",
    "fy = 4200 #kgf/cm2\n",
    "fc = 280 #kgf/cm2\n",
    "Es = 2000000 #kg/cm2\n",
    "\n",
    "\n",
    "if fc <= 280:\n",
    "    B1 = 0.85\n",
    "elif fc > 280 and fc <= 560:\n",
    "    B1 = 0.85 - (0.05*((fc-280)/70))\n",
    "elif fc > 560:\n",
    "    B1 = 0.65\n",
    "\n",
    "\n",
    "#Altura de la Viga\n",
    "\n",
    "#1: Simply Supported\n",
    "#2: One end Continuous\n",
    "#3: Both ends Continuous\n",
    "#4: Cantilever\n",
    "\n",
    "TipoViga = 3\n",
    "l = 716.28 #cm (Longitud de vano)\n",
    "f1 = 0.4+(fy/7000)\n",
    "\n",
    "#Altura mínima (Para concreto de eso normal)\n",
    "if TipoViga == 1:\n",
    "    h = (l/16)*f1\n",
    "elif TipoViga == 2:\n",
    "    h = (l/18.5)*f1\n",
    "elif TipoViga == 3:\n",
    "    h = (l/21)*f1\n",
    "elif TipoViga == 4:\n",
    "    h = (l/8)*f1\n",
    "\n",
    "ht = (((h+hf)/ 5) // 1 + 1) * 5 #cm\n",
    "print(f'La Altura mínima h de la viga sin Losa es: {h/100} m.')\n",
    "print(f'La Altura h de la viga total es: {ht/100} m.')"
   ]
  },
  {
   "cell_type": "markdown",
   "metadata": {},
   "source": [
    "Verificación del bw según resistencia gravitacional requerida\n",
    "\n",
    "\\begin{align*}\n",
    "&Mn = Rbd^{2} \\\\\n",
    "&R = \\rho \\cdot f_{y}(1 - 0.59\\frac{\\rho \\cdot f_{y}}{f'_{c}})\n",
    "\\end{align*}"
   ]
  },
  {
   "cell_type": "markdown",
   "metadata": {},
   "source": [
    "<img src='./Images/Vigas3.PNG' height='355px' width='620px'>"
   ]
  },
  {
   "cell_type": "code",
   "execution_count": 10,
   "metadata": {},
   "outputs": [
    {
     "name": "stdout",
     "output_type": "stream",
     "text": [
      "Relación cumplida\n",
      "El bmin es: 25 cm\n",
      "El bmax es: 60 cm\n",
      "El bw es: 25 cm\n"
     ]
    }
   ],
   "source": [
    "rec = 4 #cm\n",
    "dest = 1 #cm\n",
    "dvar = 1.6 #cm\n",
    "d = ht - rec - dest - (dvar/2)\n",
    "\n",
    "Mu = 16 #Tonf*m\n",
    "Mu = Mu*100000 #kgf*cm\n",
    "\n",
    "p = 0.0181\n",
    "R = p*fy*(1-(0.59*(p*fy/fc)))\n",
    "bw1 = Mu/(R*(d**2)) #Valor de bw en caso de tratarse de Losa!!\n",
    "\n",
    "#Para viga aislada\n",
    "c1 = 50 #cm Lado paralelo de la columna a la viga en cuestión\n",
    "c2 = 60 #cm Lado perpendicular de la columna a la viga en cuestión\n",
    "\n",
    "# Para el caso descrito en la figura (Solo vigas aisladas)\n",
    "bmin = max((0.3*(ht)), 25)\n",
    "bmax = max(c2, (0.75*c1))\n",
    "bw = min(max(bw1, bmin), bmax)\n",
    "\n",
    "if (0.5*bw) <= hf: #Solo para vigas aisladas\n",
    "    print('Relación cumplida')\n",
    "else:\n",
    "    print('Es necesario aumentar el bw o disminuir el hf para cumplir la relación ')\n",
    "    \n",
    "print(f'El bmin es: {bmin} cm')\n",
    "print(f'El bmax es: {bmax} cm')\n",
    "print(f'El bw es: {bw} cm')\n"
   ]
  },
  {
   "cell_type": "markdown",
   "metadata": {},
   "source": [
    "#### ACI 6.3.2\n",
    "\n",
    "6.3.2.1 Para vigas en T no pretensadas que soporten losas monolíticas o mixtas, la anchura efectiva del ala bf incluirá la anchura del alma de la viga bw más una anchura efectiva del ala en voladizo de acuerdo con la Tabla 6.3.2.1, donde h es el espesor de la losa y sw es la distancia libre al alma adyacente.\n",
    "\n",
    "6.3.2.2 Vigas en T aisladas no pretensadas en las que el ala brida se utiliza para proporcionar un área de compresión adicional deberán tener un espesor de ala mayor o igual a 0,5bw y una anchura efectiva de ala menor o igual a 4bw."
   ]
  },
  {
   "cell_type": "markdown",
   "metadata": {},
   "source": [
    "<img src='./Images/vigasT1.PNG' height='255px' width='420px'>\n",
    "<img src='./Images/VigasT2.PNG' height='250px' width='600px'>"
   ]
  },
  {
   "cell_type": "code",
   "execution_count": 11,
   "metadata": {},
   "outputs": [
    {
     "name": "stdout",
     "output_type": "stream",
     "text": [
      "El ancho bf = 100 cm\n"
     ]
    }
   ],
   "source": [
    "sw = 400 #cm\n",
    "bf =  min((4*bw), (( (bw + (min((8*hf), (sw/2), (l/8)))) / 5) // 1 + 1) * 5) #cm  (Sólo para viga aisladas)\n",
    "#bf =  (( (bw + (min((8*hf), (sw/2), (l/8)))) / 5) // 1 + 1) * 5 #cm  (Para Losas)\n",
    "print(f'El ancho bf = {bf} cm')"
   ]
  },
  {
   "cell_type": "markdown",
   "metadata": {},
   "source": [
    "### Calculo de As"
   ]
  },
  {
   "cell_type": "markdown",
   "metadata": {},
   "source": [
    "Determine si la profundidad a de la distribución rectangular de tensiones será mayor para a = t,\n",
    "\n",
    "\\begin{align*}\n",
    "C = 0.85 f'_{c} b_{f} t \\\\\n",
    "Mn = C(d - \\frac{t}{2})\n",
    "\\end{align*}"
   ]
  },
  {
   "cell_type": "markdown",
   "metadata": {},
   "source": [
    "<img src='./Images/vigaT3.PNG'>"
   ]
  },
  {
   "cell_type": "markdown",
   "metadata": {},
   "source": [
    "Si a < hf   entonces \n",
    "\n",
    "\\begin{align*}\n",
    "\\rho = \\frac{0.85 f'_{c}}{f_{y}}  \\left [ 1-\\sqrt{1-\\frac{4M_{u}}{1.7\\phi f'_{c} b d^{2}}} \\right ]\n",
    "\\end{align*}"
   ]
  },
  {
   "cell_type": "code",
   "execution_count": 12,
   "metadata": {},
   "outputs": [
    {
     "name": "stdout",
     "output_type": "stream",
     "text": [
      "Eje neutro ubicado en el ala, se puede diseñar como viga rectangular\n",
      "Entonces el As = 8.740262405725247 cm2\n"
     ]
    }
   ],
   "source": [
    "from sympy import symbols, Eq, solve\n",
    "phi = 0.9\n",
    "phiMn = Mu/phi #Mn requerido\n",
    "C = B1*fc*bf*hf\n",
    "Mn = C*(d - (hf/2))\n",
    "A2 = (hf*bf) - (bw*hf)\n",
    "#A1 = bw*a\n",
    "\n",
    "if Mn > phiMn:\n",
    "    print('Eje neutro ubicado en el ala, se puede diseñar como viga rectangular')\n",
    "    p = (0.85*fc/fy)*(1-np.sqrt(1-((4*Mu)/(1.7*phi*fc*bf*(d**2)))))\n",
    "    As = p*bf*d\n",
    "    print(f'Entonces el As = {As} cm2')\n",
    "\n",
    "\n",
    "else:\n",
    "    print('Eje neutro ubicado en el alma')\n",
    "    x = symbols('x')\n",
    "    ecuacion = Eq((B1*fc*(bw*x)*(d-(x/2)) + (0.85*fc*A2*(d-(hf/2)))), phiMn)\n",
    "    a = solve(ecuacion, x)\n",
    "    print(f'Valor de a = {a} cm')\n",
    "    \n",
    "    C1 = B1*fc*bw*a\n",
    "    T1 = C1\n",
    "    As1 = T1/fy\n",
    "\n",
    "    C2 = B1*fc*(bf-bw)*hf\n",
    "    T2 = C2\n",
    "    As2 = T2/fy\n",
    "\n",
    "    As = As1 + As2\n",
    "\n",
    "    #Verificar Asmin\n",
    "    '''El área mínima de refuerzo de tracción requerida en el Código ACI para \n",
    "    secciones rectangulares o en T con alas en compresión (ACI 9.6.1.2)\n",
    "    \n",
    "    9.6.1.2 As,min será el mayor de (a) y (b), salvo lo dispuesto en lo dispuesto en 9.6.1.3. \n",
    "    Para una viga estáticamente determinada con un ala sometida a tracción, el valor de \n",
    "    bw será el menor de bf y 2bw. El valor de fy se limitará a un máximo de 550 MPa.\n",
    "    '''\n",
    "    Asmin = max((0.8*np.sqrt(fc)*bw*d/fy), (14*bw*d/fy))\n",
    "\n",
    "    if As < Asmin:\n",
    "        As = Asmin\n",
    "    else:\n",
    "        pass\n",
    "\n",
    "    print(f'Entonces el As = {As} cm2')\n",
    "\n"
   ]
  }
 ],
 "metadata": {
  "kernelspec": {
   "display_name": "Python 3",
   "language": "python",
   "name": "python3"
  },
  "language_info": {
   "codemirror_mode": {
    "name": "ipython",
    "version": 3
   },
   "file_extension": ".py",
   "mimetype": "text/x-python",
   "name": "python",
   "nbconvert_exporter": "python",
   "pygments_lexer": "ipython3",
   "version": "3.12.0"
  }
 },
 "nbformat": 4,
 "nbformat_minor": 2
}
