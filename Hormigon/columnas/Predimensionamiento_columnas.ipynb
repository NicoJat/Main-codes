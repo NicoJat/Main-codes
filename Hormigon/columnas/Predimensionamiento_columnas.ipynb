{
 "cells": [
  {
   "cell_type": "code",
   "execution_count": 8,
   "metadata": {},
   "outputs": [
    {
     "name": "stdout",
     "output_type": "stream",
     "text": [
      "El valor de cada lado de la columna C x C es 0.44999999999999996 m\n"
     ]
    },
    {
     "data": {
      "text/html": [
       "<style type=\"text/css\">\n",
       "</style>\n",
       "<table id=\"T_99e88\">\n",
       "  <caption>Derivas por piso</caption>\n",
       "  <thead>\n",
       "    <tr>\n",
       "      <th class=\"blank level0\" >&nbsp;</th>\n",
       "      <th id=\"T_99e88_level0_col0\" class=\"col_heading level0 col0\" >0</th>\n",
       "      <th id=\"T_99e88_level0_col1\" class=\"col_heading level0 col1\" >1</th>\n",
       "    </tr>\n",
       "  </thead>\n",
       "  <tbody>\n",
       "    <tr>\n",
       "      <th id=\"T_99e88_level0_row0\" class=\"row_heading level0 row0\" >0</th>\n",
       "      <td id=\"T_99e88_row0_col0\" class=\"data row0 col0\" >3.000000</td>\n",
       "      <td id=\"T_99e88_row0_col1\" class=\"data row0 col1\" >0.799841</td>\n",
       "    </tr>\n",
       "    <tr>\n",
       "      <th id=\"T_99e88_level0_row1\" class=\"row_heading level0 row1\" >1</th>\n",
       "      <td id=\"T_99e88_row1_col0\" class=\"data row1 col0\" >2.000000</td>\n",
       "      <td id=\"T_99e88_row1_col1\" class=\"data row1 col1\" >1.441263</td>\n",
       "    </tr>\n",
       "    <tr>\n",
       "      <th id=\"T_99e88_level0_row2\" class=\"row_heading level0 row2\" >2</th>\n",
       "      <td id=\"T_99e88_row2_col0\" class=\"data row2 col0\" >1.000000</td>\n",
       "      <td id=\"T_99e88_row2_col1\" class=\"data row2 col1\" >1.797226</td>\n",
       "    </tr>\n",
       "  </tbody>\n",
       "</table>\n"
      ],
      "text/plain": [
       "<pandas.io.formats.style.Styler at 0x121967d6660>"
      ]
     },
     "metadata": {},
     "output_type": "display_data"
    }
   ],
   "source": [
    "'''\n",
    "El predimensionamiento de estas columnas está ideado para columnas que pertenezcan al sistema resistente lateral,\n",
    "tomar en cuenta cuantas cuantas columnas estructurales participan en el sistema resistente lateral. \n",
    "'''\n",
    "\n",
    "\n",
    "import pandas as pd\n",
    "import Oscilador as osc\n",
    "import Funciones_sismos as BN\n",
    "\n",
    "\n",
    "fip = 1\n",
    "fie = 0.8\n",
    "fa = 1.2\n",
    "fd = 1.11\n",
    "fs = 1.11\n",
    "n = 2.6\n",
    "z = 0.6     #Para un TR475 años\n",
    "Imp = 1   #Importancia\n",
    "rr = 1\n",
    "R = 5.5\n",
    "scale = 100\n",
    "\n",
    "\n",
    "\n",
    "E = 1900000   #T/m^2\n",
    "gdl = 3     #NO PUEDE SER 1 \n",
    "col = 0.2   #m\n",
    "num_col = 10\n",
    "h = 3 #m\n",
    "inercia_efectiva = 1\n",
    "m_piso = 400  #Ton\n",
    "Spec, SpecI, Tmp, To, Tc, Tl = BN.Spec_NEC(n, z, fa, fd, fs, rr, Imp, R, fip, fie, scale)\n",
    "\n",
    "\n",
    "for i in range(100):\n",
    "    '''SI en caso no corre cambiar la ESCALA'''\n",
    "    T, Sa_I, M_eacum, qmax, Qmax, F, Derivas_Pisos = osc.Oscilador(E, gdl, col, num_col, h, inercia_efectiva, m_piso, Spec, SpecI)\n",
    "    if all(row[1] <= 2 for row in Derivas_Pisos):\n",
    "        break\n",
    "\n",
    "    col+=0.05\n",
    "\n",
    "if col < 0.3:\n",
    "    col = 0.3\n",
    "else:\n",
    "    col\n",
    "# T_tbl = pd.DataFrame(T)\n",
    "# display(T_tbl)\n",
    "\n",
    "# Sa_I_tbl = pd.DataFrame(Sa_I)\n",
    "# display(Sa_I_tbl)\n",
    "\n",
    "# M_eacum_tbl = pd.DataFrame(np.array(M_eacum))\n",
    "# display(M_eacum_tbl)\n",
    "\n",
    "# qmax_tbl = pd.DataFrame(qmax)\n",
    "# display(qmax_tbl)\n",
    "\n",
    "# Qmax_tbl = pd.DataFrame(Qmax)\n",
    "# display(Qmax_tbl)\n",
    "\n",
    "# F_tbl = pd.DataFrame(F)\n",
    "# display(F_tbl)\n",
    "print(f'El valor de cada lado de la columna C x C es {col} m')\n",
    "\n",
    "Derivas_Pisos_tbl = pd.DataFrame(Derivas_Pisos)\n",
    "display(Derivas_Pisos_tbl.style.set_caption('Derivas por piso'))"
   ]
  }
 ],
 "metadata": {
  "kernelspec": {
   "display_name": "Python 3",
   "language": "python",
   "name": "python3"
  },
  "language_info": {
   "codemirror_mode": {
    "name": "ipython",
    "version": 3
   },
   "file_extension": ".py",
   "mimetype": "text/x-python",
   "name": "python",
   "nbconvert_exporter": "python",
   "pygments_lexer": "ipython3",
   "version": "3.12.0"
  }
 },
 "nbformat": 4,
 "nbformat_minor": 2
}
