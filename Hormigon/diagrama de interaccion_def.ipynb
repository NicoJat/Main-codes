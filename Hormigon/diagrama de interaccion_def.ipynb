{
 "cells": [
  {
   "cell_type": "code",
   "execution_count": 1,
   "metadata": {},
   "outputs": [
    {
     "data": {
      "text/plain": [
       "0.85"
      ]
     },
     "execution_count": 1,
     "metadata": {},
     "output_type": "execute_result"
    }
   ],
   "source": [
    "import numpy as np\n",
    "import pandas as pd\n",
    "import matplotlib.pyplot as plt\n",
    "import seaborn as sns\n",
    "\n",
    "#Define given values\n",
    "fc = 28        #concrete compressive strenght, kg/cm2\n",
    "fy = 420        #steel yield strenght, kg/cm2\n",
    "b = 400        #column dimentions, cm\n",
    "h = 400         #column dimentions, cm\n",
    "dbar =29        #diameter of main reinforcement bar, cm\n",
    "nbar = 6        #number of main reinforcement bar, cm\n",
    "nbar_side = 3   #number of rebars at each side\n",
    "cc = 40         #concrete cover in cm\n",
    "\n",
    "#Tie diameter\n",
    "if dbar <= 12:\n",
    "    tie = 10\n",
    "else:\n",
    "    tie = 12\n",
    "\n",
    "\n",
    "# Effective depth\n",
    "deff = h - cc - tie - dbar/2\n",
    "\n",
    "# Bar depht (d')\n",
    "dprime = cc + tie +dbar/2\n",
    "\n",
    "deff, dprime\n",
    "(435.5, 64.5)\n",
    "\n",
    "#Beta1 (stress block multiplier)\n",
    "if fc <= 28:\n",
    "    Beta1 = 0.85\n",
    "else:\n",
    "    Beta1 = max(0.85 - 0.05*(fc - 28)/7, 0.65)\n",
    "\n",
    "Beta1"
   ]
  },
  {
   "cell_type": "code",
   "execution_count": 2,
   "metadata": {},
   "outputs": [
    {
     "data": {
      "text/plain": [
       "(1981.5595662517621, 1981.5595662517621)"
      ]
     },
     "execution_count": 2,
     "metadata": {},
     "output_type": "execute_result"
    }
   ],
   "source": [
    "#Steel Areas\n",
    "Ast = (np.pi * dbar**2 /4)*nbar_side    #Steel area at tension side\n",
    "Asc= Ast                                #Steel area at compression side\n",
    "\n",
    "Ast, Asc"
   ]
  },
  {
   "cell_type": "code",
   "execution_count": 3,
   "metadata": {},
   "outputs": [],
   "source": [
    "#Stresses and Strains\n",
    "Es = 200000 #Steel modulus, MPa (constant)\n",
    "ec = 0.003 #concrete maximum strain (constant)\n",
    "ey = fy/Es  #Steel strain at yield point\n",
    "\n",
    "def stress_strain(c):\n",
    "    es = ec * (deff - c) / c    #Steel strain at tension side\n",
    "    fs = es * Es    #tensile stress at tension side\n",
    "    esprime = ec * (c - dprime) #Steel strain at compression side\n",
    "    fsprime = esprime * Es  #tensile stress at compression side\n",
    "    a = Beta1 * c   #compressive stress block depht\n",
    "    return a, es, fs, esprime, fsprime"
   ]
  },
  {
   "cell_type": "code",
   "execution_count": 4,
   "metadata": {},
   "outputs": [],
   "source": [
    "#Strenght reduction factor\n",
    "def strenght_factor():\n",
    "    phi_factor = 0.65 + 0.25 *(es - ey)/ (0.005 - ey)\n",
    "    if phi_factor >= 0.9:\n",
    "        phi, classify = 0.9, 'Tensile-controled'\n",
    "    elif phi_factor <= 0.65:\n",
    "        phi, classify = 0.65, 'Compression-controled'\n",
    "    else:\n",
    "        phi, classify = phi_factor, 'Transition'\n",
    "    return phi, classify"
   ]
  },
  {
   "cell_type": "code",
   "execution_count": 5,
   "metadata": {},
   "outputs": [],
   "source": [
    "# Forces and moments\n",
    "def forces_moments():\n",
    "    T = Ast * min(fy, fs)/1000    #tension force by steel at tension side\n",
    "    Cc = 0.85 * fc * a * b/1000  #compression force by concrete\n",
    "    Cs = Asc *(min(fy, fsprime) - (0.85*fc))/1000    #tension force by steel at compression side\n",
    "\n",
    "    Pn = Cc + Cs - T     #Nominal axial Load capacity\n",
    "    Pu = phi * Pn       #Ultimate axial Load capacity\n",
    "\n",
    "    #Solve for eccentricity by taking moment about T:\n",
    "    #Sum of Moments at T: Pn(ecc + h/2 - dprime) - Cc(deff - a/2) - Cs(deff - dprime) = 0\n",
    "    ecc = (Cc*(deff - a/2) + Cs*(deff - dprime))/ Pn - (h/2 - dprime) \n",
    "    Mn = Pn * ecc /1000  #Nominal moment capacity\n",
    "    Mu = phi * Mn        #Ultimate moment capacity\n",
    "    return ecc, Pn, Pu, Mn, Mu\n"
   ]
  },
  {
   "cell_type": "code",
   "execution_count": 6,
   "metadata": {},
   "outputs": [
    {
     "data": {
      "text/html": [
       "<div>\n",
       "<style scoped>\n",
       "    .dataframe tbody tr th:only-of-type {\n",
       "        vertical-align: middle;\n",
       "    }\n",
       "\n",
       "    .dataframe tbody tr th {\n",
       "        vertical-align: top;\n",
       "    }\n",
       "\n",
       "    .dataframe thead th {\n",
       "        text-align: right;\n",
       "    }\n",
       "</style>\n",
       "<table border=\"1\" class=\"dataframe\">\n",
       "  <thead>\n",
       "    <tr style=\"text-align: right;\">\n",
       "      <th></th>\n",
       "      <th>ecc(mm)</th>\n",
       "      <th>Pn(kN)</th>\n",
       "      <th>Pu(kN)</th>\n",
       "      <th>Mn(kN.m)</th>\n",
       "      <th>Mu(kN.m)</th>\n",
       "      <th>phi</th>\n",
       "    </tr>\n",
       "  </thead>\n",
       "  <tbody>\n",
       "    <tr>\n",
       "      <th>0</th>\n",
       "      <td>-38</td>\n",
       "      <td>6168</td>\n",
       "      <td>4009</td>\n",
       "      <td>-233</td>\n",
       "      <td>-151</td>\n",
       "      <td>0.65</td>\n",
       "    </tr>\n",
       "    <tr>\n",
       "      <th>1</th>\n",
       "      <td>-36</td>\n",
       "      <td>6122</td>\n",
       "      <td>3980</td>\n",
       "      <td>-220</td>\n",
       "      <td>-143</td>\n",
       "      <td>0.65</td>\n",
       "    </tr>\n",
       "    <tr>\n",
       "      <th>2</th>\n",
       "      <td>-34</td>\n",
       "      <td>6076</td>\n",
       "      <td>3950</td>\n",
       "      <td>-206</td>\n",
       "      <td>-134</td>\n",
       "      <td>0.65</td>\n",
       "    </tr>\n",
       "    <tr>\n",
       "      <th>3</th>\n",
       "      <td>-32</td>\n",
       "      <td>6030</td>\n",
       "      <td>3920</td>\n",
       "      <td>-194</td>\n",
       "      <td>-126</td>\n",
       "      <td>0.65</td>\n",
       "    </tr>\n",
       "    <tr>\n",
       "      <th>4</th>\n",
       "      <td>-30</td>\n",
       "      <td>5984</td>\n",
       "      <td>3889</td>\n",
       "      <td>-181</td>\n",
       "      <td>-118</td>\n",
       "      <td>0.65</td>\n",
       "    </tr>\n",
       "    <tr>\n",
       "      <th>...</th>\n",
       "      <td>...</td>\n",
       "      <td>...</td>\n",
       "      <td>...</td>\n",
       "      <td>...</td>\n",
       "      <td>...</td>\n",
       "      <td>...</td>\n",
       "    </tr>\n",
       "    <tr>\n",
       "      <th>99</th>\n",
       "      <td>434</td>\n",
       "      <td>802</td>\n",
       "      <td>722</td>\n",
       "      <td>348</td>\n",
       "      <td>313</td>\n",
       "      <td>0.90</td>\n",
       "    </tr>\n",
       "    <tr>\n",
       "      <th>100</th>\n",
       "      <td>451</td>\n",
       "      <td>762</td>\n",
       "      <td>686</td>\n",
       "      <td>343</td>\n",
       "      <td>309</td>\n",
       "      <td>0.90</td>\n",
       "    </tr>\n",
       "    <tr>\n",
       "      <th>101</th>\n",
       "      <td>469</td>\n",
       "      <td>722</td>\n",
       "      <td>649</td>\n",
       "      <td>339</td>\n",
       "      <td>305</td>\n",
       "      <td>0.90</td>\n",
       "    </tr>\n",
       "    <tr>\n",
       "      <th>102</th>\n",
       "      <td>490</td>\n",
       "      <td>681</td>\n",
       "      <td>613</td>\n",
       "      <td>334</td>\n",
       "      <td>300</td>\n",
       "      <td>0.90</td>\n",
       "    </tr>\n",
       "    <tr>\n",
       "      <th>103</th>\n",
       "      <td>513</td>\n",
       "      <td>641</td>\n",
       "      <td>577</td>\n",
       "      <td>329</td>\n",
       "      <td>296</td>\n",
       "      <td>0.90</td>\n",
       "    </tr>\n",
       "  </tbody>\n",
       "</table>\n",
       "<p>104 rows × 6 columns</p>\n",
       "</div>"
      ],
      "text/plain": [
       "     ecc(mm)  Pn(kN)  Pu(kN)  Mn(kN.m)  Mu(kN.m)   phi\n",
       "0        -38    6168    4009      -233      -151  0.65\n",
       "1        -36    6122    3980      -220      -143  0.65\n",
       "2        -34    6076    3950      -206      -134  0.65\n",
       "3        -32    6030    3920      -194      -126  0.65\n",
       "4        -30    5984    3889      -181      -118  0.65\n",
       "..       ...     ...     ...       ...       ...   ...\n",
       "99       434     802     722       348       313  0.90\n",
       "100      451     762     686       343       309  0.90\n",
       "101      469     722     649       339       305  0.90\n",
       "102      490     681     613       334       300  0.90\n",
       "103      513     641     577       329       296  0.90\n",
       "\n",
       "[104 rows x 6 columns]"
      ]
     },
     "execution_count": 6,
     "metadata": {},
     "output_type": "execute_result"
    }
   ],
   "source": [
    "#Solve axial load and moment at varying 'c' values \n",
    "\n",
    "nom_load=[]\n",
    "ult_load=[]\n",
    "nom_moment=[]\n",
    "ult_moment=[]\n",
    "eccentricity=[]\n",
    "phi_factor=[]\n",
    "\n",
    "c_values = np.arange(600, 80, -5)\n",
    "for c in c_values:\n",
    "    a, es, fs, esprime, fsprime = stress_strain(c)\n",
    "    phi, classify = strenght_factor()\n",
    "    ecc, Pn, Pu, Mn, Mu = forces_moments()\n",
    "    if ecc <= 1.5*h:\n",
    "        nom_load.append(round(Pn))\n",
    "        ult_load.append(round(Pu))\n",
    "        nom_moment.append(round(Mn))\n",
    "        ult_moment.append(round(Mu))\n",
    "        eccentricity.append(round(ecc))\n",
    "        phi_factor.append(round(phi, 2))\n",
    "\n",
    "#Solve the above calculated data in a dataframe\n",
    "dict = {'ecc(mm)': eccentricity, 'Pn(kN)': nom_load, 'Pu(kN)': ult_load, 'Mn(kN.m)': nom_moment, \\\n",
    "    'Mu(kN.m)': ult_moment, 'phi': phi_factor}\n",
    "\n",
    "df = pd.DataFrame(dict)\n",
    "\n",
    "#Print the last 10 rows of the dataframe to verify\n",
    "df.tail(104)"
   ]
  },
  {
   "cell_type": "code",
   "execution_count": 7,
   "metadata": {},
   "outputs": [
    {
     "data": {
      "image/png": "[encoded data removed]",
      "text/plain": [
       "<Figure size 1300x700 with 1 Axes>"
      ]
     },
     "metadata": {},
     "output_type": "display_data"
    }
   ],
   "source": [
    "#Plotting the P.M Interaction Diagram\n",
    "\n",
    "sns.set_style('darkgrid')\n",
    "fig, ax = plt.subplots(figsize=(13,7))\n",
    "plt.rc('axes', labelweight='bold', labelsize='large', titleweight='bold', titlesize=15)\n",
    "ax = sns.scatterplot(x='Mn(kN.m)', y='Pn(kN)', data=df, color='g', label='Nominal')\n",
    "sns.scatterplot(x='Mu(kN.m)', y='Pu(kN)', data=df, color='r', label='Ultimate')\n",
    "ax.set_xlabel('Moment (M, kN.m')\n",
    "ax.set_ylabel('Axial Load (P, kN)')\n",
    "plt.title('P-M Interactive Diagram')\n",
    "plt.show()\n"
   ]
  }
 ],
 "metadata": {
  "kernelspec": {
   "display_name": "Python 3.10.8 64-bit",
   "language": "python",
   "name": "python3"
  },
  "language_info": {
   "codemirror_mode": {
    "name": "ipython",
    "version": 3
   },
   "file_extension": ".py",
   "mimetype": "text/x-python",
   "name": "python",
   "nbconvert_exporter": "python",
   "pygments_lexer": "ipython3",
   "version": "3.10.9"
  },
  "orig_nbformat": 4,
  "vscode": {
   "interpreter": {
    "hash": "110fe3fb9777db4ce1f884af3cc527a40b2c98427ad17781c021ef692bd3d28d"
   }
  }
 },
 "nbformat": 4,
 "nbformat_minor": 2
}
