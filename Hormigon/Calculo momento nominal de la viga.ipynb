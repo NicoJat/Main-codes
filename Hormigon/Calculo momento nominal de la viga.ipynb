{
 "cells": [
  {
   "cell_type": "code",
   "execution_count": 5,
   "metadata": {},
   "outputs": [
    {
     "name": "stdout",
     "output_type": "stream",
     "text": [
      "8.98400000000046\n"
     ]
    }
   ],
   "source": [
    "import numpy as np\n",
    "\n",
    "#Insecion de datos\n",
    "fy=4200\n",
    "fprimc=280\n",
    "h=50\n",
    "b=30\n",
    "ecu=0.004\n",
    "Ag=h*b\n",
    "numcap=3\n",
    "rec=4\n",
    "E=2040000\n",
    "\n",
    "if fprimc<=280:\n",
    "    beta1=0.85\n",
    "elif fprimc>280 and fprimc<562.4:\n",
    "    beta1=0.85-(0.05*(fprimc-280)/(70.307))\n",
    "else:\n",
    "    beta1=0.65\n",
    "\n",
    "\n",
    "d=np.array([5, 20, 45])\n",
    "Mns=np.zeros(numcap)\n",
    "numvar=np.zeros(numcap)\n",
    "phivar=np.zeros(numcap)\n",
    "Avar=np.zeros(numcap)\n",
    "for i in range(0, numcap):\n",
    "    numvar[i]=3 #float(input('Introduzca numero de varillas por capa: '))\n",
    "    phivar[i]=2.2  #float(input('Introduzca diametro de la varilla de la capa (en cm): '))\n",
    "    #d[i]= float(input('Introduzca d de la capa de acero (en cm): '))\n",
    "    Avar[i]=(np.pi*(phivar[i]**2)*0.25)*numvar[i]\n",
    "\n",
    "\n",
    "c=1\n",
    "Mnacero=np.sum(Mns)\n",
    "Fs1=np.zeros(numcap)\n",
    "while c<h:\n",
    "    a=c*beta1\n",
    "    Ag=a*b\n",
    "    Fc=fprimc*0.85*Ag\n",
    "    Momc=(a/2)*Fc\n",
    "    #print(Momc)\n",
    "    for i in range (0,numcap):\n",
    "        es=((-ecu/c)*d[i])+ecu\n",
    "        #print(es)\n",
    "        fs=E*es\n",
    "        if fs>=fy:\n",
    "            fs=fy\n",
    "        elif fs<=-fy:\n",
    "            fs=-fy\n",
    "        else:\n",
    "            fs=E*es\n",
    "        Fs=Avar[i]*fs\n",
    "        Moms=Fs*d[i]\n",
    "        Fs1[i]=Fs\n",
    "        #print(Moms)\n",
    "        Mns[i]=Moms\n",
    "    \n",
    "\n",
    "    #print(np.sum(Mns))\n",
    "    #print(np.sum(Fs1))\n",
    "    #print(np.sum(Fc))\n",
    "    #print(Fc+(np.sum(Fs1)))\n",
    "    if (Fc+(np.sum(Fs1)))<10 and (Fc+(np.sum(Fs1)))>-10:  \n",
    "        print(c)\n",
    "        break\n",
    "    else:\n",
    "        c+=0.001\n",
    "\n",
    "\n",
    "\n",
    "\n",
    "\n",
    "\n",
    "\n",
    "\n",
    "        \n",
    "\n",
    "\n",
    "\n"
   ]
  }
 ],
 "metadata": {
  "kernelspec": {
   "display_name": "Python 3",
   "language": "python",
   "name": "python3"
  },
  "language_info": {
   "codemirror_mode": {
    "name": "ipython",
    "version": 3
   },
   "file_extension": ".py",
   "mimetype": "text/x-python",
   "name": "python",
   "nbconvert_exporter": "python",
   "pygments_lexer": "ipython3",
   "version": "3.10.8 (tags/v3.10.8:aaaf517, Oct 11 2022, 16:50:30) [MSC v.1933 64 bit (AMD64)]"
  },
  "orig_nbformat": 4,
  "vscode": {
   "interpreter": {
    "hash": "110fe3fb9777db4ce1f884af3cc527a40b2c98427ad17781c021ef692bd3d28d"
   }
  }
 },
 "nbformat": 4,
 "nbformat_minor": 2
}
