{
 "cells": [
  {
   "cell_type": "code",
   "execution_count": null,
   "metadata": {},
   "outputs": [],
   "source": [
    "import pandas as pd\n",
    "R = 7\n",
    "\n",
    "# Especifica el nombre del archivo Excel\n",
    "archivo_excel = 'Volcamiento2.xlsx'\n",
    "\n",
    "# Especifica las celdas que deseas leer\n",
    "celdas_a_leer_A = 'D4:D31'\n",
    "celdas_a_leer_B = 'E4:E31'\n",
    "celdas_a_leer_C = 'B4:B31'\n",
    "celdas_a_leer_D = 'K4:K31'\n",
    "celdas_a_leer_E = 'L4:L31'\n",
    "\n",
    "# Utiliza la función read_excel para leer los datos de la fila A\n",
    "Vxx = pd.read_excel(archivo_excel, usecols=celdas_a_leer_A, squeeze=True)\n",
    "\n",
    "# Utiliza la función read_excel para leer los datos de la fila B\n",
    "Vyx = pd.read_excel(archivo_excel, usecols=celdas_a_leer_B, squeeze=True)\n",
    "\n",
    "# Utiliza la función read_excel para leer los datos de la fila C\n",
    "Altura = pd.read_excel(archivo_excel, usecols=celdas_a_leer_C, squeeze=True)\n",
    "\n",
    "# Utiliza la función read_excel para leer los datos de la fila D\n",
    "Vxy = pd.read_excel(archivo_excel, usecols=celdas_a_leer_D, squeeze=True)\n",
    "\n",
    "# Utiliza la función read_excel para leer los datos de la fila E\n",
    "Vyy = pd.read_excel(archivo_excel, usecols=celdas_a_leer_E, squeeze=True)\n",
    "\n",
    "# Crear un DataFrame con los resultados\n",
    "data = {\n",
    "    'Altura': Altura,\n",
    "    'Vxx': Vxx,\n",
    "    'Vyx': Vyx,\n",
    "    'Vxy': Vxy,\n",
    "    'Vyy': Vyy\n",
    "}\n",
    "resultados = pd.DataFrame(data)\n",
    "\n",
    "print(resultados)\n"
   ]
  },
  {
   "cell_type": "code",
   "execution_count": null,
   "metadata": {},
   "outputs": [],
   "source": [
    "import matplotlib.pyplot as plt\n",
    "\n",
    "# Código previo para obtener Altura, Vxx, Vyx, Vxy, Vyy\n",
    "\n",
    "# Graficar\n",
    "plt.figure()\n",
    "plt.title('Momento de Volcamiento, DS, TR475')\n",
    "\n",
    "plt.plot(Vxx, Altura, 'o-', color=[0.2, 0.4, 0.6], linewidth=1.5, markersize=3, markerfacecolor='auto', label='Vxx')\n",
    "plt.plot(-Vyx, Altura, 'o-', color=[0.8, 0.1, 0.3], linewidth=1.5, markersize=3, markerfacecolor='auto', label='-Vyx')\n",
    "plt.plot(Vxy, Altura, 'o-', color=[0.1, 0.7, 0.2], linewidth=1.5, markersize=3, markerfacecolor='auto', label='Vxy')\n",
    "plt.plot(-Vyy, Altura, 'o-', color=[0.9, 0.6, 0.1], linewidth=1.5, markersize=3, markerfacecolor='auto', label='-Vyy')\n",
    "\n",
    "plt.xlabel('Momento de Volcamiento [T*m]')\n",
    "plt.ylabel('Altura [m]')\n",
    "plt.grid(True)\n",
    "plt.legend(loc='lower center', bbox_to_anchor=(0.5, -0.3), ncol=2, fontsize=8)\n",
    "\n",
    "plt.show()\n"
   ]
  }
 ],
 "metadata": {
  "language_info": {
   "name": "python"
  }
 },
 "nbformat": 4,
 "nbformat_minor": 2
}
