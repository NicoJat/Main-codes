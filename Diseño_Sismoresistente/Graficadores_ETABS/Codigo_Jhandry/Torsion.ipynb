{
 "cells": [
  {
   "cell_type": "code",
   "execution_count": null,
   "metadata": {},
   "outputs": [],
   "source": [
    "import pandas as pd\n",
    "import matplotlib.pyplot as plt\n",
    "R = 7\n",
    "\n",
    "# Especifica el nombre del archivo Excel y las celdas a leer\n",
    "archivo_excel = 'Torsion2.xlsx'\n",
    "celdas_a_leer = ['D4:D33', 'E4:E33', 'B4:B33', 'K4:K33', 'L4:L33']\n",
    "\n",
    "# Leer los datos del archivo Excel\n",
    "df = pd.read_excel(archivo_excel, sheet_name=None, usecols=celdas_a_leer)\n",
    "\n",
    "# Renombrar columnas para mayor claridad\n",
    "data = {\n",
    "    'Stiffxx': df['Hoja1']['Column1'],\n",
    "    'Stiffyx': df['Hoja1']['Column2'],\n",
    "    'Alturas': df['Hoja1']['Column3'],\n",
    "    'Stiffxy': df['Hoja1']['Column4'],\n",
    "    'Stiffyy': df['Hoja1']['Column5']\n",
    "}\n",
    "\n",
    "# Calcular los valores máximos de cada conjunto de datos\n",
    "max_Stiffxx = data['Stiffxx'].max()\n",
    "max_Stiffyx = data['Stiffyx'].max()\n",
    "max_Stiffxy = data['Stiffxy'].max()\n",
    "max_Stiffyy = data['Stiffyy'].max()\n",
    "\n",
    "# Crear el gráfico\n",
    "plt.figure()\n",
    "titulo = 'Rigidez Lateral Requerida, DS, TR475'\n",
    "plt.title(titulo)\n",
    "plt.plot(data['Stiffxx'], data['Alturas'], 'b--', linewidth=1.5, label='kx respecto SPECX')\n",
    "plt.plot(-data['Stiffyx'], data['Alturas'], 'r-.', linewidth=1.5, label='ky respecto SPECX')\n",
    "plt.plot(-data['Stiffxy'], data['Alturas'], 'g:', linewidth=1.5, label='kx respecto SPECY')\n",
    "plt.plot(data['Stiffyy'], data['Alturas'], 'm-', linewidth=1.5, label='ky respecto SPECY')\n",
    "\n",
    "# Textos para los máximos valores\n",
    "texto_maximos = [\n",
    "    f'kx respecto SPECX: {max_Stiffxx:.2f}',\n",
    "    f'ky respecto SPECX: {max_Stiffyx:.2f}',\n",
    "    f'kx respecto SPECY: {max_Stiffxy:.2f}',\n",
    "    f'ky respecto SPECY: {max_Stiffyy:.2f}'\n",
    "]\n",
    "\n",
    "plt.grid(axis='x')\n",
    "plt.xlabel('Rigidez [T/m]')\n",
    "plt.ylabel('Altura [m]')\n",
    "plt.legend(texto_maximos, loc='lower center', fontsize=8, bbox_to_anchor=(0.5, -0.35), ncol=2)\n",
    "plt.tight_layout()\n",
    "plt.show()\n"
   ]
  }
 ],
 "metadata": {
  "language_info": {
   "name": "python"
  }
 },
 "nbformat": 4,
 "nbformat_minor": 2
}
