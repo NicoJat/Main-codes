{
 "cells": [
  {
   "cell_type": "code",
   "execution_count": null,
   "metadata": {},
   "outputs": [],
   "source": [
    "import pandas as pd\n",
    "import matplotlib.pyplot as plt\n",
    "import numpy as np\n",
    "\n",
    "# Leer el archivo Excel\n",
    "archivo_excel = 'MaxOverDrits2.xlsx'\n",
    "df = pd.read_excel(archivo_excel)\n",
    "\n",
    "# Obtener los datos de las columnas Pisos y MaxDrifts\n",
    "categorias = df['Pisos']\n",
    "valores = df['MaxDrifts']\n",
    "\n",
    "# Definir una paleta de colores cíclica cada 4 barras\n",
    "num_barras = len(categorias)\n",
    "num_colores = np.ceil(num_barras / 4).astype(int)\n",
    "paleta_colores = np.array([[1, 0, 0], [0, 1, 0], [0, 0, 1], [1, 1, 0]]) * num_colores\n",
    "\n",
    "# Crear el gráfico de barras con colores cíclicos cada 4 barras\n",
    "fig, ax = plt.subplots()\n",
    "bar_plot = ax.bar(categorias, valores, color=paleta_colores[:num_barras, :])\n",
    "\n",
    "# Ajustar etiquetas y título\n",
    "ax.set_ylabel('Ratio')\n",
    "ax.set_title('Multiplicador de Amplificación de los desplazamientos \"n\", R=7')\n",
    "\n",
    "# Ajustar la apariencia del gráfico\n",
    "fig.set_size_inches(8, 6)\n",
    "plt.tight_layout()\n",
    "plt.show()\n"
   ]
  }
 ],
 "metadata": {
  "language_info": {
   "name": "python"
  }
 },
 "nbformat": 4,
 "nbformat_minor": 2
}
