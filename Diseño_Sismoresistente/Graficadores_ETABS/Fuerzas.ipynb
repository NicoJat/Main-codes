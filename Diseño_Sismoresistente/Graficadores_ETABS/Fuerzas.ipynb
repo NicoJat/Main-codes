{
 "cells": [
  {
   "cell_type": "code",
   "execution_count": 2,
   "metadata": {},
   "outputs": [
    {
     "ename": "ValueError",
     "evalue": "Invalid column name: B74",
     "output_type": "error",
     "traceback": [
      "\u001b[1;31m---------------------------------------------------------------------------\u001b[0m",
      "\u001b[1;31mValueError\u001b[0m                                Traceback (most recent call last)",
      "\u001b[1;32mc:\\Users\\USUARIO\\Desktop\\Jupyter\\Civil-Codes\\Diseño_Sismoresistente\\Graficadores_ETABS\\Fuerzas.ipynb Cell 1\u001b[0m line \u001b[0;36m1\n\u001b[0;32m     <a href='vscode-notebook-cell:/c%3A/Users/USUARIO/Desktop/Jupyter/Civil-Codes/Dise%C3%B1o_Sismoresistente/Graficadores_ETABS/Fuerzas.ipynb#W0sZmlsZQ%3D%3D?line=9'>10</a>\u001b[0m celdas_a_leer_X \u001b[39m=\u001b[39m \u001b[39m'\u001b[39m\u001b[39mC74:C103\u001b[39m\u001b[39m'\u001b[39m\n\u001b[0;32m     <a href='vscode-notebook-cell:/c%3A/Users/USUARIO/Desktop/Jupyter/Civil-Codes/Dise%C3%B1o_Sismoresistente/Graficadores_ETABS/Fuerzas.ipynb#W0sZmlsZQ%3D%3D?line=11'>12</a>\u001b[0m \u001b[39m# Utiliza la función read_excel para leer los datos de la fila A\u001b[39;00m\n\u001b[1;32m---> <a href='vscode-notebook-cell:/c%3A/Users/USUARIO/Desktop/Jupyter/Civil-Codes/Dise%C3%B1o_Sismoresistente/Graficadores_ETABS/Fuerzas.ipynb#W0sZmlsZQ%3D%3D?line=12'>13</a>\u001b[0m FCX \u001b[39m=\u001b[39m pd\u001b[39m.\u001b[39;49mread_excel(archivo_excel, usecols\u001b[39m=\u001b[39;49mceldas_a_leer_Z)\n\u001b[0;32m     <a href='vscode-notebook-cell:/c%3A/Users/USUARIO/Desktop/Jupyter/Civil-Codes/Dise%C3%B1o_Sismoresistente/Graficadores_ETABS/Fuerzas.ipynb#W0sZmlsZQ%3D%3D?line=14'>15</a>\u001b[0m \u001b[39m# Utiliza la función read_excel para leer los datos de la fila B\u001b[39;00m\n\u001b[0;32m     <a href='vscode-notebook-cell:/c%3A/Users/USUARIO/Desktop/Jupyter/Civil-Codes/Dise%C3%B1o_Sismoresistente/Graficadores_ETABS/Fuerzas.ipynb#W0sZmlsZQ%3D%3D?line=15'>16</a>\u001b[0m FCY \u001b[39m=\u001b[39m pd\u001b[39m.\u001b[39mread_excel(archivo_excel, usecols\u001b[39m=\u001b[39mceldas_a_leer_Y)\n",
      "File \u001b[1;32mc:\\Users\\USUARIO\\AppData\\Local\\Programs\\Python\\Python312\\Lib\\site-packages\\pandas\\io\\excel\\_base.py:517\u001b[0m, in \u001b[0;36mread_excel\u001b[1;34m(io, sheet_name, header, names, index_col, usecols, dtype, engine, converters, true_values, false_values, skiprows, nrows, na_values, keep_default_na, na_filter, verbose, parse_dates, date_parser, date_format, thousands, decimal, comment, skipfooter, storage_options, dtype_backend, engine_kwargs)\u001b[0m\n\u001b[0;32m    511\u001b[0m     \u001b[39mraise\u001b[39;00m \u001b[39mValueError\u001b[39;00m(\n\u001b[0;32m    512\u001b[0m         \u001b[39m\"\u001b[39m\u001b[39mEngine should not be specified when passing \u001b[39m\u001b[39m\"\u001b[39m\n\u001b[0;32m    513\u001b[0m         \u001b[39m\"\u001b[39m\u001b[39man ExcelFile - ExcelFile already has the engine set\u001b[39m\u001b[39m\"\u001b[39m\n\u001b[0;32m    514\u001b[0m     )\n\u001b[0;32m    516\u001b[0m \u001b[39mtry\u001b[39;00m:\n\u001b[1;32m--> 517\u001b[0m     data \u001b[39m=\u001b[39m io\u001b[39m.\u001b[39;49mparse(\n\u001b[0;32m    518\u001b[0m         sheet_name\u001b[39m=\u001b[39;49msheet_name,\n\u001b[0;32m    519\u001b[0m         header\u001b[39m=\u001b[39;49mheader,\n\u001b[0;32m    520\u001b[0m         names\u001b[39m=\u001b[39;49mnames,\n\u001b[0;32m    521\u001b[0m         index_col\u001b[39m=\u001b[39;49mindex_col,\n\u001b[0;32m    522\u001b[0m         usecols\u001b[39m=\u001b[39;49musecols,\n\u001b[0;32m    523\u001b[0m         dtype\u001b[39m=\u001b[39;49mdtype,\n\u001b[0;32m    524\u001b[0m         converters\u001b[39m=\u001b[39;49mconverters,\n\u001b[0;32m    525\u001b[0m         true_values\u001b[39m=\u001b[39;49mtrue_values,\n\u001b[0;32m    526\u001b[0m         false_values\u001b[39m=\u001b[39;49mfalse_values,\n\u001b[0;32m    527\u001b[0m         skiprows\u001b[39m=\u001b[39;49mskiprows,\n\u001b[0;32m    528\u001b[0m         nrows\u001b[39m=\u001b[39;49mnrows,\n\u001b[0;32m    529\u001b[0m         na_values\u001b[39m=\u001b[39;49mna_values,\n\u001b[0;32m    530\u001b[0m         keep_default_na\u001b[39m=\u001b[39;49mkeep_default_na,\n\u001b[0;32m    531\u001b[0m         na_filter\u001b[39m=\u001b[39;49mna_filter,\n\u001b[0;32m    532\u001b[0m         verbose\u001b[39m=\u001b[39;49mverbose,\n\u001b[0;32m    533\u001b[0m         parse_dates\u001b[39m=\u001b[39;49mparse_dates,\n\u001b[0;32m    534\u001b[0m         date_parser\u001b[39m=\u001b[39;49mdate_parser,\n\u001b[0;32m    535\u001b[0m         date_format\u001b[39m=\u001b[39;49mdate_format,\n\u001b[0;32m    536\u001b[0m         thousands\u001b[39m=\u001b[39;49mthousands,\n\u001b[0;32m    537\u001b[0m         decimal\u001b[39m=\u001b[39;49mdecimal,\n\u001b[0;32m    538\u001b[0m         comment\u001b[39m=\u001b[39;49mcomment,\n\u001b[0;32m    539\u001b[0m         skipfooter\u001b[39m=\u001b[39;49mskipfooter,\n\u001b[0;32m    540\u001b[0m         dtype_backend\u001b[39m=\u001b[39;49mdtype_backend,\n\u001b[0;32m    541\u001b[0m     )\n\u001b[0;32m    542\u001b[0m \u001b[39mfinally\u001b[39;00m:\n\u001b[0;32m    543\u001b[0m     \u001b[39m# make sure to close opened file handles\u001b[39;00m\n\u001b[0;32m    544\u001b[0m     \u001b[39mif\u001b[39;00m should_close:\n",
      "File \u001b[1;32mc:\\Users\\USUARIO\\AppData\\Local\\Programs\\Python\\Python312\\Lib\\site-packages\\pandas\\io\\excel\\_base.py:1629\u001b[0m, in \u001b[0;36mExcelFile.parse\u001b[1;34m(self, sheet_name, header, names, index_col, usecols, converters, true_values, false_values, skiprows, nrows, na_values, parse_dates, date_parser, date_format, thousands, comment, skipfooter, dtype_backend, **kwds)\u001b[0m\n\u001b[0;32m   1589\u001b[0m \u001b[39mdef\u001b[39;00m \u001b[39mparse\u001b[39m(\n\u001b[0;32m   1590\u001b[0m     \u001b[39mself\u001b[39m,\n\u001b[0;32m   1591\u001b[0m     sheet_name: \u001b[39mstr\u001b[39m \u001b[39m|\u001b[39m \u001b[39mint\u001b[39m \u001b[39m|\u001b[39m \u001b[39mlist\u001b[39m[\u001b[39mint\u001b[39m] \u001b[39m|\u001b[39m \u001b[39mlist\u001b[39m[\u001b[39mstr\u001b[39m] \u001b[39m|\u001b[39m \u001b[39mNone\u001b[39;00m \u001b[39m=\u001b[39m \u001b[39m0\u001b[39m,\n\u001b[1;32m   (...)\u001b[0m\n\u001b[0;32m   1609\u001b[0m     \u001b[39m*\u001b[39m\u001b[39m*\u001b[39mkwds,\n\u001b[0;32m   1610\u001b[0m ) \u001b[39m-\u001b[39m\u001b[39m>\u001b[39m DataFrame \u001b[39m|\u001b[39m \u001b[39mdict\u001b[39m[\u001b[39mstr\u001b[39m, DataFrame] \u001b[39m|\u001b[39m \u001b[39mdict\u001b[39m[\u001b[39mint\u001b[39m, DataFrame]:\n\u001b[0;32m   1611\u001b[0m \u001b[39m    \u001b[39m\u001b[39m\"\"\"\u001b[39;00m\n\u001b[0;32m   1612\u001b[0m \u001b[39m    Parse specified sheet(s) into a DataFrame.\u001b[39;00m\n\u001b[0;32m   1613\u001b[0m \n\u001b[1;32m   (...)\u001b[0m\n\u001b[0;32m   1627\u001b[0m \u001b[39m    >>> file.parse()  # doctest: +SKIP\u001b[39;00m\n\u001b[0;32m   1628\u001b[0m \u001b[39m    \"\"\"\u001b[39;00m\n\u001b[1;32m-> 1629\u001b[0m     \u001b[39mreturn\u001b[39;00m \u001b[39mself\u001b[39;49m\u001b[39m.\u001b[39;49m_reader\u001b[39m.\u001b[39;49mparse(\n\u001b[0;32m   1630\u001b[0m         sheet_name\u001b[39m=\u001b[39;49msheet_name,\n\u001b[0;32m   1631\u001b[0m         header\u001b[39m=\u001b[39;49mheader,\n\u001b[0;32m   1632\u001b[0m         names\u001b[39m=\u001b[39;49mnames,\n\u001b[0;32m   1633\u001b[0m         index_col\u001b[39m=\u001b[39;49mindex_col,\n\u001b[0;32m   1634\u001b[0m         usecols\u001b[39m=\u001b[39;49musecols,\n\u001b[0;32m   1635\u001b[0m         converters\u001b[39m=\u001b[39;49mconverters,\n\u001b[0;32m   1636\u001b[0m         true_values\u001b[39m=\u001b[39;49mtrue_values,\n\u001b[0;32m   1637\u001b[0m         false_values\u001b[39m=\u001b[39;49mfalse_values,\n\u001b[0;32m   1638\u001b[0m         skiprows\u001b[39m=\u001b[39;49mskiprows,\n\u001b[0;32m   1639\u001b[0m         nrows\u001b[39m=\u001b[39;49mnrows,\n\u001b[0;32m   1640\u001b[0m         na_values\u001b[39m=\u001b[39;49mna_values,\n\u001b[0;32m   1641\u001b[0m         parse_dates\u001b[39m=\u001b[39;49mparse_dates,\n\u001b[0;32m   1642\u001b[0m         date_parser\u001b[39m=\u001b[39;49mdate_parser,\n\u001b[0;32m   1643\u001b[0m         date_format\u001b[39m=\u001b[39;49mdate_format,\n\u001b[0;32m   1644\u001b[0m         thousands\u001b[39m=\u001b[39;49mthousands,\n\u001b[0;32m   1645\u001b[0m         comment\u001b[39m=\u001b[39;49mcomment,\n\u001b[0;32m   1646\u001b[0m         skipfooter\u001b[39m=\u001b[39;49mskipfooter,\n\u001b[0;32m   1647\u001b[0m         dtype_backend\u001b[39m=\u001b[39;49mdtype_backend,\n\u001b[0;32m   1648\u001b[0m         \u001b[39m*\u001b[39;49m\u001b[39m*\u001b[39;49mkwds,\n\u001b[0;32m   1649\u001b[0m     )\n",
      "File \u001b[1;32mc:\\Users\\USUARIO\\AppData\\Local\\Programs\\Python\\Python312\\Lib\\site-packages\\pandas\\io\\excel\\_base.py:797\u001b[0m, in \u001b[0;36mBaseExcelReader.parse\u001b[1;34m(self, sheet_name, header, names, index_col, usecols, dtype, true_values, false_values, skiprows, nrows, na_values, verbose, parse_dates, date_parser, date_format, thousands, decimal, comment, skipfooter, dtype_backend, **kwds)\u001b[0m\n\u001b[0;32m    794\u001b[0m \u001b[39mif\u001b[39;00m \u001b[39mhasattr\u001b[39m(sheet, \u001b[39m\"\u001b[39m\u001b[39mclose\u001b[39m\u001b[39m\"\u001b[39m):\n\u001b[0;32m    795\u001b[0m     \u001b[39m# pyxlsb opens two TemporaryFiles\u001b[39;00m\n\u001b[0;32m    796\u001b[0m     sheet\u001b[39m.\u001b[39mclose()\n\u001b[1;32m--> 797\u001b[0m usecols \u001b[39m=\u001b[39m maybe_convert_usecols(usecols)\n\u001b[0;32m    799\u001b[0m \u001b[39mif\u001b[39;00m \u001b[39mnot\u001b[39;00m data:\n\u001b[0;32m    800\u001b[0m     output[asheetname] \u001b[39m=\u001b[39m DataFrame()\n",
      "File \u001b[1;32mc:\\Users\\USUARIO\\AppData\\Local\\Programs\\Python\\Python312\\Lib\\site-packages\\pandas\\io\\excel\\_util.py:209\u001b[0m, in \u001b[0;36mmaybe_convert_usecols\u001b[1;34m(usecols)\u001b[0m\n\u001b[0;32m    203\u001b[0m     \u001b[39mraise\u001b[39;00m \u001b[39mValueError\u001b[39;00m(\n\u001b[0;32m    204\u001b[0m         \u001b[39m\"\u001b[39m\u001b[39mPassing an integer for `usecols` is no longer supported.  \u001b[39m\u001b[39m\"\u001b[39m\n\u001b[0;32m    205\u001b[0m         \u001b[39m\"\u001b[39m\u001b[39mPlease pass in a list of int from 0 to `usecols` inclusive instead.\u001b[39m\u001b[39m\"\u001b[39m\n\u001b[0;32m    206\u001b[0m     )\n\u001b[0;32m    208\u001b[0m \u001b[39mif\u001b[39;00m \u001b[39misinstance\u001b[39m(usecols, \u001b[39mstr\u001b[39m):\n\u001b[1;32m--> 209\u001b[0m     \u001b[39mreturn\u001b[39;00m _range2cols(usecols)\n\u001b[0;32m    211\u001b[0m \u001b[39mreturn\u001b[39;00m usecols\n",
      "File \u001b[1;32mc:\\Users\\USUARIO\\AppData\\Local\\Programs\\Python\\Python312\\Lib\\site-packages\\pandas\\io\\excel\\_util.py:156\u001b[0m, in \u001b[0;36m_range2cols\u001b[1;34m(areas)\u001b[0m\n\u001b[0;32m    154\u001b[0m \u001b[39mif\u001b[39;00m \u001b[39m\"\u001b[39m\u001b[39m:\u001b[39m\u001b[39m\"\u001b[39m \u001b[39min\u001b[39;00m rng:\n\u001b[0;32m    155\u001b[0m     rngs \u001b[39m=\u001b[39m rng\u001b[39m.\u001b[39msplit(\u001b[39m\"\u001b[39m\u001b[39m:\u001b[39m\u001b[39m\"\u001b[39m)\n\u001b[1;32m--> 156\u001b[0m     cols\u001b[39m.\u001b[39mextend(\u001b[39mrange\u001b[39m(_excel2num(rngs[\u001b[39m0\u001b[39;49m]), _excel2num(rngs[\u001b[39m1\u001b[39m]) \u001b[39m+\u001b[39m \u001b[39m1\u001b[39m))\n\u001b[0;32m    157\u001b[0m \u001b[39melse\u001b[39;00m:\n\u001b[0;32m    158\u001b[0m     cols\u001b[39m.\u001b[39mappend(_excel2num(rng))\n",
      "File \u001b[1;32mc:\\Users\\USUARIO\\AppData\\Local\\Programs\\Python\\Python312\\Lib\\site-packages\\pandas\\io\\excel\\_util.py:123\u001b[0m, in \u001b[0;36m_excel2num\u001b[1;34m(x)\u001b[0m\n\u001b[0;32m    120\u001b[0m     cp \u001b[39m=\u001b[39m \u001b[39mord\u001b[39m(c)\n\u001b[0;32m    122\u001b[0m     \u001b[39mif\u001b[39;00m cp \u001b[39m<\u001b[39m \u001b[39mord\u001b[39m(\u001b[39m\"\u001b[39m\u001b[39mA\u001b[39m\u001b[39m\"\u001b[39m) \u001b[39mor\u001b[39;00m cp \u001b[39m>\u001b[39m \u001b[39mord\u001b[39m(\u001b[39m\"\u001b[39m\u001b[39mZ\u001b[39m\u001b[39m\"\u001b[39m):\n\u001b[1;32m--> 123\u001b[0m         \u001b[39mraise\u001b[39;00m \u001b[39mValueError\u001b[39;00m(\u001b[39mf\u001b[39m\u001b[39m\"\u001b[39m\u001b[39mInvalid column name: \u001b[39m\u001b[39m{\u001b[39;00mx\u001b[39m}\u001b[39;00m\u001b[39m\"\u001b[39m)\n\u001b[0;32m    125\u001b[0m     index \u001b[39m=\u001b[39m index \u001b[39m*\u001b[39m \u001b[39m26\u001b[39m \u001b[39m+\u001b[39m cp \u001b[39m-\u001b[39m \u001b[39mord\u001b[39m(\u001b[39m\"\u001b[39m\u001b[39mA\u001b[39m\u001b[39m\"\u001b[39m) \u001b[39m+\u001b[39m \u001b[39m1\u001b[39m\n\u001b[0;32m    127\u001b[0m \u001b[39mreturn\u001b[39;00m index \u001b[39m-\u001b[39m \u001b[39m1\u001b[39m\n",
      "\u001b[1;31mValueError\u001b[0m: Invalid column name: B74"
     ]
    }
   ],
   "source": [
    "import pandas as pd\n",
    "R = 7\n",
    "\n",
    "# Especifica el nombre del archivo Excel\n",
    "archivo_excel = 'Fuerzas.xlsx'\n",
    "\n",
    "# Especifica las celdas que deseas leer\n",
    "celdas_a_leer_Z = 'B74:B103'\n",
    "celdas_a_leer_Y = 'J74:J103'\n",
    "celdas_a_leer_X = 'C74:C103'\n",
    "\n",
    "# Utiliza la función read_excel para leer los datos de la fila A\n",
    "FCX = pd.read_excel(archivo_excel, usecols=celdas_a_leer_Z)\n",
    "\n",
    "# Utiliza la función read_excel para leer los datos de la fila B\n",
    "FCY = pd.read_excel(archivo_excel, usecols=celdas_a_leer_Y)\n",
    "\n",
    "# Utiliza la función read_excel para leer los datos de la fila C\n",
    "Pisos = pd.read_excel(archivo_excel, usecols=celdas_a_leer_X)\n",
    "\n",
    "# Crear un DataFrame con los resultados\n",
    "data = {\n",
    "    'Pisos': Pisos,\n",
    "    'FCX': FCX,\n",
    "    'FCY': FCY\n",
    "}\n",
    "resultados = pd.DataFrame(data)\n",
    "\n",
    "print(resultados)\n"
   ]
  },
  {
   "cell_type": "code",
   "execution_count": null,
   "metadata": {},
   "outputs": [],
   "source": [
    "import matplotlib.pyplot as plt\n",
    "import numpy as np\n",
    "\n",
    "# Código previo para obtener Pisos, FCX, FCY\n",
    "\n",
    "# Crear subplots para FCX y FCY\n",
    "fig, (ax1, ax2) = plt.subplots(1, 2, figsize=(12, 6))\n",
    "\n",
    "# Gráfico para FCX\n",
    "ax1.quiver(np.ones(len(Pisos)) * 0.5, Pisos, -FCX, np.zeros(len(FCX)), scale='auto')\n",
    "for i, val in enumerate(FCX):\n",
    "    ax1.text(0.3, Pisos[i], str(val), verticalalignment='center', horizontalalignment='left')\n",
    "    ax1.quiver(0.3, Pisos[i], scale=10, scale_units='width', angles='xy', scale_norm='max')  # Ajustar el tamaño de las flechas\n",
    "\n",
    "ax1.set_title('Force [X]')\n",
    "ax1.set_xlabel('Force [T]')\n",
    "ax1.grid(True)\n",
    "\n",
    "# Gráfico para FCY\n",
    "ax2.quiver(np.ones(len(Pisos)) * 0.5, Pisos, FCY, np.zeros(len(FCY)), scale='auto')\n",
    "for i, val in enumerate(FCY):\n",
    "    ax2.text(0.3, Pisos[i], str(val), verticalalignment='center', horizontalalignment='left')\n",
    "    ax2.quiver(0.3, Pisos[i], scale=10, scale_units='width', angles='xy', scale_norm='max')  # Ajustar el tamaño de las flechas\n",
    "\n",
    "ax2.set_title('Force [Y]')\n",
    "ax2.set_xlabel('Force [T]')\n",
    "ax2.grid(True)\n",
    "\n",
    "plt.tight_layout()\n",
    "plt.show()\n"
   ]
  }
 ],
 "metadata": {
  "kernelspec": {
   "display_name": "Python 3",
   "language": "python",
   "name": "python3"
  },
  "language_info": {
   "codemirror_mode": {
    "name": "ipython",
    "version": 3
   },
   "file_extension": ".py",
   "mimetype": "text/x-python",
   "name": "python",
   "nbconvert_exporter": "python",
   "pygments_lexer": "ipython3",
   "version": "3.12.0"
  }
 },
 "nbformat": 4,
 "nbformat_minor": 2
}
