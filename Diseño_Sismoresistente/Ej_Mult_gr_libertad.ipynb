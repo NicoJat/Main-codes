{
 "cells": [
  {
   "cell_type": "code",
   "execution_count": 36,
   "metadata": {},
   "outputs": [],
   "source": [
    "import numpy as np\n",
    "import pandas as pd\n",
    "from scipy import linalg"
   ]
  },
  {
   "cell_type": "code",
   "execution_count": 37,
   "metadata": {},
   "outputs": [
    {
     "data": {
      "text/html": [
       "<div>\n",
       "<style scoped>\n",
       "    .dataframe tbody tr th:only-of-type {\n",
       "        vertical-align: middle;\n",
       "    }\n",
       "\n",
       "    .dataframe tbody tr th {\n",
       "        vertical-align: top;\n",
       "    }\n",
       "\n",
       "    .dataframe thead th {\n",
       "        text-align: right;\n",
       "    }\n",
       "</style>\n",
       "<table border=\"1\" class=\"dataframe\">\n",
       "  <thead>\n",
       "    <tr style=\"text-align: right;\">\n",
       "      <th></th>\n",
       "      <th>Valores de w</th>\n",
       "      <th>Valores de T</th>\n",
       "    </tr>\n",
       "  </thead>\n",
       "  <tbody>\n",
       "    <tr>\n",
       "      <th>0</th>\n",
       "      <td>[2.613278687840956]</td>\n",
       "      <td>[2.4043303672179874]</td>\n",
       "    </tr>\n",
       "    <tr>\n",
       "      <th>1</th>\n",
       "      <td>[2.2147234590350102]</td>\n",
       "      <td>[2.8370067068857745]</td>\n",
       "    </tr>\n",
       "  </tbody>\n",
       "</table>\n",
       "</div>"
      ],
      "text/plain": [
       "           Valores de w          Valores de T\n",
       "0   [2.613278687840956]  [2.4043303672179874]\n",
       "1  [2.2147234590350102]  [2.8370067068857745]"
      ]
     },
     "metadata": {},
     "output_type": "display_data"
    }
   ],
   "source": [
    "L = 2 #m\n",
    "a = 0.7 #m\n",
    "g = 9.81 #m/(s^2)\n",
    "m = 0.5 #Tons\n",
    "W = m*g\n",
    "E = 200000 #Tons/m2\n",
    "k = (np.pi*(0.005**2)*0.25)*E\n",
    "\n",
    "w1 = np.sqrt(m*((m*g*L)+(2*(a**2)*k)))/(m*L)\n",
    "w2 = np.sqrt(g*L)/L\n",
    "\n",
    "T1 = (2*np.pi)/w1\n",
    "T2 = (2*np.pi)/w2\n",
    "\n",
    "df = pd.DataFrame({'Valores de w': [[w1],[w2]], 'Valores de T': [[T1],[T2]]})\n",
    "display(df)"
   ]
  },
  {
   "cell_type": "code",
   "execution_count": 38,
   "metadata": {},
   "outputs": [
    {
     "name": "stdout",
     "output_type": "stream",
     "text": [
      "[6.8292255+0.j 4.905    +0.j]\n",
      "[[ 0.70710678  0.70710678]\n",
      " [-0.70710678  0.70710678]]\n"
     ]
    }
   ],
   "source": [
    "phi1 = [[1], [-1]]\n",
    "\n",
    "phi2 = [[1], [1]]\n",
    "\n",
    "K = [[((a**2)*k)+(m*g*L), -((a**2)*k)],\n",
    "      [-((a**2)*k), ((a**2)*k)+(m*g*L)]]\n",
    "\n",
    "M = [[(m*(L**2)), 0],\n",
    "      [0, (m*(L**2))]]\n",
    "\n",
    "w, phi = linalg.eig(K, M)\n",
    "\n",
    "print(w)\n",
    "print(phi)"
   ]
  }
 ],
 "metadata": {
  "kernelspec": {
   "display_name": "Python 3",
   "language": "python",
   "name": "python3"
  },
  "language_info": {
   "codemirror_mode": {
    "name": "ipython",
    "version": 3
   },
   "file_extension": ".py",
   "mimetype": "text/x-python",
   "name": "python",
   "nbconvert_exporter": "python",
   "pygments_lexer": "ipython3",
   "version": "3.12.0"
  }
 },
 "nbformat": 4,
 "nbformat_minor": 2
}
