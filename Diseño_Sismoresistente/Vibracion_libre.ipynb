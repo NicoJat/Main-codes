{
 "cells": [
  {
   "cell_type": "markdown",
   "metadata": {},
   "source": [
    "<img src='./images/ecmovimiento.png' width='300px' height='50px'>"
   ]
  },
  {
   "cell_type": "code",
   "execution_count": 11,
   "metadata": {},
   "outputs": [],
   "source": [
    "import numpy as np\n",
    "import pandas as pd\n",
    "import matplotlib.pyplot as plt\n",
    "import matplotlib.animation as animation\n",
    "\n",
    "'''Calculo la respuesta de un sistema de un grado de libertad discreto conservativo'''\n",
    "\n",
    "xvo = 0\n",
    "w = 48\n",
    "curvas = 10\n",
    "salto = 0.001\n",
    "tiempo = 100\n",
    "f = w/(2*np.pi)\n",
    "x = np.zeros((int(tiempo/salto),curvas))\n",
    "\n",
    "for x0 in range(curvas):\n",
    "    j = 0\n",
    "    for t in np.arange(0, tiempo, salto):\n",
    "        x[j,0] = t\n",
    "        x[j,x0] = (x0*np.cos(w*t)) + (xvo*np.sin(w*t)/w)\n",
    "        j+=1\n",
    "    \n",
    "\n",
    "# tbl_x = pd.DataFrame(x)\n",
    "# display(tbl_x.style.set_caption('x'))\n",
    "\n",
    "#Graficar todas las curvas\n",
    "plt.figure(figsize=(15, 6))\n",
    "\n",
    "for x0 in range(1,curvas):\n",
    "    plt.plot(x[:,0], x[:,x0], label=f'Curva con x0 = {x0} ')\n",
    "\n",
    "plt.xlabel('Tiempo (segundos)')\n",
    "plt.ylabel('Desplazamiento')\n",
    "plt.title('Movimientos armonicos con distintos x0')\n",
    "plt.legend()\n",
    "plt.legend(loc='center left', bbox_to_anchor=(1, 0.5))\n",
    "plt.xlim(0, 1)\n",
    "plt.grid(True)\n",
    "plt.show()"
   ]
  },
  {
   "cell_type": "code",
   "execution_count": 12,
   "metadata": {},
   "outputs": [],
   "source": [
    "# Crear una figura y un eje para la animación\n",
    "fig, ax = plt.subplots(figsize=(10, 6))\n",
    "ax.set_xlim(0, 0.5)\n",
    "ax.set_ylim(-12, 12)  # Ajusta los límites de acuerdo a tus datos\n",
    "\n",
    "# Inicializa las líneas para las curvas\n",
    "lines = []\n",
    "for x0 in range(1, curvas):\n",
    "    line, = ax.plot([], [], label=f'Curva con x0 = {x0}')\n",
    "    lines.append(line)\n",
    "\n",
    "# Función de inicialización\n",
    "def init():\n",
    "    for line in lines:\n",
    "        line.set_data([], [])\n",
    "    return lines\n",
    "\n",
    "#Función de actualización en cada fotograma\n",
    "def update(frame):\n",
    "    for i, line in enumerate(lines):\n",
    "        t = np.arange(0, frame * salto, salto)\n",
    "        y = (i + 1) * np.cos(w * t) + (xvo * np.sin(w * t) / w)\n",
    "        line.set_data(t, y)\n",
    "    return lines\n",
    "\n",
    "# Crea la animación\n",
    "ani = animation.FuncAnimation(fig, update, frames=range(int(1/salto)), init_func=init, blit=True, repeat=False)\n",
    "\n",
    "# Opcional: guardar la animación como un archivo GIF\n",
    "ani.save('curvas_animadas_05.gif', writer='pillow', fps=300)\n",
    "\n",
    "# Muestra la animación en una ventana emergente (ventana por separado)\n",
    "plt.show()"
   ]
  }
 ],
 "metadata": {
  "kernelspec": {
   "display_name": "base",
   "language": "python",
   "name": "python3"
  },
  "language_info": {
   "codemirror_mode": {
    "name": "ipython",
    "version": 3
   },
   "file_extension": ".py",
   "mimetype": "text/x-python",
   "name": "python",
   "nbconvert_exporter": "python",
   "pygments_lexer": "ipython3",
   "version": "3.10.9"
  },
  "orig_nbformat": 4
 },
 "nbformat": 4,
 "nbformat_minor": 2
}
