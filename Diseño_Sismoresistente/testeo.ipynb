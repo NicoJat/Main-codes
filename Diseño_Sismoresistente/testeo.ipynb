{
 "cells": [
  {
   "cell_type": "code",
   "execution_count": null,
   "metadata": {},
   "outputs": [],
   "source": [
    "m1 = 0.6625 #Tonf*(S**2)/cm\n",
    "m2 = 0.6625 #Tonf*(S**2)/cm \n",
    "m3 = 0.6625 #Tonf*(S**2)/cm\n",
    "m4 = 0.4 #Tonf*(S**2)/cm\n",
    "\n",
    "k1 = 184 #Tonf/cm\n",
    "k2 = 184 #Tonf/cm\n",
    "k3 = 150 #Tonf/cm\n",
    "k4 = 150 #Tonf/cm\n",
    "\n",
    "kp1 = 3*k1\n",
    "kp2 = k1 + k2 + k3 + ((k2*k1)/(k2+k2))\n",
    "kp3 = (2*k3) + ((k1*k2*k3)/((k2*k3)+((k2+k3)*k1)))\n",
    "kp4 = 3*k4\n",
    "\n",
    "M = np.array([[m1, 0, 0, 0],\n",
    "               [0, m2, 0, 0],\n",
    "               [0, 0, m3, 0],\n",
    "               [0, 0, 0, m4]])\n",
    "\n",
    "K = np.array([[(kp2+kp1), -kp2, 0, 0],\n",
    "               [-kp2, (kp2+kp3), -kp3, 0],\n",
    "               [0, -kp3, (kp3+kp4), -kp4],\n",
    "               [0, 0, -kp4, kp4]])      #En caso de que la matriz sea muy grande resolver desde el algoritmo\n",
    "\n",
    "df_M = pd.DataFrame(M)\n",
    "display(df_M.style.set_caption('Matriz de masas (Tons)'))\n",
    "\n",
    "df_K = pd.DataFrame(K)\n",
    "display(df_K.style.set_caption('Matriz de rigidez'))"
   ]
  }
 ],
 "metadata": {
  "kernelspec": {
   "display_name": "Python 3",
   "language": "python",
   "name": "python3"
  },
  "language_info": {
   "codemirror_mode": {
    "name": "ipython",
    "version": 3
   },
   "file_extension": ".py",
   "mimetype": "text/x-python",
   "name": "python",
   "nbconvert_exporter": "python",
   "pygments_lexer": "ipython3",
   "version": "3.12.0"
  }
 },
 "nbformat": 4,
 "nbformat_minor": 2
}
