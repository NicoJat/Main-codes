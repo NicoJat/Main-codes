{
 "cells": [
  {
   "cell_type": "code",
   "execution_count": 237,
   "metadata": {},
   "outputs": [
    {
     "name": "stdout",
     "output_type": "stream",
     "text": [
      "Pontificia Universidad Catolica del Ecuador\n",
      "\n",
      "\n",
      "Programa para calcular el corte en zapatas rectangulares\n",
      "\n",
      "Autor: Nicolas Jativa\n",
      "Fecha: 19/03/2023\n",
      "Materia: Cimentaciones\n",
      "Profesor: Carlos Celi\n",
      "Tarea: numero 2\n",
      "\n",
      "Hasta la fecha los cambios efectuados han sido en cuanto al avance del diseno, se ha logrado obtener el Asmin, \n",
      "el H y \"las dimensiones de la zapata\", pero sobre todo la cantidad de acero asi co"
     ]
    }
   ],
   "source": [
    "with open('test.txt', 'r') as f:\n",
    "    f_contents = f.read(400)\n",
    "    print(f_contents, end='')"
   ]
  },
  {
   "attachments": {},
   "cell_type": "markdown",
   "metadata": {},
   "source": [
    "Aqui las referencias de la ACI:\n",
    "\n",
    "<img src='./images/cortante1.jpg'>\n",
    "<img src='./images/cortante2.jpg'>\n",
    "<img src='./images/cortante3.jpg'>\n",
    "<img src='./images/cortante4.jpg'>"
   ]
  },
  {
   "cell_type": "code",
   "execution_count": 238,
   "metadata": {},
   "outputs": [
    {
     "data": {
      "text/html": [
       "<style type=\"text/css\">\n",
       "</style>\n",
       "<table id=\"T_23ca0\">\n",
       "  <thead>\n",
       "    <tr>\n",
       "      <th class=\"blank level0\" >&nbsp;</th>\n",
       "      <th id=\"T_23ca0_level0_col0\" class=\"col_heading level0 col0\" >d En cm</th>\n",
       "      <th id=\"T_23ca0_level0_col1\" class=\"col_heading level0 col1\" >Vu1 En ton@m</th>\n",
       "      <th id=\"T_23ca0_level0_col2\" class=\"col_heading level0 col2\" >Vu2 En ton@m</th>\n",
       "      <th id=\"T_23ca0_level0_col3\" class=\"col_heading level0 col3\" >phiVc1 En ton@m</th>\n",
       "      <th id=\"T_23ca0_level0_col4\" class=\"col_heading level0 col4\" >phiVc2 En ton@m</th>\n",
       "      <th id=\"T_23ca0_level0_col5\" class=\"col_heading level0 col5\" >phiVc3 En ton@m</th>\n",
       "      <th id=\"T_23ca0_level0_col6\" class=\"col_heading level0 col6\" >phiVc2011 En ton@m</th>\n",
       "      <th id=\"T_23ca0_level0_col7\" class=\"col_heading level0 col7\" >phiVcmax En ton@m</th>\n",
       "      <th id=\"T_23ca0_level0_col8\" class=\"col_heading level0 col8\" >phiVcd En ton@m</th>\n",
       "      <th id=\"T_23ca0_level0_col9\" class=\"col_heading level0 col9\" >phiVcd2 En ton@m</th>\n",
       "    </tr>\n",
       "  </thead>\n",
       "  <tbody>\n",
       "    <tr>\n",
       "      <th id=\"T_23ca0_level0_row0\" class=\"row_heading level0 row0\" >0</th>\n",
       "      <td id=\"T_23ca0_row0_col0\" class=\"data row0 col0\" >[40]</td>\n",
       "      <td id=\"T_23ca0_row0_col1\" class=\"data row0 col1\" >[3.5966942148760332]</td>\n",
       "      <td id=\"T_23ca0_row0_col2\" class=\"data row0 col2\" >[10.40293847566575]</td>\n",
       "      <td id=\"T_23ca0_row0_col3\" class=\"data row0 col3\" >[43.894103336237634]</td>\n",
       "      <td id=\"T_23ca0_row0_col4\" class=\"data row0 col4\" >[63.44693118601622]</td>\n",
       "      <td id=\"T_23ca0_row0_col5\" class=\"data row0 col5\" >[85.98980753554459]</td>\n",
       "      <td id=\"T_23ca0_row0_col6\" class=\"data row0 col6\" >[48.22708782416786]</td>\n",
       "      <td id=\"T_23ca0_row0_col7\" class=\"data row0 col7\" >[60.511346043531375]</td>\n",
       "      <td id=\"T_23ca0_row0_col8\" class=\"data row0 col8\" >[48.22708782416786]</td>\n",
       "      <td id=\"T_23ca0_row0_col9\" class=\"data row0 col9\" >[43.894103336237634]</td>\n",
       "    </tr>\n",
       "  </tbody>\n",
       "</table>\n"
      ],
      "text/plain": [
       "<pandas.io.formats.style.Styler at 0x27919ebdb10>"
      ]
     },
     "execution_count": 238,
     "metadata": {},
     "output_type": "execute_result"
    }
   ],
   "source": [
    "import numpy as np\n",
    "import pandas as pd\n",
    "\n",
    "\n",
    "\n",
    "cc = 40 #cm\n",
    "cl = 40 #cm\n",
    "B = 165 #cm\n",
    "L = 165 #cm\n",
    "bw = 100 #cm\n",
    "A0 = B*L #cm2\n",
    "\n",
    "fprimc = 230 #kg/cm2\n",
    "fy = 4200 #kg/cm2\n",
    "beta1 = 0.85\n",
    "phi = 0.75 \n",
    "lmbda = 1 #Relación según resistencia del hormigón\n",
    "direccion = True\n",
    "\n",
    "qa = 1.22 #kg/cm2\n",
    "qu = 2.44 #kg/cm2\n",
    "Pl = 12.8 * 1000 #kg\n",
    "Pd = 19.2 * 1000 #kg\n",
    "\n",
    "t = 0\n",
    "if direccion == True:\n",
    "    t = cl\n",
    "elif direccion == False:\n",
    "    t = cc\n",
    "\n",
    "d = np.min([cc,cl]) #en cm\n",
    "Psu = (1.2*Pd) + (1.6*Pl)\n",
    "qsu = Psu / A0\n",
    "e = B/2 - t/2 - d\n",
    "beta = np.max([cc,cl])/np.min([cc,cl])\n",
    "\n",
    "\n",
    "#Verificacion de espesor minimo requerido por cortante\n",
    "Cortanteactual = []\n",
    "Cortante2011 = []\n",
    "dval = []\n",
    "Vu1mat = []\n",
    "Vu2mat = []\n",
    "phiVc1mat = []\n",
    "phiVc2mat = []\n",
    "phiVc3mat = []\n",
    "phiVc2011mat = []\n",
    "phiVcmaxmat = []\n",
    "phiVcd2mat = []\n",
    "phiVcdmat = []\n",
    "\n",
    "i=0\n",
    "de=d\n",
    "phiVcd2 = Vu2 =0\n",
    "\n",
    "while phiVcd2 <= Vu2 or phiVcd <= Vu1:\n",
    "\n",
    "    alphas = 40   # The value of alphaS is 40 for interior columns, 30 for edge columns, and 20 for corner columns. (22.6.5.3)\n",
    "    bo = ((2*de)+cc+cl)*2 #Perímetro de la sección crítica para cortante en dos direcciones en losas y zapatas, pulg.\n",
    "\n",
    "    lmbdas = np.sqrt(2/(1+(0.04*de)))\n",
    "    if lmbdas <=1:\n",
    "        lmbdas = lmbdas\n",
    "    else:\n",
    "        lmbdas = 1\n",
    "\n",
    "\n",
    "    Vu1 = qsu*e*bw / 1000 #Cortante Unidireccional\n",
    "    Vu1mat.append(Vu1)\n",
    "\n",
    "    Vu2 = (Psu - (qsu*((t+de)**2)))*(bw/bo) / 1000   #Cortante Bidireccional\n",
    "    Vu2mat.append(Vu2)\n",
    "\n",
    "    phiVc1 = phi*1.1*lmbda*lmbdas*np.sqrt(fprimc)*bw*de /1000    #ACI 22.6.5.2 (a)\n",
    "    phiVc1mat.append(phiVc1)\n",
    "    \n",
    "    phiVc2 = phi*0.53*(1+(2/beta))*lmbdas*lmbda*np.sqrt(fprimc)*bw*de /1000    #ACI 22.6.5.2 (b)\n",
    "    phiVc2mat.append(phiVc2)\n",
    "    \n",
    "    phiVc3 = phi*0.27*(2+((alphas*de)/bo))*lmbda*np.sqrt(fprimc)*bw*de /1000    #ACI 22.6.5.2 (c)\n",
    "    phiVc3mat.append(phiVc3)\n",
    "\n",
    "    phiVc2011 = phi*(1.06*np.sqrt(fprimc)*bw*de) /1000\n",
    "    phiVc2011mat.append(phiVc2011)\n",
    "\n",
    "    phiVcmax = phi*1.33*lmbda*np.sqrt(fprimc)*bw*de /1000    #ACI 22.5.5.1.1\n",
    "    phiVcmaxmat.append(phiVcmax)\n",
    "    \n",
    "\n",
    "    phiVcd2 = np.min([phiVc1,phiVc2,phiVc3,phiVcmax])   #Resultado final tomando el menor de los tres\n",
    "    phiVcd2mat.append(phiVcd2)\n",
    "\n",
    "    phiVcd = np.min([phiVc2011,phiVcmax])       #Resultado considerando la norma del 2011\n",
    "    phiVcdmat.append(phiVcd)\n",
    "\n",
    "    Cortanteactual.append(phiVcd2)\n",
    "    Cortante2011.append(phiVcd)\n",
    "    dval.append(de)\n",
    " \n",
    "    i+=1\n",
    "    de+=10\n",
    "\n",
    "\n",
    "df = pd.DataFrame([[dval,Vu1mat,Vu2mat,phiVc1mat,phiVc2mat,phiVc3mat,phiVc2011mat,phiVcmaxmat,phiVcdmat,phiVcd2mat]],\n",
    "columns=['d En cm','Vu1 En ton@m','Vu2 En ton@m','phiVc1 En ton@m','phiVc2 En ton@m','phiVc3 En ton@m','phiVc2011 En ton@m','phiVcmax En ton@m','phiVcd En ton@m','phiVcd2 En ton@m'])\n",
    "df.style\n",
    "\n"
   ]
  },
  {
   "attachments": {},
   "cell_type": "markdown",
   "metadata": {},
   "source": [
    "<img src='./images/recubrimiento.jpg'>\n",
    "<img src='./images/formula1.jpg'>"
   ]
  },
  {
   "cell_type": "code",
   "execution_count": 239,
   "metadata": {},
   "outputs": [
    {
     "name": "stdout",
     "output_type": "stream",
     "text": [
      "El valor de h es: 50.04 cm\n",
      "El valor de la carga de la zapata es: 3.2696136 tons\n",
      "El valor de la carga del cuello es: 0.384 tons\n",
      "El valor de la carga del relleno es: 4.6125 tons\n",
      "El valor del peso total es: 51786.113600000004 kg\n",
      "El valor del esfuerzo de contacto es: 1.902152932966024 kg/cm2\n",
      "\n",
      "El tamaño de la zapata no cumple,  qo: 1.902152932966024 <= qa: 1.22 (en kg/cm2)\n",
      "La nueva dimension de la zapata es 206.45822822062578 cm\n",
      "\n",
      "El acero requerido As <=> Asmin: 7.2 cm2 >= As: 5.851244257738722 cm2\n",
      "La reistencia de Mn con Asmin cumple la demanda, phiMn:22.041296776214818 >= Mu:8.708066597890628 T*m@m\n"
     ]
    }
   ],
   "source": [
    "#Calculo del peso propio del plinto\n",
    "rec = 7.5 #cm\n",
    "h = dval[0]+rec+2.54 #Recubrimiento indicado en la ACI+ el dametro de una varilla de soporte (25.4mm asumidos)\n",
    "Pp = (h*A0/1000000)*2.4  #Peso de la zapata (2.4 T/m3 peso especifico del hormigon armado) & Recubrimiento basado en tabla 20.5.1.3.1 (ACI)\n",
    "Pcuello = (cc*cl*100/1000000)*2.4 #Peso del cuello de la columna\n",
    "Prelleno = ((A0*100/1000000)-(cc*cl*100/1000000))*1.8 #Asumimos que el suelo posee un peso específico de 1.5 T/m3\n",
    "Ptot = (Pp + Pcuello + Prelleno + (Psu/1000)) * 1000\n",
    "qo = (Ptot/A0)\n",
    "\n",
    "print(f'El valor de h es: {h} cm')\n",
    "print(f'El valor de la carga de la zapata es: {Pp} tons')\n",
    "print(f'El valor de la carga del cuello es: {Pcuello} tons')\n",
    "print(f'El valor de la carga del relleno es: {Prelleno} tons')\n",
    "print(f'El valor del peso total es: {Ptot} kg')\n",
    "print(f'El valor del esfuerzo de contacto es: {qo} kg/cm2')\n",
    "\n",
    "if qo <= qa:\n",
    "    print(f'El tamaño del plinto cumple, qo: {qo} <= qa: {qa} ')\n",
    "else:\n",
    "    print(f'\\nEl tamaño de la zapata no cumple,  qo: {qo} <= qa: {qa} (en kg/cm2)')\n",
    "    while qo > qa:\n",
    "        qo = Ptot / A0\n",
    "        A0+=100 #cm2 \n",
    "    \n",
    "    Lmax = np.sqrt(A0)\n",
    "    print(f'La nueva dimension de la zapata es {Lmax} cm')\n",
    "\n",
    "    \n",
    "\n",
    "\n",
    "#Verificacion de espesor minimo requerido por flexión\n",
    "Ag = dval[-1]*bw\n",
    "Asmin = 0.0018*Ag # Obtenido en ACI 8.6.1.1\n",
    "c = ((Lmax/2)-(np.max([cc,cl])/2))\n",
    "Mu = (qo*Lmax*(c**2))/2\n",
    "\n",
    "Rn = (Mu)/(0.9*bw*(dval[-1]**2)) #Ver formula en referencias\n",
    "ro = (0.85*fprimc/fy)*(1-np.sqrt(1-((2*Rn)/(0.85*fprimc))))\n",
    "As = ro*bw*dval[-1]\n",
    "\n",
    "if As <= Asmin:\n",
    "    print(f'\\nEl acero requerido As <=> Asmin: {Asmin} cm2 >= As: {As} cm2')\n",
    "else:\n",
    "    print(f'\\nEl acero requerido es As: {As} cm2 >= Asmin: {Asmin} cm2')\n",
    "\n",
    "#Calculo de phiMn con este Asmin de refuerzo:\n",
    "a = (Asmin*fy) / (0.85*fprimc*bw)\n",
    "phiMn = (0.9*Asmin*fy*(dval[-1]-(a/2)))*(Lmax/bw)\n",
    "\n",
    "if phiMn >= Mu:\n",
    "    print(f'La reistencia de Mn con Asmin cumple la demanda, phiMn:{phiMn /100000} >= Mu:{Mu /100000} T*m@m')\n",
    "else:\n",
    "    print(f'La reistencia de Mn con Asmin no cumple la demanda, phiMn:{phiMn /100000} < Mu:{Mu /100000} T*m@m')\n",
    "\n",
    "# ro = ((Asmin/0.9) / (bw*dval[0])) #Se divide con 0.9 porque la formula considera con H sino con d.(Se asume que d/H = 0.9)\n",
    "# defl = (2.2*c)*np.sqrt(Ptot/A0) #Siendo delf el d a flexion, obtenido despejando, ver ecuacion 10.16 del (DGboACI)\n",
    "#print(f'El valor de d (comparando capacidad a flexion y corte) es: {np.max([defl,dval[0]])} cm')"
   ]
  },
  {
   "attachments": {},
   "cell_type": "markdown",
   "metadata": {},
   "source": [
    "<p>Referencia para el acero de refuerzo</p>\n",
    "<img src='./images/refuerzo.jpg' width=300px height=300px>"
   ]
  },
  {
   "cell_type": "code",
   "execution_count": 240,
   "metadata": {},
   "outputs": [
    {
     "name": "stdout",
     "output_type": "stream",
     "text": [
      "El numero de varillas requerido es: 5.0\n",
      "El espaciamiento entre varillas es: 20.0 cm\n"
     ]
    }
   ],
   "source": [
    "#Numero de varillas y espaciamiento siendo varillas de 14mm\n",
    "Asv = np.pi*(1.4**2)*0.25\n",
    "numvar = np.round(Asmin/Asv)\n",
    "espaciamiento = (bw)/(numvar)\n",
    "print(f'El numero de varillas requerido es: {numvar}')\n",
    "print(f'El espaciamiento entre varillas es: {espaciamiento} cm')"
   ]
  }
 ],
 "metadata": {
  "kernelspec": {
   "display_name": "Python 3",
   "language": "python",
   "name": "python3"
  },
  "language_info": {
   "codemirror_mode": {
    "name": "ipython",
    "version": 3
   },
   "file_extension": ".py",
   "mimetype": "text/x-python",
   "name": "python",
   "nbconvert_exporter": "python",
   "pygments_lexer": "ipython3",
   "version": "3.10.8"
  },
  "orig_nbformat": 4,
  "vscode": {
   "interpreter": {
    "hash": "110fe3fb9777db4ce1f884af3cc527a40b2c98427ad17781c021ef692bd3d28d"
   }
  }
 },
 "nbformat": 4,
 "nbformat_minor": 2
}
