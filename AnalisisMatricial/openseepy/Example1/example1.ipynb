{
 "cells": [
  {
   "cell_type": "code",
   "execution_count": 64,
   "metadata": {},
   "outputs": [
    {
     "data": {
      "text/html": [
       "<div>\n",
       "<style scoped>\n",
       "    .dataframe tbody tr th:only-of-type {\n",
       "        vertical-align: middle;\n",
       "    }\n",
       "\n",
       "    .dataframe tbody tr th {\n",
       "        vertical-align: top;\n",
       "    }\n",
       "\n",
       "    .dataframe thead th {\n",
       "        text-align: right;\n",
       "    }\n",
       "</style>\n",
       "<table border=\"1\" class=\"dataframe\">\n",
       "  <thead>\n",
       "    <tr style=\"text-align: right;\">\n",
       "      <th></th>\n",
       "      <th>0</th>\n",
       "      <th>1</th>\n",
       "      <th>2</th>\n",
       "    </tr>\n",
       "  </thead>\n",
       "  <tbody>\n",
       "    <tr>\n",
       "      <th>0</th>\n",
       "      <td>0.0</td>\n",
       "      <td>0.0</td>\n",
       "      <td>0.0</td>\n",
       "    </tr>\n",
       "    <tr>\n",
       "      <th>1</th>\n",
       "      <td>6.0</td>\n",
       "      <td>0.0</td>\n",
       "      <td>0.0</td>\n",
       "    </tr>\n",
       "    <tr>\n",
       "      <th>2</th>\n",
       "      <td>12.0</td>\n",
       "      <td>0.0</td>\n",
       "      <td>0.0</td>\n",
       "    </tr>\n",
       "    <tr>\n",
       "      <th>3</th>\n",
       "      <td>0.0</td>\n",
       "      <td>4.0</td>\n",
       "      <td>0.0</td>\n",
       "    </tr>\n",
       "    <tr>\n",
       "      <th>4</th>\n",
       "      <td>6.0</td>\n",
       "      <td>4.0</td>\n",
       "      <td>0.0</td>\n",
       "    </tr>\n",
       "    <tr>\n",
       "      <th>5</th>\n",
       "      <td>12.0</td>\n",
       "      <td>4.0</td>\n",
       "      <td>0.0</td>\n",
       "    </tr>\n",
       "    <tr>\n",
       "      <th>6</th>\n",
       "      <td>0.0</td>\n",
       "      <td>8.0</td>\n",
       "      <td>0.0</td>\n",
       "    </tr>\n",
       "    <tr>\n",
       "      <th>7</th>\n",
       "      <td>6.0</td>\n",
       "      <td>8.0</td>\n",
       "      <td>0.0</td>\n",
       "    </tr>\n",
       "    <tr>\n",
       "      <th>8</th>\n",
       "      <td>12.0</td>\n",
       "      <td>8.0</td>\n",
       "      <td>0.0</td>\n",
       "    </tr>\n",
       "    <tr>\n",
       "      <th>9</th>\n",
       "      <td>0.0</td>\n",
       "      <td>12.0</td>\n",
       "      <td>0.0</td>\n",
       "    </tr>\n",
       "    <tr>\n",
       "      <th>10</th>\n",
       "      <td>6.0</td>\n",
       "      <td>12.0</td>\n",
       "      <td>0.0</td>\n",
       "    </tr>\n",
       "    <tr>\n",
       "      <th>11</th>\n",
       "      <td>12.0</td>\n",
       "      <td>12.0</td>\n",
       "      <td>0.0</td>\n",
       "    </tr>\n",
       "    <tr>\n",
       "      <th>12</th>\n",
       "      <td>0.0</td>\n",
       "      <td>0.0</td>\n",
       "      <td>3.0</td>\n",
       "    </tr>\n",
       "    <tr>\n",
       "      <th>13</th>\n",
       "      <td>6.0</td>\n",
       "      <td>0.0</td>\n",
       "      <td>3.0</td>\n",
       "    </tr>\n",
       "    <tr>\n",
       "      <th>14</th>\n",
       "      <td>12.0</td>\n",
       "      <td>0.0</td>\n",
       "      <td>3.0</td>\n",
       "    </tr>\n",
       "    <tr>\n",
       "      <th>15</th>\n",
       "      <td>0.0</td>\n",
       "      <td>4.0</td>\n",
       "      <td>3.0</td>\n",
       "    </tr>\n",
       "    <tr>\n",
       "      <th>16</th>\n",
       "      <td>6.0</td>\n",
       "      <td>4.0</td>\n",
       "      <td>3.0</td>\n",
       "    </tr>\n",
       "    <tr>\n",
       "      <th>17</th>\n",
       "      <td>12.0</td>\n",
       "      <td>4.0</td>\n",
       "      <td>3.0</td>\n",
       "    </tr>\n",
       "    <tr>\n",
       "      <th>18</th>\n",
       "      <td>0.0</td>\n",
       "      <td>8.0</td>\n",
       "      <td>3.0</td>\n",
       "    </tr>\n",
       "    <tr>\n",
       "      <th>19</th>\n",
       "      <td>6.0</td>\n",
       "      <td>8.0</td>\n",
       "      <td>3.0</td>\n",
       "    </tr>\n",
       "    <tr>\n",
       "      <th>20</th>\n",
       "      <td>12.0</td>\n",
       "      <td>8.0</td>\n",
       "      <td>3.0</td>\n",
       "    </tr>\n",
       "    <tr>\n",
       "      <th>21</th>\n",
       "      <td>0.0</td>\n",
       "      <td>12.0</td>\n",
       "      <td>3.0</td>\n",
       "    </tr>\n",
       "    <tr>\n",
       "      <th>22</th>\n",
       "      <td>6.0</td>\n",
       "      <td>12.0</td>\n",
       "      <td>3.0</td>\n",
       "    </tr>\n",
       "    <tr>\n",
       "      <th>23</th>\n",
       "      <td>12.0</td>\n",
       "      <td>12.0</td>\n",
       "      <td>3.0</td>\n",
       "    </tr>\n",
       "    <tr>\n",
       "      <th>24</th>\n",
       "      <td>0.0</td>\n",
       "      <td>0.0</td>\n",
       "      <td>6.0</td>\n",
       "    </tr>\n",
       "    <tr>\n",
       "      <th>25</th>\n",
       "      <td>6.0</td>\n",
       "      <td>0.0</td>\n",
       "      <td>6.0</td>\n",
       "    </tr>\n",
       "    <tr>\n",
       "      <th>26</th>\n",
       "      <td>12.0</td>\n",
       "      <td>0.0</td>\n",
       "      <td>6.0</td>\n",
       "    </tr>\n",
       "    <tr>\n",
       "      <th>27</th>\n",
       "      <td>0.0</td>\n",
       "      <td>4.0</td>\n",
       "      <td>6.0</td>\n",
       "    </tr>\n",
       "    <tr>\n",
       "      <th>28</th>\n",
       "      <td>6.0</td>\n",
       "      <td>4.0</td>\n",
       "      <td>6.0</td>\n",
       "    </tr>\n",
       "    <tr>\n",
       "      <th>29</th>\n",
       "      <td>12.0</td>\n",
       "      <td>4.0</td>\n",
       "      <td>6.0</td>\n",
       "    </tr>\n",
       "    <tr>\n",
       "      <th>30</th>\n",
       "      <td>0.0</td>\n",
       "      <td>8.0</td>\n",
       "      <td>6.0</td>\n",
       "    </tr>\n",
       "    <tr>\n",
       "      <th>31</th>\n",
       "      <td>6.0</td>\n",
       "      <td>8.0</td>\n",
       "      <td>6.0</td>\n",
       "    </tr>\n",
       "    <tr>\n",
       "      <th>32</th>\n",
       "      <td>12.0</td>\n",
       "      <td>8.0</td>\n",
       "      <td>6.0</td>\n",
       "    </tr>\n",
       "    <tr>\n",
       "      <th>33</th>\n",
       "      <td>0.0</td>\n",
       "      <td>12.0</td>\n",
       "      <td>6.0</td>\n",
       "    </tr>\n",
       "    <tr>\n",
       "      <th>34</th>\n",
       "      <td>6.0</td>\n",
       "      <td>12.0</td>\n",
       "      <td>6.0</td>\n",
       "    </tr>\n",
       "    <tr>\n",
       "      <th>35</th>\n",
       "      <td>12.0</td>\n",
       "      <td>12.0</td>\n",
       "      <td>6.0</td>\n",
       "    </tr>\n",
       "    <tr>\n",
       "      <th>36</th>\n",
       "      <td>0.0</td>\n",
       "      <td>0.0</td>\n",
       "      <td>9.0</td>\n",
       "    </tr>\n",
       "    <tr>\n",
       "      <th>37</th>\n",
       "      <td>6.0</td>\n",
       "      <td>0.0</td>\n",
       "      <td>9.0</td>\n",
       "    </tr>\n",
       "    <tr>\n",
       "      <th>38</th>\n",
       "      <td>12.0</td>\n",
       "      <td>0.0</td>\n",
       "      <td>9.0</td>\n",
       "    </tr>\n",
       "    <tr>\n",
       "      <th>39</th>\n",
       "      <td>0.0</td>\n",
       "      <td>4.0</td>\n",
       "      <td>9.0</td>\n",
       "    </tr>\n",
       "    <tr>\n",
       "      <th>40</th>\n",
       "      <td>6.0</td>\n",
       "      <td>4.0</td>\n",
       "      <td>9.0</td>\n",
       "    </tr>\n",
       "    <tr>\n",
       "      <th>41</th>\n",
       "      <td>12.0</td>\n",
       "      <td>4.0</td>\n",
       "      <td>9.0</td>\n",
       "    </tr>\n",
       "    <tr>\n",
       "      <th>42</th>\n",
       "      <td>0.0</td>\n",
       "      <td>8.0</td>\n",
       "      <td>9.0</td>\n",
       "    </tr>\n",
       "    <tr>\n",
       "      <th>43</th>\n",
       "      <td>6.0</td>\n",
       "      <td>8.0</td>\n",
       "      <td>9.0</td>\n",
       "    </tr>\n",
       "    <tr>\n",
       "      <th>44</th>\n",
       "      <td>12.0</td>\n",
       "      <td>8.0</td>\n",
       "      <td>9.0</td>\n",
       "    </tr>\n",
       "    <tr>\n",
       "      <th>45</th>\n",
       "      <td>0.0</td>\n",
       "      <td>12.0</td>\n",
       "      <td>9.0</td>\n",
       "    </tr>\n",
       "    <tr>\n",
       "      <th>46</th>\n",
       "      <td>6.0</td>\n",
       "      <td>12.0</td>\n",
       "      <td>9.0</td>\n",
       "    </tr>\n",
       "    <tr>\n",
       "      <th>47</th>\n",
       "      <td>12.0</td>\n",
       "      <td>12.0</td>\n",
       "      <td>9.0</td>\n",
       "    </tr>\n",
       "  </tbody>\n",
       "</table>\n",
       "</div>"
      ],
      "text/plain": [
       "       0     1    2\n",
       "0    0.0   0.0  0.0\n",
       "1    6.0   0.0  0.0\n",
       "2   12.0   0.0  0.0\n",
       "3    0.0   4.0  0.0\n",
       "4    6.0   4.0  0.0\n",
       "5   12.0   4.0  0.0\n",
       "6    0.0   8.0  0.0\n",
       "7    6.0   8.0  0.0\n",
       "8   12.0   8.0  0.0\n",
       "9    0.0  12.0  0.0\n",
       "10   6.0  12.0  0.0\n",
       "11  12.0  12.0  0.0\n",
       "12   0.0   0.0  3.0\n",
       "13   6.0   0.0  3.0\n",
       "14  12.0   0.0  3.0\n",
       "15   0.0   4.0  3.0\n",
       "16   6.0   4.0  3.0\n",
       "17  12.0   4.0  3.0\n",
       "18   0.0   8.0  3.0\n",
       "19   6.0   8.0  3.0\n",
       "20  12.0   8.0  3.0\n",
       "21   0.0  12.0  3.0\n",
       "22   6.0  12.0  3.0\n",
       "23  12.0  12.0  3.0\n",
       "24   0.0   0.0  6.0\n",
       "25   6.0   0.0  6.0\n",
       "26  12.0   0.0  6.0\n",
       "27   0.0   4.0  6.0\n",
       "28   6.0   4.0  6.0\n",
       "29  12.0   4.0  6.0\n",
       "30   0.0   8.0  6.0\n",
       "31   6.0   8.0  6.0\n",
       "32  12.0   8.0  6.0\n",
       "33   0.0  12.0  6.0\n",
       "34   6.0  12.0  6.0\n",
       "35  12.0  12.0  6.0\n",
       "36   0.0   0.0  9.0\n",
       "37   6.0   0.0  9.0\n",
       "38  12.0   0.0  9.0\n",
       "39   0.0   4.0  9.0\n",
       "40   6.0   4.0  9.0\n",
       "41  12.0   4.0  9.0\n",
       "42   0.0   8.0  9.0\n",
       "43   6.0   8.0  9.0\n",
       "44  12.0   8.0  9.0\n",
       "45   0.0  12.0  9.0\n",
       "46   6.0  12.0  9.0\n",
       "47  12.0  12.0  9.0"
      ]
     },
     "metadata": {},
     "output_type": "display_data"
    }
   ],
   "source": [
    "import plotly.express as px\n",
    "import numpy as np\n",
    "import pandas as pd\n",
    "\n",
    "numpisos = 4\n",
    "nzcol = 0\n",
    "\n",
    "xcol = []\n",
    "ycol = []\n",
    "zcol = []\n",
    "\n",
    "for i in range(numpisos):\n",
    "    numcolj = 4\n",
    "    numcoli = 3\n",
    "    nycol = 0\n",
    "    nxcol = 0\n",
    "    for j in range(numcolj):\n",
    "        nxcol = 0\n",
    "        for d in range(numcoli):\n",
    "            xcol.append(nxcol)\n",
    "            ycol.append(nycol)\n",
    "            zcol.append(nzcol)\n",
    "            nxcol += 6\n",
    "        nycol += 4\n",
    "    nzcol += 3\n",
    "\n",
    "# Create a DataFrame\n",
    "df_nodes = pd.DataFrame({'x': xcol, 'y': ycol, 'z': zcol})\n",
    "\n",
    "coordinates = np.zeros((numpisos*numcoli*numcolj, 3))\n",
    "for i in range(len(xcol)):\n",
    "    # Define elements by specifying the indices of connected nodes\n",
    "    coordinates[i,:] = [xcol[i], ycol[i], zcol[i]]\n",
    "\n",
    "tbl_coordinates = pd.DataFrame(coordinates)\n",
    "display(tbl_coordinates)\n",
    "\n",
    "\n",
    "# # Create a DataFrame for elements\n",
    "# df_elements = pd.DataFrame(elements, columns=['node1', 'node2'])\n",
    "\n",
    "# # Create an interactive 3D scatter plot for nodes\n",
    "# fig = px.scatter_3d(df_nodes, x='x', y='y', z='z', title='Interactive 3D Building Plot')\n",
    "\n",
    "# # Create traces for the elements (lines connecting nodes)\n",
    "# for element in elements:\n",
    "#     node1 = element[0]\n",
    "#     node2 = element[1]\n",
    "#     trace = go.Scatter3d(\n",
    "#         x=[df_nodes.loc[node1, 'x'], df_nodes.loc[node2, 'x']],\n",
    "#         y=[df_nodes.loc[node1, 'y'], df_nodes.loc[node2, 'y']],\n",
    "#         z=[df_nodes.loc[node1, 'z'], df_nodes.loc[node2, 'z']],\n",
    "#         mode='lines',\n",
    "#         line=dict(color='red', width=3),  # Customize line color and width\n",
    "#         name=f'Element {node1}-{node2}'\n",
    "#     )\n",
    "#     fig.add_trace(trace)\n",
    "\n",
    "# # Customize the plot if needed\n",
    "# fig.update_layout(scene=dict(xaxis_title='X-axis Label', yaxis_title='Y-axis Label', zaxis_title='Z-axis Label'))\n",
    "\n",
    "# # Show the interactive plot\n",
    "# fig.show()\n",
    "\n"
   ]
  },
  {
   "cell_type": "code",
   "execution_count": 65,
   "metadata": {},
   "outputs": [
    {
     "data": {
      "application/vnd.plotly.v1+json": {
       "config": {
        "plotlyServerURL": "https://plot.ly"
       },
       "data": [
        {
         "hovertemplate": "x=%{x}<br>y=%{y}<br>z=%{z}<extra></extra>",
         "legendgroup": "",
         "marker": {
          "color": "#636efa",
          "symbol": "circle"
         },
         "mode": "markers",
         "name": "",
         "scene": "scene",
         "showlegend": false,
         "type": "scatter3d",
         "x": [
          0,
          6,
          12,
          0,
          6,
          12,
          0,
          6,
          12,
          0,
          6,
          12,
          0,
          6,
          12,
          0,
          6,
          12,
          0,
          6,
          12,
          0,
          6,
          12,
          0,
          6,
          12,
          0,
          6,
          12,
          0,
          6,
          12,
          0,
          6,
          12,
          0,
          6,
          12,
          0,
          6,
          12,
          0,
          6,
          12,
          0,
          6,
          12
         ],
         "y": [
          0,
          0,
          0,
          4,
          4,
          4,
          8,
          8,
          8,
          12,
          12,
          12,
          0,
          0,
          0,
          4,
          4,
          4,
          8,
          8,
          8,
          12,
          12,
          12,
          0,
          0,
          0,
          4,
          4,
          4,
          8,
          8,
          8,
          12,
          12,
          12,
          0,
          0,
          0,
          4,
          4,
          4,
          8,
          8,
          8,
          12,
          12,
          12
         ],
         "z": [
          0,
          0,
          0,
          0,
          0,
          0,
          0,
          0,
          0,
          0,
          0,
          0,
          3,
          3,
          3,
          3,
          3,
          3,
          3,
          3,
          3,
          3,
          3,
          3,
          6,
          6,
          6,
          6,
          6,
          6,
          6,
          6,
          6,
          6,
          6,
          6,
          9,
          9,
          9,
          9,
          9,
          9,
          9,
          9,
          9,
          9,
          9,
          9
         ]
        }
       ],
       "layout": {
        "legend": {
         "tracegroupgap": 0
        },
        "scene": {
         "aspectmode": "manual",
         "aspectratio": {
          "x": 1,
          "y": 1,
          "z": 1
         },
         "domain": {
          "x": [
           0,
           1
          ],
          "y": [
           0,
           1
          ]
         },
         "xaxis": {
          "title": {
           "text": "x"
          }
         },
         "yaxis": {
          "title": {
           "text": "y"
          }
         },
         "zaxis": {
          "title": {
           "text": "z"
          }
         }
        },
        "template": {
         "data": {
          "bar": [
           {
            "error_x": {
             "color": "#2a3f5f"
            },
            "error_y": {
             "color": "#2a3f5f"
            },
            "marker": {
             "line": {
              "color": "#E5ECF6",
              "width": 0.5
             },
             "pattern": {
              "fillmode": "overlay",
              "size": 10,
              "solidity": 0.2
             }
            },
            "type": "bar"
           }
          ],
          "barpolar": [
           {
            "marker": {
             "line": {
              "color": "#E5ECF6",
              "width": 0.5
             },
             "pattern": {
              "fillmode": "overlay",
              "size": 10,
              "solidity": 0.2
             }
            },
            "type": "barpolar"
           }
          ],
          "carpet": [
           {
            "aaxis": {
             "endlinecolor": "#2a3f5f",
             "gridcolor": "white",
             "linecolor": "white",
             "minorgridcolor": "white",
             "startlinecolor": "#2a3f5f"
            },
            "baxis": {
             "endlinecolor": "#2a3f5f",
             "gridcolor": "white",
             "linecolor": "white",
             "minorgridcolor": "white",
             "startlinecolor": "#2a3f5f"
            },
            "type": "carpet"
           }
          ],
          "choropleth": [
           {
            "colorbar": {
             "outlinewidth": 0,
             "ticks": ""
            },
            "type": "choropleth"
           }
          ],
          "contour": [
           {
            "colorbar": {
             "outlinewidth": 0,
             "ticks": ""
            },
            "colorscale": [
             [
              0,
              "#0d0887"
             ],
             [
              0.1111111111111111,
              "#46039f"
             ],
             [
              0.2222222222222222,
              "#7201a8"
             ],
             [
              0.3333333333333333,
              "#9c179e"
             ],
             [
              0.4444444444444444,
              "#bd3786"
             ],
             [
              0.5555555555555556,
              "#d8576b"
             ],
             [
              0.6666666666666666,
              "#ed7953"
             ],
             [
              0.7777777777777778,
              "#fb9f3a"
             ],
             [
              0.8888888888888888,
              "#fdca26"
             ],
             [
              1,
              "#f0f921"
             ]
            ],
            "type": "contour"
           }
          ],
          "contourcarpet": [
           {
            "colorbar": {
             "outlinewidth": 0,
             "ticks": ""
            },
            "type": "contourcarpet"
           }
          ],
          "heatmap": [
           {
            "colorbar": {
             "outlinewidth": 0,
             "ticks": ""
            },
            "colorscale": [
             [
              0,
              "#0d0887"
             ],
             [
              0.1111111111111111,
              "#46039f"
             ],
             [
              0.2222222222222222,
              "#7201a8"
             ],
             [
              0.3333333333333333,
              "#9c179e"
             ],
             [
              0.4444444444444444,
              "#bd3786"
             ],
             [
              0.5555555555555556,
              "#d8576b"
             ],
             [
              0.6666666666666666,
              "#ed7953"
             ],
             [
              0.7777777777777778,
              "#fb9f3a"
             ],
             [
              0.8888888888888888,
              "#fdca26"
             ],
             [
              1,
              "#f0f921"
             ]
            ],
            "type": "heatmap"
           }
          ],
          "heatmapgl": [
           {
            "colorbar": {
             "outlinewidth": 0,
             "ticks": ""
            },
            "colorscale": [
             [
              0,
              "#0d0887"
             ],
             [
              0.1111111111111111,
              "#46039f"
             ],
             [
              0.2222222222222222,
              "#7201a8"
             ],
             [
              0.3333333333333333,
              "#9c179e"
             ],
             [
              0.4444444444444444,
              "#bd3786"
             ],
             [
              0.5555555555555556,
              "#d8576b"
             ],
             [
              0.6666666666666666,
              "#ed7953"
             ],
             [
              0.7777777777777778,
              "#fb9f3a"
             ],
             [
              0.8888888888888888,
              "#fdca26"
             ],
             [
              1,
              "#f0f921"
             ]
            ],
            "type": "heatmapgl"
           }
          ],
          "histogram": [
           {
            "marker": {
             "pattern": {
              "fillmode": "overlay",
              "size": 10,
              "solidity": 0.2
             }
            },
            "type": "histogram"
           }
          ],
          "histogram2d": [
           {
            "colorbar": {
             "outlinewidth": 0,
             "ticks": ""
            },
            "colorscale": [
             [
              0,
              "#0d0887"
             ],
             [
              0.1111111111111111,
              "#46039f"
             ],
             [
              0.2222222222222222,
              "#7201a8"
             ],
             [
              0.3333333333333333,
              "#9c179e"
             ],
             [
              0.4444444444444444,
              "#bd3786"
             ],
             [
              0.5555555555555556,
              "#d8576b"
             ],
             [
              0.6666666666666666,
              "#ed7953"
             ],
             [
              0.7777777777777778,
              "#fb9f3a"
             ],
             [
              0.8888888888888888,
              "#fdca26"
             ],
             [
              1,
              "#f0f921"
             ]
            ],
            "type": "histogram2d"
           }
          ],
          "histogram2dcontour": [
           {
            "colorbar": {
             "outlinewidth": 0,
             "ticks": ""
            },
            "colorscale": [
             [
              0,
              "#0d0887"
             ],
             [
              0.1111111111111111,
              "#46039f"
             ],
             [
              0.2222222222222222,
              "#7201a8"
             ],
             [
              0.3333333333333333,
              "#9c179e"
             ],
             [
              0.4444444444444444,
              "#bd3786"
             ],
             [
              0.5555555555555556,
              "#d8576b"
             ],
             [
              0.6666666666666666,
              "#ed7953"
             ],
             [
              0.7777777777777778,
              "#fb9f3a"
             ],
             [
              0.8888888888888888,
              "#fdca26"
             ],
             [
              1,
              "#f0f921"
             ]
            ],
            "type": "histogram2dcontour"
           }
          ],
          "mesh3d": [
           {
            "colorbar": {
             "outlinewidth": 0,
             "ticks": ""
            },
            "type": "mesh3d"
           }
          ],
          "parcoords": [
           {
            "line": {
             "colorbar": {
              "outlinewidth": 0,
              "ticks": ""
             }
            },
            "type": "parcoords"
           }
          ],
          "pie": [
           {
            "automargin": true,
            "type": "pie"
           }
          ],
          "scatter": [
           {
            "fillpattern": {
             "fillmode": "overlay",
             "size": 10,
             "solidity": 0.2
            },
            "type": "scatter"
           }
          ],
          "scatter3d": [
           {
            "line": {
             "colorbar": {
              "outlinewidth": 0,
              "ticks": ""
             }
            },
            "marker": {
             "colorbar": {
              "outlinewidth": 0,
              "ticks": ""
             }
            },
            "type": "scatter3d"
           }
          ],
          "scattercarpet": [
           {
            "marker": {
             "colorbar": {
              "outlinewidth": 0,
              "ticks": ""
             }
            },
            "type": "scattercarpet"
           }
          ],
          "scattergeo": [
           {
            "marker": {
             "colorbar": {
              "outlinewidth": 0,
              "ticks": ""
             }
            },
            "type": "scattergeo"
           }
          ],
          "scattergl": [
           {
            "marker": {
             "colorbar": {
              "outlinewidth": 0,
              "ticks": ""
             }
            },
            "type": "scattergl"
           }
          ],
          "scattermapbox": [
           {
            "marker": {
             "colorbar": {
              "outlinewidth": 0,
              "ticks": ""
             }
            },
            "type": "scattermapbox"
           }
          ],
          "scatterpolar": [
           {
            "marker": {
             "colorbar": {
              "outlinewidth": 0,
              "ticks": ""
             }
            },
            "type": "scatterpolar"
           }
          ],
          "scatterpolargl": [
           {
            "marker": {
             "colorbar": {
              "outlinewidth": 0,
              "ticks": ""
             }
            },
            "type": "scatterpolargl"
           }
          ],
          "scatterternary": [
           {
            "marker": {
             "colorbar": {
              "outlinewidth": 0,
              "ticks": ""
             }
            },
            "type": "scatterternary"
           }
          ],
          "surface": [
           {
            "colorbar": {
             "outlinewidth": 0,
             "ticks": ""
            },
            "colorscale": [
             [
              0,
              "#0d0887"
             ],
             [
              0.1111111111111111,
              "#46039f"
             ],
             [
              0.2222222222222222,
              "#7201a8"
             ],
             [
              0.3333333333333333,
              "#9c179e"
             ],
             [
              0.4444444444444444,
              "#bd3786"
             ],
             [
              0.5555555555555556,
              "#d8576b"
             ],
             [
              0.6666666666666666,
              "#ed7953"
             ],
             [
              0.7777777777777778,
              "#fb9f3a"
             ],
             [
              0.8888888888888888,
              "#fdca26"
             ],
             [
              1,
              "#f0f921"
             ]
            ],
            "type": "surface"
           }
          ],
          "table": [
           {
            "cells": {
             "fill": {
              "color": "#EBF0F8"
             },
             "line": {
              "color": "white"
             }
            },
            "header": {
             "fill": {
              "color": "#C8D4E3"
             },
             "line": {
              "color": "white"
             }
            },
            "type": "table"
           }
          ]
         },
         "layout": {
          "annotationdefaults": {
           "arrowcolor": "#2a3f5f",
           "arrowhead": 0,
           "arrowwidth": 1
          },
          "autotypenumbers": "strict",
          "coloraxis": {
           "colorbar": {
            "outlinewidth": 0,
            "ticks": ""
           }
          },
          "colorscale": {
           "diverging": [
            [
             0,
             "#8e0152"
            ],
            [
             0.1,
             "#c51b7d"
            ],
            [
             0.2,
             "#de77ae"
            ],
            [
             0.3,
             "#f1b6da"
            ],
            [
             0.4,
             "#fde0ef"
            ],
            [
             0.5,
             "#f7f7f7"
            ],
            [
             0.6,
             "#e6f5d0"
            ],
            [
             0.7,
             "#b8e186"
            ],
            [
             0.8,
             "#7fbc41"
            ],
            [
             0.9,
             "#4d9221"
            ],
            [
             1,
             "#276419"
            ]
           ],
           "sequential": [
            [
             0,
             "#0d0887"
            ],
            [
             0.1111111111111111,
             "#46039f"
            ],
            [
             0.2222222222222222,
             "#7201a8"
            ],
            [
             0.3333333333333333,
             "#9c179e"
            ],
            [
             0.4444444444444444,
             "#bd3786"
            ],
            [
             0.5555555555555556,
             "#d8576b"
            ],
            [
             0.6666666666666666,
             "#ed7953"
            ],
            [
             0.7777777777777778,
             "#fb9f3a"
            ],
            [
             0.8888888888888888,
             "#fdca26"
            ],
            [
             1,
             "#f0f921"
            ]
           ],
           "sequentialminus": [
            [
             0,
             "#0d0887"
            ],
            [
             0.1111111111111111,
             "#46039f"
            ],
            [
             0.2222222222222222,
             "#7201a8"
            ],
            [
             0.3333333333333333,
             "#9c179e"
            ],
            [
             0.4444444444444444,
             "#bd3786"
            ],
            [
             0.5555555555555556,
             "#d8576b"
            ],
            [
             0.6666666666666666,
             "#ed7953"
            ],
            [
             0.7777777777777778,
             "#fb9f3a"
            ],
            [
             0.8888888888888888,
             "#fdca26"
            ],
            [
             1,
             "#f0f921"
            ]
           ]
          },
          "colorway": [
           "#636efa",
           "#EF553B",
           "#00cc96",
           "#ab63fa",
           "#FFA15A",
           "#19d3f3",
           "#FF6692",
           "#B6E880",
           "#FF97FF",
           "#FECB52"
          ],
          "font": {
           "color": "#2a3f5f"
          },
          "geo": {
           "bgcolor": "white",
           "lakecolor": "white",
           "landcolor": "#E5ECF6",
           "showlakes": true,
           "showland": true,
           "subunitcolor": "white"
          },
          "hoverlabel": {
           "align": "left"
          },
          "hovermode": "closest",
          "mapbox": {
           "style": "light"
          },
          "paper_bgcolor": "white",
          "plot_bgcolor": "#E5ECF6",
          "polar": {
           "angularaxis": {
            "gridcolor": "white",
            "linecolor": "white",
            "ticks": ""
           },
           "bgcolor": "#E5ECF6",
           "radialaxis": {
            "gridcolor": "white",
            "linecolor": "white",
            "ticks": ""
           }
          },
          "scene": {
           "xaxis": {
            "backgroundcolor": "#E5ECF6",
            "gridcolor": "white",
            "gridwidth": 2,
            "linecolor": "white",
            "showbackground": true,
            "ticks": "",
            "zerolinecolor": "white"
           },
           "yaxis": {
            "backgroundcolor": "#E5ECF6",
            "gridcolor": "white",
            "gridwidth": 2,
            "linecolor": "white",
            "showbackground": true,
            "ticks": "",
            "zerolinecolor": "white"
           },
           "zaxis": {
            "backgroundcolor": "#E5ECF6",
            "gridcolor": "white",
            "gridwidth": 2,
            "linecolor": "white",
            "showbackground": true,
            "ticks": "",
            "zerolinecolor": "white"
           }
          },
          "shapedefaults": {
           "line": {
            "color": "#2a3f5f"
           }
          },
          "ternary": {
           "aaxis": {
            "gridcolor": "white",
            "linecolor": "white",
            "ticks": ""
           },
           "baxis": {
            "gridcolor": "white",
            "linecolor": "white",
            "ticks": ""
           },
           "bgcolor": "#E5ECF6",
           "caxis": {
            "gridcolor": "white",
            "linecolor": "white",
            "ticks": ""
           }
          },
          "title": {
           "x": 0.05
          },
          "xaxis": {
           "automargin": true,
           "gridcolor": "white",
           "linecolor": "white",
           "ticks": "",
           "title": {
            "standoff": 15
           },
           "zerolinecolor": "white",
           "zerolinewidth": 2
          },
          "yaxis": {
           "automargin": true,
           "gridcolor": "white",
           "linecolor": "white",
           "ticks": "",
           "title": {
            "standoff": 15
           },
           "zerolinecolor": "white",
           "zerolinewidth": 2
          }
         }
        },
        "title": {
         "text": "Interactive 3D Scatter Plot"
        }
       }
      }
     },
     "metadata": {},
     "output_type": "display_data"
    }
   ],
   "source": [
    "# Create an interactive 3D scatter plot\n",
    "fig = px.scatter_3d(df, x='x', y='y', z='z', title='Interactive 3D Scatter Plot')\n",
    "\n",
    "# Customize the plot if needed\n",
    "fig.update_layout(scene_aspectmode='manual', scene_aspectratio=dict(x=1, y=1, z=1))\n",
    "\n",
    "\n",
    "# Show the interactive plot\n",
    "fig.show()\n"
   ]
  },
  {
   "cell_type": "code",
   "execution_count": 66,
   "metadata": {},
   "outputs": [
    {
     "name": "stdout",
     "output_type": "stream",
     "text": [
      ">>> VFO Warning: No 'loadcase' argument was provided to save output.<<<\n",
      "No Model_ODB specified, trying to get data from the active model.\n"
     ]
    },
    {
     "data": {
      "application/vnd.jupyter.widget-view+json": {
       "model_id": "abee6ce6ad9a48cbb51c34a90e7a8b63",
       "version_major": 2,
       "version_minor": 0
      },
      "text/plain": [
       "Widget(value=\"<iframe src='http://localhost:61694/index.html?ui=P_0x1a8ac42f9d0_4&reconnect=auto' style='width…"
      ]
     },
     "metadata": {},
     "output_type": "display_data"
    },
    {
     "name": "stdout",
     "output_type": "stream",
     "text": [
      "A view with name (P_0x1a8ac42f9d0_4) is already registered\n",
      " => returning previous one\n"
     ]
    },
    {
     "data": {
      "application/vnd.jupyter.widget-view+json": {
       "model_id": "d9ca56a6135c4e8d8891ffa5f03e9423",
       "version_major": 2,
       "version_minor": 0
      },
      "text/plain": [
       "Widget(value=\"<iframe src='http://localhost:61694/index.html?ui=P_0x1a8ac42f9d0_4&reconnect=auto' style='width…"
      ]
     },
     "metadata": {},
     "output_type": "display_data"
    },
    {
     "name": "stdout",
     "output_type": "stream",
     "text": [
      "Reading data from the First_openseespy_truss_ODB.\n"
     ]
    },
    {
     "data": {
      "application/vnd.jupyter.widget-view+json": {
       "model_id": "f173f7c7ea034736a8ba7ca77601460c",
       "version_major": 2,
       "version_minor": 0
      },
      "text/plain": [
       "Widget(value=\"<iframe src='http://localhost:61694/index.html?ui=P_0x1a8ac42f3d0_5&reconnect=auto' style='width…"
      ]
     },
     "metadata": {},
     "output_type": "display_data"
    },
    {
     "name": "stdout",
     "output_type": "stream",
     "text": [
      "A view with name (P_0x1a8ac42f3d0_5) is already registered\n",
      " => returning previous one\n"
     ]
    },
    {
     "data": {
      "application/vnd.jupyter.widget-view+json": {
       "model_id": "c4bdc4d60d9541df9c8c051618eb0866",
       "version_major": 2,
       "version_minor": 0
      },
      "text/plain": [
       "Widget(value=\"<iframe src='http://localhost:61694/index.html?ui=P_0x1a8ac42f3d0_5&reconnect=auto' style='width…"
      ]
     },
     "metadata": {},
     "output_type": "display_data"
    }
   ],
   "source": [
    "'''\n",
    "OpenSees -- Open System for Earthquake Engineering Simulation\n",
    "Pacific Earthquake Engineering Research Center\n",
    "http://opensees.berkeley.edu/\n",
    "Basic Truss Example 1.1\n",
    "-----------------------\n",
    " 2d 3 Element Elastic Truss\n",
    " Single Nodal Load, Static Analysis\n",
    "\n",
    "Example Objectives\n",
    "------------------\n",
    " Simple Introduction to OpenSees\n",
    "\n",
    "Units: kips, in, sec\n",
    "Written: Andreas Schellenberg (andreas.schellenberg@gmail.com)\n",
    "Date: June 2017\n",
    "'''\n",
    "\n",
    "# import the OpenSees Python module\n",
    "import openseespy.opensees as op\n",
    "import vfo.vfo as vfo\n",
    "\n",
    "\n",
    "# ------------------------------\n",
    "# Start of model generation\n",
    "# ------------------------------\n",
    "\n",
    "# remove existing model\n",
    "op.wipe()\n",
    "\n",
    "# create ModelBuilder (with two-dimensions and 2 DOF/node)\n",
    "op.model(\"BasicBuilder\", \"-ndm\",2, \"-ndf\",2)\n",
    "\n",
    "# create nodes & add to Domain - command: node nodeId xCrd yCrd\n",
    "op.node(1, 0.0,    0.0)\n",
    "op.node(2, 144.0,  0.0)\n",
    "op.node(3, 168.0,  0.0)\n",
    "op.node(4,  72.0, 96.0)\n",
    "\n",
    "# set the boundary conditions - command: fix nodeID xRestrnt? yRestrnt?\n",
    "op.fix(1, 1, 1)\n",
    "op.fix(2, 1, 1)\n",
    "op.fix(3, 1, 1)\n",
    "\n",
    "\n",
    "# Define materials for truss elements\n",
    "# -----------------------------------\n",
    "# Create Elastic material prototype - command: uniaxialMaterial Elastic matID E\n",
    "op.uniaxialMaterial(\"Elastic\", 1, 3000.0)\n",
    "\n",
    "# Define elements\n",
    "# ---------------\n",
    "# Create truss elements - command: element truss trussID node1 node2 A matID\n",
    "op.element(\"truss\", 1, 1, 4, 10.0, 1)\n",
    "op.element(\"truss\", 2, 2, 4,  5.0, 1)\n",
    "op.element(\"truss\", 3, 3, 4,  5.0, 1)\n",
    "\n",
    "# Define loads\n",
    "# ------------\n",
    "# create a Linear TimeSeries (load factor varies linearly with time) - command: timeSeries Linear $tag\n",
    "op.timeSeries(\"Linear\", 1)\n",
    "\n",
    "# create a Plain load pattern - command: pattern Plain $tag $timeSeriesTag { $loads }\n",
    "op.pattern(\"Plain\", 1, 1, \"-fact\", 1.0)\n",
    "# create the nodal load - command: load nodeID xForce yForce\n",
    "op.load(4, 100.0, -50.0)\n",
    "\n",
    "\n",
    "vfo.createODB(model=\"First_openseespy_truss\")\n",
    "\n",
    "# render the model after defining all the nodes and elements\n",
    "vfo.plot_model()\n",
    "\n",
    "# plot mode shape\n",
    "vfo.plot_model(model=\"First_openseespy_truss\",show_nodetags=\"yes\")\n",
    "\n"
   ]
  },
  {
   "cell_type": "code",
   "execution_count": 67,
   "metadata": {},
   "outputs": [],
   "source": [
    "# print model\n",
    "#printModel()\n",
    "op.printModel(\"-JSON\", \"-file\", \"Example1.1.json\")\n",
    "\n",
    "\n",
    "# ------------------------------\n",
    "# End of model generation\n",
    "# ------------------------------"
   ]
  },
  {
   "cell_type": "code",
   "execution_count": 68,
   "metadata": {},
   "outputs": [
    {
     "name": "stderr",
     "output_type": "stream",
     "text": [
      "\n",
      " Node: 4\n",
      "\tCoordinates  : 72 96 \n",
      "\tDisps: 0.530093 -0.177894 \n",
      "\tVelocities   : 0 0 \n",
      "\t unbalanced Load: 100 -50 \n",
      "\tID : 0 1 \n",
      "\n",
      "Element: 1 type: Truss  iNode: 1 jNode: 4 Area: 10 Mass/Length: 0 cMass: 0 \n",
      "\t strain: 0.00146451 axial load: 43.9352 \n",
      "\t unbalanced load: -26.3611 -35.1482 26.3611 35.1482 \n",
      " \t Material: \n",
      "Element: 2 type: Truss  iNode: 2 jNode: 4 Area: 5 Mass/Length: 0 cMass: 0 \n",
      "\t strain: -0.00383642 axial load: -57.5463 \n",
      "\t unbalanced load: -34.5278 46.0371 34.5278 -46.0371 \n",
      " \t Material: \n",
      "Element: 3 type: Truss  iNode: 3 jNode: 4 Area: 5 Mass/Length: 0 cMass: 0 \n",
      "\t strain: -0.00368743 axial load: -55.3114 \n",
      "\t unbalanced load: -39.1111 39.1111 39.1111 -39.1111 \n",
      " \t Material: \n"
     ]
    }
   ],
   "source": [
    "# ------------------------------\n",
    "# Start of analysis generation\n",
    "# ------------------------------\n",
    "\n",
    "# create the system of equation, a SPD using a band storage scheme\n",
    "op.system(\"BandSPD\")\n",
    "\n",
    "# create the DOF numberer, the reverse Cuthill-McKee algorithm\n",
    "op.numberer(\"RCM\")\n",
    "\n",
    "# create the constraint handler, a Plain handler is used as homo constraints\n",
    "op.constraints(\"Plain\")\n",
    "\n",
    "# create the solution algorithm, a Linear algorithm is created\n",
    "op.algorithm(\"Linear\")\n",
    "\n",
    "# create the integration scheme, the LoadControl scheme using steps of 1.0\n",
    "op.integrator(\"LoadControl\", 1.0)\n",
    "\n",
    "# create the analysis object \n",
    "op.analysis(\"Static\")\n",
    "\n",
    "# ------------------------------\n",
    "# End of analysis generation\n",
    "# ------------------------------\n",
    "\n",
    "\n",
    "# ------------------------------\n",
    "# Start of recorder generation\n",
    "# ------------------------------\n",
    "\n",
    "# create a Recorder object for the nodal displacements at node 4\n",
    "op.recorder(\"Node\", \"-file\", \"example.out\", \"-time\", \"-node\", 4, \"-dof\", 1, 2, \"disp\")\n",
    "\n",
    "# create a recorder for element forces, one in global and the other local system\n",
    "op.recorder(\"Element\", \"-file\", \"eleGlobal.out\", \"-time\", \"-ele\", 1, 2, 3, \"forces\")\n",
    "op.recorder(\"Element\", \"-file\", \"eleLocal.out\", \"-time\", \"-ele\", 1, 2, 3, \"basicForces\")\n",
    "\n",
    "# ------------------------------\n",
    "# End of recorder generation\n",
    "# ------------------------------\n",
    "\n",
    "\n",
    "# ------------------------------\n",
    "# Finally perform the analysis\n",
    "# ------------------------------\n",
    "\n",
    "# perform the analysis\n",
    "op.analyze(1)\n",
    "\n",
    "\n",
    "# ------------------------------\n",
    "# Print Stuff to Screen\n",
    "# ------------------------------\n",
    "\n",
    "# print the current state at node 4 and at all elements\n",
    "#print(\"node 4 displacement: \", nodeDisp(4))\n",
    "op.printModel(\"node\", 4)\n",
    "op.printModel(\"ele\")\n",
    "op.wipe()"
   ]
  }
 ],
 "metadata": {
  "kernelspec": {
   "display_name": "env_1",
   "language": "python",
   "name": "python3"
  },
  "language_info": {
   "codemirror_mode": {
    "name": "ipython",
    "version": 3
   },
   "file_extension": ".py",
   "mimetype": "text/x-python",
   "name": "python",
   "nbconvert_exporter": "python",
   "pygments_lexer": "ipython3",
   "version": "3.10.9"
  },
  "orig_nbformat": 4
 },
 "nbformat": 4,
 "nbformat_minor": 2
}
