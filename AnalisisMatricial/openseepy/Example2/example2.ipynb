{
 "cells": [
  {
   "cell_type": "code",
   "execution_count": 1,
   "metadata": {},
   "outputs": [
    {
     "name": "stderr",
     "output_type": "stream",
     "text": [
      "WARNING: invalid # of constraint values\n"
     ]
    },
    {
     "ename": "OpenSeesError",
     "evalue": "See stderr output",
     "output_type": "error",
     "traceback": [
      "\u001b[1;31m---------------------------------------------------------------------------\u001b[0m",
      "\u001b[1;31mOpenSeesError\u001b[0m                             Traceback (most recent call last)",
      "Cell \u001b[1;32mIn[1], line 14\u001b[0m\n\u001b[0;32m     11\u001b[0m op\u001b[38;5;241m.\u001b[39mnode(\u001b[38;5;241m3\u001b[39m, \u001b[38;5;241m6\u001b[39m, \u001b[38;5;241m3\u001b[39m)\n\u001b[0;32m     12\u001b[0m op\u001b[38;5;241m.\u001b[39mnode(\u001b[38;5;241m4\u001b[39m, \u001b[38;5;241m6\u001b[39m, \u001b[38;5;241m0\u001b[39m)\n\u001b[1;32m---> 14\u001b[0m \u001b[43mop\u001b[49m\u001b[38;5;241;43m.\u001b[39;49m\u001b[43mfix\u001b[49m\u001b[43m(\u001b[49m\u001b[38;5;241;43m1\u001b[39;49m\u001b[43m,\u001b[49m\u001b[43m \u001b[49m\u001b[38;5;241;43m1\u001b[39;49m\u001b[43m,\u001b[49m\u001b[43m \u001b[49m\u001b[38;5;241;43m1\u001b[39;49m\u001b[43m,\u001b[49m\u001b[43m \u001b[49m\u001b[38;5;241;43m1\u001b[39;49m\u001b[43m)\u001b[49m\n\u001b[0;32m     15\u001b[0m op\u001b[38;5;241m.\u001b[39mfix(\u001b[38;5;241m2\u001b[39m, \u001b[38;5;241m0\u001b[39m, \u001b[38;5;241m0\u001b[39m, \u001b[38;5;241m0\u001b[39m)\n\u001b[0;32m     16\u001b[0m op\u001b[38;5;241m.\u001b[39mfix(\u001b[38;5;241m3\u001b[39m, \u001b[38;5;241m0\u001b[39m, \u001b[38;5;241m0\u001b[39m, \u001b[38;5;241m0\u001b[39m)\n",
      "\u001b[1;31mOpenSeesError\u001b[0m: See stderr output"
     ]
    }
   ],
   "source": [
    "import openseespy.opensees as op\n",
    "import numpy as np\n",
    "import matplotlib.pyplot as plt\n",
    "\n",
    "op.wipe()\n",
    "\n",
    "op.model('basic', '-ndm', 2, '-ndf', 6)\n",
    "\n",
    "op.node(1, 0, 0)\n",
    "op.node(2, 0, 3)\n",
    "op.node(3, 6, 3)\n",
    "op.node(4, 6, 0)\n",
    "\n",
    "op.fix(1, 1, 1, 1)\n",
    "op.fix(2, 0, 0, 0)\n",
    "op.fix(3, 0, 0, 0)\n",
    "op.fix(4, 1, 1, 1)\n",
    "\n",
    "op.uniaxialMaterial(\"Elastic\", 1, 3000.0)\n",
    "\n",
    "op.element('truss', 1, 1, 2, 3, 1)\n",
    "op.element('truss', 2, 2, 3, 6, 2)\n",
    "op.element('truss', 3, 3, 4, 3, 1)\n",
    "\n",
    "op.timeSeries(\"Linear\", 1)\n",
    "op.pattern(\"Plain\", 1, 1)\n",
    "\n",
    "op.pattern(\"Plain\", 1, 1)\n",
    "\n",
    "op.load(2, 5, -1)\n",
    "op.load(3, -4, -1)\n",
    "\n",
    "\n",
    "# create SOE\n",
    "\n",
    "op.system(\"BandSPD\")\n",
    "op.numberer(\"RCM\")\n",
    "op.constraints(\"Plain\")\n",
    "op.integrator(\"LoadControl\", 1.0)\n",
    "op.op.algorithm(\"Linear\")\n",
    "\n",
    "op.analysis(\"Static\")\n",
    "op.analyze(1)\n",
    "\n",
    "\n",
    "ux = op.nodeDisp(3,1)\n",
    "uy = op.nodeDisp(3,2)\n",
    "\n",
    "print(ux)\n",
    "print(uy)"
   ]
  }
 ],
 "metadata": {
  "kernelspec": {
   "display_name": "env_1",
   "language": "python",
   "name": "python3"
  },
  "language_info": {
   "codemirror_mode": {
    "name": "ipython",
    "version": 3
   },
   "file_extension": ".py",
   "mimetype": "text/x-python",
   "name": "python",
   "nbconvert_exporter": "python",
   "pygments_lexer": "ipython3",
   "version": "3.8.16"
  }
 },
 "nbformat": 4,
 "nbformat_minor": 2
}
