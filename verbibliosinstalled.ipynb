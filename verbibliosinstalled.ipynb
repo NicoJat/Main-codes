{
 "cells": [
  {
   "cell_type": "code",
   "execution_count": 1,
   "metadata": {},
   "outputs": [
    {
     "name": "stdout",
     "output_type": "stream",
     "text": [
      "Nombre de Paquete              Version                       \n",
      "asttokens                      2.4.0                         \n",
      "attrs                          23.1.0                        \n",
      "backcall                       0.2.0                         \n",
      "colorama                       0.4.6                         \n",
      "comm                           0.1.4                         \n",
      "contourpy                      1.1.1                         \n",
      "cycler                         0.12.1                        \n",
      "debugpy                        1.8.0                         \n",
      "decorator                      5.1.1                         \n",
      "et-xmlfile                     1.1.0                         \n",
      "executing                      2.0.0                         \n",
      "fastjsonschema                 2.19.0                        \n",
      "fonttools                      4.43.1                        \n",
      "ipykernel                      6.25.2                        \n",
      "ipython                        8.16.1                        \n",
      "jedi                           0.19.1                        \n",
      "Jinja2                         3.1.2                         \n",
      "joblib                         1.3.2                         \n",
      "jsonschema                     4.20.0                        \n",
      "jsonschema-specifications      2023.11.1                     \n",
      "jupyter-client                 8.3.1                         \n",
      "jupyter-core                   5.4.0                         \n",
      "kiwisolver                     1.4.5                         \n",
      "MarkupSafe                     2.1.3                         \n",
      "matplotlib                     3.8.0                         \n",
      "matplotlib-inline              0.1.6                         \n",
      "mpmath                         1.3.0                         \n",
      "nbformat                       5.9.2                         \n",
      "nest-asyncio                   1.5.8                         \n",
      "numpy                          1.26.0                        \n",
      "openpyxl                       3.1.2                         \n",
      "openseespy                     3.3.0.1.1                     \n",
      "openseespywin                  3.3.0.1                       \n",
      "packaging                      23.2                          \n",
      "pandas                         2.1.1                         \n",
      "parso                          0.8.3                         \n",
      "pickleshare                    0.7.5                         \n",
      "Pillow                         10.0.1                        \n",
      "pip                            23.2.1                        \n",
      "platformdirs                   3.11.0                        \n",
      "plotly                         5.18.0                        \n",
      "prompt-toolkit                 3.0.39                        \n",
      "psutil                         5.9.5                         \n",
      "pure-eval                      0.2.2                         \n",
      "Pygments                       2.16.1                        \n",
      "pyparsing                      3.1.1                         \n",
      "python-dateutil                2.8.2                         \n",
      "pytz                           2023.3.post1                  \n",
      "pywin32                        306                           \n",
      "pyzmq                          25.1.1                        \n",
      "referencing                    0.31.0                        \n",
      "rpds-py                        0.13.0                        \n",
      "scikit-learn                   1.3.2                         \n",
      "scipy                          1.11.3                        \n",
      "seaborn                        0.13.0                        \n",
      "setuptools                     68.2.2                        \n",
      "simpy                          4.0.2                         \n",
      "six                            1.16.0                        \n",
      "stack-data                     0.6.3                         \n",
      "sympy                          1.12                          \n",
      "tenacity                       8.2.3                         \n",
      "threadpoolctl                  3.2.0                         \n",
      "tk                             0.1.0                         \n",
      "tornado                        6.3.3                         \n",
      "traitlets                      5.11.2                        \n",
      "tzdata                         2023.3                        \n",
      "wcwidth                        0.2.8                         \n"
     ]
    },
    {
     "name": "stderr",
     "output_type": "stream",
     "text": [
      "C:\\Users\\USUARIO\\AppData\\Local\\Temp\\ipykernel_5468\\2383467046.py:1: DeprecationWarning: pkg_resources is deprecated as an API. See https://setuptools.pypa.io/en/latest/pkg_resources.html\n",
      "  import pkg_resources\n"
     ]
    }
   ],
   "source": [
    "import pkg_resources\n",
    "\n",
    "lista_paquetes = [(d.project_name, d.version) for d in pkg_resources.working_set]\n",
    "lista_paquetes_ordenados = sorted(lista_paquetes, key=lambda x: x[0].lower())\n",
    "\n",
    "print(\"{0:<30} {1:<30}\".format('Nombre de Paquete', 'Version'))\n",
    "for paquete, version in lista_paquetes_ordenados:\n",
    "    print(\"{0:<30} {1:<30}\".format(paquete, version))\n"
   ]
  }
 ],
 "metadata": {
  "kernelspec": {
   "display_name": "Python 3",
   "language": "python",
   "name": "python3"
  },
  "language_info": {
   "codemirror_mode": {
    "name": "ipython",
    "version": 3
   },
   "file_extension": ".py",
   "mimetype": "text/x-python",
   "name": "python",
   "nbconvert_exporter": "python",
   "pygments_lexer": "ipython3",
   "version": "3.12.0"
  },
  "orig_nbformat": 4
 },
 "nbformat": 4,
 "nbformat_minor": 2
}
